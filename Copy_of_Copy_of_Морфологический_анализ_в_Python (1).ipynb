{
  "nbformat": 4,
  "nbformat_minor": 0,
  "metadata": {
    "colab": {
      "name": "Copy of Copy of Морфологический анализ в Python.ipynb",
      "version": "0.3.2",
      "views": {},
      "default_view": {},
      "provenance": [
        {
          "file_id": "10ab9njCv4y_K91beZVJ0g2PPP7RiJYBM",
          "timestamp": 1525701796640
        },
        {
          "file_id": "1enO0r9Ads5KkaOkqUb_08kobOAluhcpe",
          "timestamp": 1525506625049
        }
      ],
      "collapsed_sections": []
    },
    "kernelspec": {
      "name": "python3",
      "display_name": "Python 3"
    }
  },
  "cells": [
    {
      "metadata": {
        "id": "EHHK2KdKFbt0",
        "colab_type": "text"
      },
      "cell_type": "markdown",
      "source": [
        "# Домашнее задание"
      ]
    },
    {
      "metadata": {
        "id": "1yOZlmniLlkE",
        "colab_type": "text"
      },
      "cell_type": "markdown",
      "source": [
        "**Задание:** Написать веб-сервис (или бота), с которой можно разговаривать: пользователь пишет ей реплику, а она отвечает предложением, в котором все слова заменены на какие-то случайные другие слова той же части речи и с теми же грамматическими характеристиками. Предложение-ответ должно быть согласованным.\n",
        "\n",
        "Например, на фразу \"Мама мыла раму\" программа может ответить \"Девочка пела песню\".\n",
        "\n",
        "Решение нужно разместить на PythonAnywhere.\n",
        "\n",
        "Для такой программы вам понадобится большой список русских слов:\n",
        "\n",
        "можно взять список словоформ с сайта НКРЯ - http://ruscorpora.ru/corpora-freq.html\n",
        "можно взять просто любой большой текст, вытащить из него слова и использовать их.\n",
        "\n",
        "Из этого списка вам нужен только список разных лемм разных частей речи, и затем нужно будет использовать функции parse и inflect."
      ]
    },
    {
      "metadata": {
        "id": "3eLlc1P1SNTW",
        "colab_type": "text"
      },
      "cell_type": "markdown",
      "source": [
        "https://github.com/nlpub/pymystem3"
      ]
    },
    {
      "metadata": {
        "id": "NRe8mfd7SNTQ",
        "colab_type": "text"
      },
      "cell_type": "markdown",
      "source": [
        "https://github.com/nlpub/pymystem3/blob/master/pymystem3/mystem.py"
      ]
    },
    {
      "metadata": {
        "id": "x7ozDFbrLfRD",
        "colab_type": "text"
      },
      "cell_type": "markdown",
      "source": [
        "https://tech.yandex.ru/mystem/doc/grammemes-values-docpage/"
      ]
    },
    {
      "metadata": {
        "id": "Q2hR-p8_RKKc",
        "colab_type": "text"
      },
      "cell_type": "markdown",
      "source": [
        "https://pymorphy2.readthedocs.io/en/latest/\n",
        "https://pymorphy2.readthedocs.io/en/latest/user/grammemes.html\n",
        "\n"
      ]
    },
    {
      "metadata": {
        "id": "a4Ee2sAKmY44",
        "colab_type": "text"
      },
      "cell_type": "markdown",
      "source": [
        "Установка необходимых библиотек."
      ]
    },
    {
      "metadata": {
        "id": "jTkvIB1S_Zhi",
        "colab_type": "code",
        "colab": {
          "autoexec": {
            "startup": false,
            "wait_interval": 0
          },
          "base_uri": "https://localhost:8080/",
          "height": 289
        },
        "outputId": "6a4db14a-5bc3-4c40-c66a-b6c3fa68b004",
        "executionInfo": {
          "status": "ok",
          "timestamp": 1525883618819,
          "user_tz": -120,
          "elapsed": 4694,
          "user": {
            "displayName": "Ekaterina Loginova",
            "photoUrl": "//lh5.googleusercontent.com/-rTHOnLQH_r8/AAAAAAAAAAI/AAAAAAAALEs/6WzKwScZqD0/s50-c-k-no/photo.jpg",
            "userId": "104307473242491844073"
          }
        }
      },
      "cell_type": "code",
      "source": [
        "!pip install pymorphy2"
      ],
      "execution_count": 12,
      "outputs": [
        {
          "output_type": "stream",
          "text": [
            "Collecting pymorphy2\n",
            "  Using cached https://files.pythonhosted.org/packages/a3/33/fff9675c68b5f6c63ec8c6e6ff57827dda28a1fa5b2c2d727dffff92dd47/pymorphy2-0.8-py2.py3-none-any.whl\n",
            "Collecting docopt>=0.6 (from pymorphy2)\n",
            "  Downloading https://files.pythonhosted.org/packages/a2/55/8f8cab2afd404cf578136ef2cc5dfb50baa1761b68c9da1fb1e4eed343c9/docopt-0.6.2.tar.gz\n",
            "Collecting dawg-python>=0.7 (from pymorphy2)\n",
            "  Downloading https://files.pythonhosted.org/packages/6a/84/ff1ce2071d4c650ec85745766c0047ccc3b5036f1d03559fd46bb38b5eeb/DAWG_Python-0.7.2-py2.py3-none-any.whl\n",
            "Collecting pymorphy2-dicts<3.0,>=2.4 (from pymorphy2)\n",
            "\u001b[?25l  Downloading https://files.pythonhosted.org/packages/02/51/2465fd4f72328ab50877b54777764d928da8cb15b74e2680fc1bd8cb3173/pymorphy2_dicts-2.4.393442.3710985-py2.py3-none-any.whl (7.1MB)\n",
            "\u001b[K    100% |████████████████████████████████| 7.1MB 4.0MB/s \n",
            "\u001b[?25hBuilding wheels for collected packages: docopt\n",
            "  Running setup.py bdist_wheel for docopt ... \u001b[?25l-\b \bdone\n",
            "\u001b[?25h  Stored in directory: /content/.cache/pip/wheels/9b/04/dd/7daf4150b6d9b12949298737de9431a324d4b797ffd63f526e\n",
            "Successfully built docopt\n",
            "Installing collected packages: docopt, dawg-python, pymorphy2-dicts, pymorphy2\n",
            "Successfully installed dawg-python-0.7.2 docopt-0.6.2 pymorphy2-0.8 pymorphy2-dicts-2.4.393442.3710985\n"
          ],
          "name": "stdout"
        }
      ]
    },
    {
      "metadata": {
        "id": "lP1mPwf1EFYy",
        "colab_type": "code",
        "colab": {
          "autoexec": {
            "startup": false,
            "wait_interval": 0
          },
          "base_uri": "https://localhost:8080/",
          "height": 255
        },
        "outputId": "50b1bfc4-5caf-40d5-a23d-198257cc906b",
        "executionInfo": {
          "status": "ok",
          "timestamp": 1525883627072,
          "user_tz": -120,
          "elapsed": 4535,
          "user": {
            "displayName": "Ekaterina Loginova",
            "photoUrl": "//lh5.googleusercontent.com/-rTHOnLQH_r8/AAAAAAAAAAI/AAAAAAAALEs/6WzKwScZqD0/s50-c-k-no/photo.jpg",
            "userId": "104307473242491844073"
          }
        }
      },
      "cell_type": "code",
      "source": [
        "!pip install pymystem3"
      ],
      "execution_count": 13,
      "outputs": [
        {
          "output_type": "stream",
          "text": [
            "Collecting pymystem3\n",
            "  Downloading https://files.pythonhosted.org/packages/89/df/830317a0fc4baefd18bdb8294cb2e3eb1729afeeb983c90413019bbcc797/pymystem3-0.1.9.tar.gz\n",
            "Requirement already satisfied: requests in /usr/local/lib/python3.6/dist-packages (from pymystem3) (2.18.4)\n",
            "Requirement already satisfied: idna<2.7,>=2.5 in /usr/local/lib/python3.6/dist-packages (from requests->pymystem3) (2.6)\n",
            "Requirement already satisfied: urllib3<1.23,>=1.21.1 in /usr/local/lib/python3.6/dist-packages (from requests->pymystem3) (1.22)\n",
            "Requirement already satisfied: chardet<3.1.0,>=3.0.2 in /usr/local/lib/python3.6/dist-packages (from requests->pymystem3) (3.0.4)\n",
            "Requirement already satisfied: certifi>=2017.4.17 in /usr/local/lib/python3.6/dist-packages (from requests->pymystem3) (2018.4.16)\n",
            "Building wheels for collected packages: pymystem3\n",
            "  Running setup.py bdist_wheel for pymystem3 ... \u001b[?25l-\b \b\\\b \b|\b \b/\b \b-\b \bdone\n",
            "\u001b[?25h  Stored in directory: /content/.cache/pip/wheels/55/d3/d3/324a9502a055d4c651f7e61113fe60ad2df54ab7244a6dae6e\n",
            "Successfully built pymystem3\n",
            "Installing collected packages: pymystem3\n",
            "Successfully installed pymystem3-0.1.9\n"
          ],
          "name": "stdout"
        }
      ]
    },
    {
      "metadata": {
        "id": "WlttxuzpmekU",
        "colab_type": "text"
      },
      "cell_type": "markdown",
      "source": [
        "Скачиваем слова из корпуса русского языка."
      ]
    },
    {
      "metadata": {
        "id": "Ie8EqHsiBrBQ",
        "colab_type": "code",
        "colab": {
          "autoexec": {
            "startup": false,
            "wait_interval": 0
          },
          "base_uri": "https://localhost:8080/",
          "height": 222
        },
        "outputId": "7d2487d5-ec9d-4cd0-b402-e8c7e0bfef23",
        "executionInfo": {
          "status": "ok",
          "timestamp": 1525883549595,
          "user_tz": -120,
          "elapsed": 12867,
          "user": {
            "displayName": "Ekaterina Loginova",
            "photoUrl": "//lh5.googleusercontent.com/-rTHOnLQH_r8/AAAAAAAAAAI/AAAAAAAALEs/6WzKwScZqD0/s50-c-k-no/photo.jpg",
            "userId": "104307473242491844073"
          }
        }
      },
      "cell_type": "code",
      "source": [
        "!wget http://ruscorpora.ru/ngrams/1grams-3.zip"
      ],
      "execution_count": 1,
      "outputs": [
        {
          "output_type": "stream",
          "text": [
            "--2018-05-09 16:32:19--  http://ruscorpora.ru/ngrams/1grams-3.zip\n",
            "Resolving ruscorpora.ru (ruscorpora.ru)... 94.127.67.66\n",
            "Connecting to ruscorpora.ru (ruscorpora.ru)|94.127.67.66|:80... connected.\n",
            "HTTP request sent, awaiting response... 200 OK\n",
            "Length: 5663668 (5.4M) [application/zip]\n",
            "Saving to: ‘1grams-3.zip’\n",
            "\n",
            "1grams-3.zip        100%[===================>]   5.40M   427KB/s    in 10s     \n",
            "\n",
            "2018-05-09 16:32:30 (528 KB/s) - ‘1grams-3.zip’ saved [5663668/5663668]\n",
            "\n"
          ],
          "name": "stdout"
        }
      ]
    },
    {
      "metadata": {
        "id": "BCUvAjWTDDGj",
        "colab_type": "code",
        "colab": {
          "autoexec": {
            "startup": false,
            "wait_interval": 0
          },
          "base_uri": "https://localhost:8080/",
          "height": 50
        },
        "outputId": "122ebaaf-dde2-41cc-d0d7-fc0363f2a606",
        "executionInfo": {
          "status": "ok",
          "timestamp": 1525883565775,
          "user_tz": -120,
          "elapsed": 1898,
          "user": {
            "displayName": "Ekaterina Loginova",
            "photoUrl": "//lh5.googleusercontent.com/-rTHOnLQH_r8/AAAAAAAAAAI/AAAAAAAALEs/6WzKwScZqD0/s50-c-k-no/photo.jpg",
            "userId": "104307473242491844073"
          }
        }
      },
      "cell_type": "code",
      "source": [
        "!unzip 1grams-3.zip"
      ],
      "execution_count": 2,
      "outputs": [
        {
          "output_type": "stream",
          "text": [
            "Archive:  1grams-3.zip\n",
            "  inflating: 1grams-3.txt            \n"
          ],
          "name": "stdout"
        }
      ]
    },
    {
      "metadata": {
        "id": "aEU2K1tBDJcN",
        "colab_type": "code",
        "colab": {
          "autoexec": {
            "startup": false,
            "wait_interval": 0
          }
        }
      },
      "cell_type": "code",
      "source": [
        "with open('1grams-3.txt', 'r') as f:\n",
        "  content = f.readlines()"
      ],
      "execution_count": 0,
      "outputs": []
    },
    {
      "metadata": {
        "id": "b2uDn38UDR0-",
        "colab_type": "code",
        "colab": {
          "autoexec": {
            "startup": false,
            "wait_interval": 0
          },
          "base_uri": "https://localhost:8080/",
          "height": 185
        },
        "outputId": "7345338d-6e6a-4cf1-faf1-d46521d755e6",
        "executionInfo": {
          "status": "ok",
          "timestamp": 1525883571112,
          "user_tz": -120,
          "elapsed": 1160,
          "user": {
            "displayName": "Ekaterina Loginova",
            "photoUrl": "//lh5.googleusercontent.com/-rTHOnLQH_r8/AAAAAAAAAAI/AAAAAAAALEs/6WzKwScZqD0/s50-c-k-no/photo.jpg",
            "userId": "104307473242491844073"
          }
        }
      },
      "cell_type": "code",
      "source": [
        "content[0:10]"
      ],
      "execution_count": 4,
      "outputs": [
        {
          "output_type": "execute_result",
          "data": {
            "text/plain": [
              "['6829968\\tи\\n',\n",
              " '5190215\\tв\\n',\n",
              " '3164900\\tне\\n',\n",
              " '2729210\\tна\\n',\n",
              " '2064408\\tс\\n',\n",
              " '2064178\\tчто\\n',\n",
              " '1146383\\tкак\\n',\n",
              " '1092177\\tя\\n',\n",
              " '1046292\\tк\\n',\n",
              " '1040711\\tон\\n']"
            ]
          },
          "metadata": {
            "tags": []
          },
          "execution_count": 4
        }
      ]
    },
    {
      "metadata": {
        "id": "We17WcjPDfzW",
        "colab_type": "code",
        "colab": {
          "autoexec": {
            "startup": false,
            "wait_interval": 0
          },
          "base_uri": "https://localhost:8080/",
          "height": 34
        },
        "outputId": "b809f3cd-3d01-41bc-fc16-11a73918ef74",
        "executionInfo": {
          "status": "ok",
          "timestamp": 1525883574391,
          "user_tz": -120,
          "elapsed": 611,
          "user": {
            "displayName": "Ekaterina Loginova",
            "photoUrl": "//lh5.googleusercontent.com/-rTHOnLQH_r8/AAAAAAAAAAI/AAAAAAAALEs/6WzKwScZqD0/s50-c-k-no/photo.jpg",
            "userId": "104307473242491844073"
          }
        }
      },
      "cell_type": "code",
      "source": [
        "content[0].split('\\t')[-1].strip()"
      ],
      "execution_count": 5,
      "outputs": [
        {
          "output_type": "execute_result",
          "data": {
            "text/plain": [
              "'и'"
            ]
          },
          "metadata": {
            "tags": []
          },
          "execution_count": 5
        }
      ]
    },
    {
      "metadata": {
        "id": "jHI6R4XsDbpE",
        "colab_type": "code",
        "colab": {
          "autoexec": {
            "startup": false,
            "wait_interval": 0
          }
        }
      },
      "cell_type": "code",
      "source": [
        "words = [line.split('\\t')[-1].strip() for line in content]"
      ],
      "execution_count": 0,
      "outputs": []
    },
    {
      "metadata": {
        "id": "xjpIjOTZDphi",
        "colab_type": "code",
        "colab": {
          "autoexec": {
            "startup": false,
            "wait_interval": 0
          },
          "base_uri": "https://localhost:8080/",
          "height": 34
        },
        "outputId": "70715c3e-da5d-4633-8654-498afcdc735a",
        "executionInfo": {
          "status": "ok",
          "timestamp": 1525883580414,
          "user_tz": -120,
          "elapsed": 896,
          "user": {
            "displayName": "Ekaterina Loginova",
            "photoUrl": "//lh5.googleusercontent.com/-rTHOnLQH_r8/AAAAAAAAAAI/AAAAAAAALEs/6WzKwScZqD0/s50-c-k-no/photo.jpg",
            "userId": "104307473242491844073"
          }
        }
      },
      "cell_type": "code",
      "source": [
        "len(words)"
      ],
      "execution_count": 7,
      "outputs": [
        {
          "output_type": "execute_result",
          "data": {
            "text/plain": [
              "1054210"
            ]
          },
          "metadata": {
            "tags": []
          },
          "execution_count": 7
        }
      ]
    },
    {
      "metadata": {
        "id": "yE4CxJ9TDrb2",
        "colab_type": "code",
        "colab": {
          "autoexec": {
            "startup": false,
            "wait_interval": 0
          },
          "base_uri": "https://localhost:8080/",
          "height": 34
        },
        "outputId": "10d9bafe-0056-4b89-f2f3-0c227028e628",
        "executionInfo": {
          "status": "ok",
          "timestamp": 1525883585160,
          "user_tz": -120,
          "elapsed": 1659,
          "user": {
            "displayName": "Ekaterina Loginova",
            "photoUrl": "//lh5.googleusercontent.com/-rTHOnLQH_r8/AAAAAAAAAAI/AAAAAAAALEs/6WzKwScZqD0/s50-c-k-no/photo.jpg",
            "userId": "104307473242491844073"
          }
        }
      },
      "cell_type": "code",
      "source": [
        "len(set(words))"
      ],
      "execution_count": 8,
      "outputs": [
        {
          "output_type": "execute_result",
          "data": {
            "text/plain": [
              "1054210"
            ]
          },
          "metadata": {
            "tags": []
          },
          "execution_count": 8
        }
      ]
    },
    {
      "metadata": {
        "id": "17HNabaTFftf",
        "colab_type": "text"
      },
      "cell_type": "markdown",
      "source": [
        "# Программа"
      ]
    },
    {
      "metadata": {
        "id": "bjjmuZcWDIpw",
        "colab_type": "text"
      },
      "cell_type": "markdown",
      "source": [
        "Импортируем библиотеки."
      ]
    },
    {
      "metadata": {
        "id": "JDGtODx9ENmD",
        "colab_type": "code",
        "colab": {
          "autoexec": {
            "startup": false,
            "wait_interval": 0
          }
        }
      },
      "cell_type": "code",
      "source": [
        "from pymystem3 import Mystem\n",
        "import pymorphy2\n",
        "from pymorphy2 import MorphAnalyzer"
      ],
      "execution_count": 0,
      "outputs": []
    },
    {
      "metadata": {
        "id": "sIVXJwEwmqFE",
        "colab_type": "text"
      },
      "cell_type": "markdown",
      "source": [
        "Создаем экземпляры морфологических парсеров."
      ]
    },
    {
      "metadata": {
        "id": "05qMBgjnFOw0",
        "colab_type": "code",
        "colab": {
          "autoexec": {
            "startup": false,
            "wait_interval": 0
          },
          "base_uri": "https://localhost:8080/",
          "height": 54
        },
        "outputId": "70ea8acf-6006-4330-9fb7-41499489809d",
        "executionInfo": {
          "status": "ok",
          "timestamp": 1525883637953,
          "user_tz": -120,
          "elapsed": 3728,
          "user": {
            "displayName": "Ekaterina Loginova",
            "photoUrl": "//lh5.googleusercontent.com/-rTHOnLQH_r8/AAAAAAAAAAI/AAAAAAAALEs/6WzKwScZqD0/s50-c-k-no/photo.jpg",
            "userId": "104307473242491844073"
          }
        }
      },
      "cell_type": "code",
      "source": [
        "morph = MorphAnalyzer()\n",
        "m = Mystem()"
      ],
      "execution_count": 15,
      "outputs": [
        {
          "output_type": "stream",
          "text": [
            "Installing mystem to /content/.local/bin/mystem from http://download.cdn.yandex.net/mystem/mystem-3.0-linux3.1-64bit.tar.gz\n"
          ],
          "name": "stderr"
        }
      ]
    },
    {
      "metadata": {
        "id": "pRHmjQUsm3SV",
        "colab_type": "text"
      },
      "cell_type": "markdown",
      "source": [
        "Пример функций Mystem"
      ]
    },
    {
      "metadata": {
        "id": "q13e5lo3m3b-",
        "colab_type": "code",
        "colab": {
          "autoexec": {
            "startup": false,
            "wait_interval": 0
          }
        }
      },
      "cell_type": "code",
      "source": [
        "text = 'Мама мыла раму'"
      ],
      "execution_count": 0,
      "outputs": []
    },
    {
      "metadata": {
        "id": "wsnYTugNIGU6",
        "colab_type": "code",
        "colab": {
          "autoexec": {
            "startup": false,
            "wait_interval": 0
          },
          "base_uri": "https://localhost:8080/",
          "height": 54
        },
        "outputId": "1663e10c-42e6-4418-d5f8-a216b74ea2e6",
        "executionInfo": {
          "status": "ok",
          "timestamp": 1525883644078,
          "user_tz": -120,
          "elapsed": 966,
          "user": {
            "displayName": "Ekaterina Loginova",
            "photoUrl": "//lh5.googleusercontent.com/-rTHOnLQH_r8/AAAAAAAAAAI/AAAAAAAALEs/6WzKwScZqD0/s50-c-k-no/photo.jpg",
            "userId": "104307473242491844073"
          }
        }
      },
      "cell_type": "code",
      "source": [
        "ana = m.analyze(text)\n",
        "print(ana)"
      ],
      "execution_count": 18,
      "outputs": [
        {
          "output_type": "stream",
          "text": [
            "[{'analysis': [{'lex': 'мама', 'gr': 'S,жен,од=им,ед'}], 'text': 'Мама'}, {'text': ' '}, {'analysis': [{'lex': 'мыть', 'gr': 'V,несов,пе=прош,ед,изъяв,жен'}], 'text': 'мыла'}, {'text': ' '}, {'analysis': [{'lex': 'рама', 'gr': 'S,жен,неод=вин,ед'}], 'text': 'раму'}, {'text': '\\n'}]\n"
          ],
          "name": "stdout"
        }
      ]
    },
    {
      "metadata": {
        "id": "fWBHjOqZIxH9",
        "colab_type": "code",
        "colab": {
          "autoexec": {
            "startup": false,
            "wait_interval": 0
          },
          "base_uri": "https://localhost:8080/",
          "height": 34
        },
        "outputId": "b8e6d91d-30e2-438d-89de-dd813d85d659",
        "executionInfo": {
          "status": "ok",
          "timestamp": 1525883645499,
          "user_tz": -120,
          "elapsed": 568,
          "user": {
            "displayName": "Ekaterina Loginova",
            "photoUrl": "//lh5.googleusercontent.com/-rTHOnLQH_r8/AAAAAAAAAAI/AAAAAAAALEs/6WzKwScZqD0/s50-c-k-no/photo.jpg",
            "userId": "104307473242491844073"
          }
        }
      },
      "cell_type": "code",
      "source": [
        "lemmas = m.lemmatize(text)\n",
        "print(lemmas)"
      ],
      "execution_count": 19,
      "outputs": [
        {
          "output_type": "stream",
          "text": [
            "['мама', ' ', 'мыть', ' ', 'рама', '\\n']\n"
          ],
          "name": "stdout"
        }
      ]
    },
    {
      "metadata": {
        "id": "Y192eDREm9rs",
        "colab_type": "text"
      },
      "cell_type": "markdown",
      "source": [
        "Пример функций PyMorphy"
      ]
    },
    {
      "metadata": {
        "id": "X1zPNwtKHIiO",
        "colab_type": "code",
        "colab": {
          "autoexec": {
            "startup": false,
            "wait_interval": 0
          },
          "base_uri": "https://localhost:8080/",
          "height": 87
        },
        "outputId": "cdec0d4d-3e13-47da-9eb4-41b9261a0dd8",
        "executionInfo": {
          "status": "ok",
          "timestamp": 1525883647714,
          "user_tz": -120,
          "elapsed": 998,
          "user": {
            "displayName": "Ekaterina Loginova",
            "photoUrl": "//lh5.googleusercontent.com/-rTHOnLQH_r8/AAAAAAAAAAI/AAAAAAAALEs/6WzKwScZqD0/s50-c-k-no/photo.jpg",
            "userId": "104307473242491844073"
          }
        }
      },
      "cell_type": "code",
      "source": [
        "tokens = text.split()\n",
        "for token in tokens:\n",
        "  print(morph.parse(token))"
      ],
      "execution_count": 20,
      "outputs": [
        {
          "output_type": "stream",
          "text": [
            "[Parse(word='мама', tag=OpencorporaTag('NOUN,anim,femn sing,nomn'), normal_form='мама', score=1.0, methods_stack=((<DictionaryAnalyzer>, 'мама', 1907, 0),))]\n",
            "[Parse(word='мыла', tag=OpencorporaTag('NOUN,inan,neut sing,gent'), normal_form='мыло', score=0.333333, methods_stack=((<DictionaryAnalyzer>, 'мыла', 54, 1),)), Parse(word='мыла', tag=OpencorporaTag('VERB,impf,tran femn,sing,past,indc'), normal_form='мыть', score=0.333333, methods_stack=((<DictionaryAnalyzer>, 'мыла', 1813, 8),)), Parse(word='мыла', tag=OpencorporaTag('NOUN,inan,neut plur,nomn'), normal_form='мыло', score=0.166666, methods_stack=((<DictionaryAnalyzer>, 'мыла', 54, 6),)), Parse(word='мыла', tag=OpencorporaTag('NOUN,inan,neut plur,accs'), normal_form='мыло', score=0.166666, methods_stack=((<DictionaryAnalyzer>, 'мыла', 54, 9),))]\n",
            "[Parse(word='раму', tag=OpencorporaTag('NOUN,inan,masc,Geox sing,datv'), normal_form='рам', score=0.5, methods_stack=((<DictionaryAnalyzer>, 'раму', 32, 2),)), Parse(word='раму', tag=OpencorporaTag('NOUN,inan,femn sing,accs'), normal_form='рама', score=0.5, methods_stack=((<DictionaryAnalyzer>, 'раму', 55, 3),))]\n"
          ],
          "name": "stdout"
        }
      ]
    },
    {
      "metadata": {
        "id": "URMiyZ6RHvAM",
        "colab_type": "code",
        "colab": {
          "autoexec": {
            "startup": false,
            "wait_interval": 0
          },
          "base_uri": "https://localhost:8080/",
          "height": 138
        },
        "outputId": "bcb01b79-5dcc-4b4e-e54b-0cf193850806",
        "executionInfo": {
          "status": "ok",
          "timestamp": 1525883649434,
          "user_tz": -120,
          "elapsed": 749,
          "user": {
            "displayName": "Ekaterina Loginova",
            "photoUrl": "//lh5.googleusercontent.com/-rTHOnLQH_r8/AAAAAAAAAAI/AAAAAAAALEs/6WzKwScZqD0/s50-c-k-no/photo.jpg",
            "userId": "104307473242491844073"
          }
        }
      },
      "cell_type": "code",
      "source": [
        "for lemma in lemmas:\n",
        "  print(morph.parse(lemma))"
      ],
      "execution_count": 21,
      "outputs": [
        {
          "output_type": "stream",
          "text": [
            "[Parse(word='мама', tag=OpencorporaTag('NOUN,anim,femn sing,nomn'), normal_form='мама', score=1.0, methods_stack=((<DictionaryAnalyzer>, 'мама', 1907, 0),))]\n",
            "[Parse(word=' ', tag=OpencorporaTag('UNKN'), normal_form=' ', score=1.0, methods_stack=((<UnknAnalyzer>, ' '),))]\n",
            "[Parse(word='мыть', tag=OpencorporaTag('INFN,impf,tran'), normal_form='мыть', score=1.0, methods_stack=((<DictionaryAnalyzer>, 'мыть', 1813, 0),))]\n",
            "[Parse(word=' ', tag=OpencorporaTag('UNKN'), normal_form=' ', score=1.0, methods_stack=((<UnknAnalyzer>, ' '),))]\n",
            "[Parse(word='рама', tag=OpencorporaTag('NOUN,inan,masc,Geox sing,gent'), normal_form='рам', score=0.5, methods_stack=((<DictionaryAnalyzer>, 'рама', 32, 1),)), Parse(word='рама', tag=OpencorporaTag('NOUN,inan,femn sing,nomn'), normal_form='рама', score=0.5, methods_stack=((<DictionaryAnalyzer>, 'рама', 55, 0),))]\n",
            "[Parse(word='\\n', tag=OpencorporaTag('ROMN'), normal_form='\\n', score=1.0, methods_stack=((<RomanNumberAnalyzer>, '\\n'),))]\n"
          ],
          "name": "stdout"
        }
      ]
    },
    {
      "metadata": {
        "id": "ZiKgLxi5GlDq",
        "colab_type": "text"
      },
      "cell_type": "markdown",
      "source": [
        "Порядок действий:\n",
        "1. Распарсить входное предложение - получить части речи и остальные грамматические характеристики. (с помощью pymorphy)\n",
        "2. Выбрать случайную лемму той же части речи для каждого слова.\n",
        "3. Применить к каждой лемме inflect с входными грамматическими характеристиками."
      ]
    },
    {
      "metadata": {
        "id": "Y6Wn9aHUnG9F",
        "colab_type": "text"
      },
      "cell_type": "markdown",
      "source": [
        "Получаем теги частеречной разметки Mystem для каждого слова."
      ]
    },
    {
      "metadata": {
        "id": "wzetbQRyKGRp",
        "colab_type": "code",
        "colab": {
          "autoexec": {
            "startup": false,
            "wait_interval": 0
          },
          "base_uri": "https://localhost:8080/",
          "height": 34
        },
        "outputId": "902558b8-fb38-461b-eae8-809815394ce0",
        "executionInfo": {
          "status": "ok",
          "timestamp": 1525883651104,
          "user_tz": -120,
          "elapsed": 625,
          "user": {
            "displayName": "Ekaterina Loginova",
            "photoUrl": "//lh5.googleusercontent.com/-rTHOnLQH_r8/AAAAAAAAAAI/AAAAAAAALEs/6WzKwScZqD0/s50-c-k-no/photo.jpg",
            "userId": "104307473242491844073"
          }
        }
      },
      "cell_type": "code",
      "source": [
        "pos_tags = []\n",
        "for an in ana:\n",
        "  if 'analysis' in an.keys():\n",
        "    pos_tags.append(an['analysis'][0]['gr'].split(',')[0])\n",
        "print(pos_tags)"
      ],
      "execution_count": 22,
      "outputs": [
        {
          "output_type": "stream",
          "text": [
            "['S', 'V', 'S']\n"
          ],
          "name": "stdout"
        }
      ]
    },
    {
      "metadata": {
        "id": "Nrh-3TuVnOwj",
        "colab_type": "text"
      },
      "cell_type": "markdown",
      "source": [
        "Нам нужно уметь выбирать новое случайное слово заданной части речи. Для этого необходимо соответствие между словами корпуса и частеречными тегами.\n",
        "Создаем словарь, где ключами будут части речи, а значениями - принадлежещие им слова."
      ]
    },
    {
      "metadata": {
        "id": "VU7r_rljLlaR",
        "colab_type": "code",
        "colab": {
          "autoexec": {
            "startup": false,
            "wait_interval": 0
          },
          "base_uri": "https://localhost:8080/",
          "height": 17
        },
        "outputId": "2de02db3-024d-4ab5-8580-02859d5c7978",
        "executionInfo": {
          "status": "ok",
          "timestamp": 1525884762458,
          "user_tz": -120,
          "elapsed": 5859,
          "user": {
            "displayName": "Ekaterina Loginova",
            "photoUrl": "//lh5.googleusercontent.com/-rTHOnLQH_r8/AAAAAAAAAAI/AAAAAAAALEs/6WzKwScZqD0/s50-c-k-no/photo.jpg",
            "userId": "104307473242491844073"
          }
        }
      },
      "cell_type": "code",
      "source": [
        "word_pos_dict = {}\n",
        "num_words = 10000\n",
        "for i, word in enumerate(words[:num_words]):\n",
        "  print(i, end = '\\r')\n",
        "  word = m.lemmatize(word)[0]\n",
        "  ana = m.analyze(word)\n",
        "  if 'analysis' in ana[0].keys():\n",
        "    if len(ana[0]['analysis']) > 0:\n",
        "      pos_tag = ana[0]['analysis'][0]['gr'].split(',')[0]\n",
        "      if '=' in pos_tag:\n",
        "        pos_tag = pos_tag.split('=')[0]\n",
        "      if pos_tag in word_pos_dict.keys():\n",
        "        word_pos_dict[pos_tag] = word_pos_dict[pos_tag] + [word]\n",
        "      else:\n",
        "        word_pos_dict[pos_tag] = [word]"
      ],
      "execution_count": 40,
      "outputs": [
        {
          "output_type": "stream",
          "text": [
            ""
          ],
          "name": "stdout"
        }
      ]
    },
    {
      "metadata": {
        "id": "9sDoHfEJwTqm",
        "colab_type": "code",
        "colab": {
          "autoexec": {
            "startup": false,
            "wait_interval": 0
          },
          "base_uri": "https://localhost:8080/",
          "height": 34
        },
        "outputId": "f0dff5fa-f1c2-4d1d-a46f-ef3b940b3c19",
        "executionInfo": {
          "status": "ok",
          "timestamp": 1525884764231,
          "user_tz": -120,
          "elapsed": 494,
          "user": {
            "displayName": "Ekaterina Loginova",
            "photoUrl": "//lh5.googleusercontent.com/-rTHOnLQH_r8/AAAAAAAAAAI/AAAAAAAALEs/6WzKwScZqD0/s50-c-k-no/photo.jpg",
            "userId": "104307473242491844073"
          }
        }
      },
      "cell_type": "code",
      "source": [
        "print('Количество слов:', sum([len(x)  for x in word_pos_dict.values()]))"
      ],
      "execution_count": 41,
      "outputs": [
        {
          "output_type": "stream",
          "text": [
            "Количество слов: 9813\n"
          ],
          "name": "stdout"
        }
      ]
    },
    {
      "metadata": {
        "id": "hOPFmuzaN9Eh",
        "colab_type": "code",
        "colab": {
          "autoexec": {
            "startup": false,
            "wait_interval": 0
          },
          "base_uri": "https://localhost:8080/",
          "height": 54
        },
        "outputId": "8ff04e61-3fc9-481f-f502-c77c8b59b23a",
        "executionInfo": {
          "status": "ok",
          "timestamp": 1525883744199,
          "user_tz": -120,
          "elapsed": 587,
          "user": {
            "displayName": "Ekaterina Loginova",
            "photoUrl": "//lh5.googleusercontent.com/-rTHOnLQH_r8/AAAAAAAAAAI/AAAAAAAALEs/6WzKwScZqD0/s50-c-k-no/photo.jpg",
            "userId": "104307473242491844073"
          }
        }
      },
      "cell_type": "code",
      "source": [
        "word_pos_dict.keys()"
      ],
      "execution_count": 29,
      "outputs": [
        {
          "output_type": "execute_result",
          "data": {
            "text/plain": [
              "dict_keys(['CONJ', 'S', 'PART', 'PR', 'SPRO', 'ADVPRO', 'INTJ', 'V', 'ADV', 'APRO', 'NUM', 'A', 'ANUM'])"
            ]
          },
          "metadata": {
            "tags": []
          },
          "execution_count": 29
        }
      ]
    },
    {
      "metadata": {
        "id": "JUCdt33unkdb",
        "colab_type": "text"
      },
      "cell_type": "markdown",
      "source": [
        "Фильтруем по длине, чтобы исключить однобуквенные слова, оставшиеся после автоматической обработки инициалов, аббревиатур и т.п."
      ]
    },
    {
      "metadata": {
        "id": "npS_Mv4TUR3t",
        "colab_type": "code",
        "colab": {
          "autoexec": {
            "startup": false,
            "wait_interval": 0
          }
        }
      },
      "cell_type": "code",
      "source": [
        "candidates_pos = {}\n",
        "for key, val in word_pos_dict.items():\n",
        "  if key != 'PART' and key != 'PR' and key != 'SPRO':\n",
        "    candidates_pos[key] = [x for x in set(val) if len(x) > 1]\n",
        "  else:\n",
        "    candidates_pos[key] = set(val)"
      ],
      "execution_count": 0,
      "outputs": []
    },
    {
      "metadata": {
        "id": "8RPD0iVg0x-V",
        "colab_type": "code",
        "colab": {
          "autoexec": {
            "startup": false,
            "wait_interval": 0
          },
          "base_uri": "https://localhost:8080/",
          "height": 672
        },
        "cellView": "code",
        "outputId": "9b5d4d1c-7bb8-487b-82d0-612f359931b6",
        "executionInfo": {
          "status": "ok",
          "timestamp": 1525885247244,
          "user_tz": -120,
          "elapsed": 1843,
          "user": {
            "displayName": "Ekaterina Loginova",
            "photoUrl": "//lh5.googleusercontent.com/-rTHOnLQH_r8/AAAAAAAAAAI/AAAAAAAALEs/6WzKwScZqD0/s50-c-k-no/photo.jpg",
            "userId": "104307473242491844073"
          }
        }
      },
      "cell_type": "code",
      "source": [
        "m = Mystem()\n",
        "for key, val in candidates_pos.items():\n",
        "  non_changeable = []\n",
        "  changeable = []\n",
        "  for x in val:\n",
        "    an = m.analyze(x)[0]\n",
        "    non_changeable_current, changeable_current = an['analysis'][0]['gr'].split('=')\n",
        "    if '|' in changeable_current:\n",
        "      changeable_current = changeable_current.replace('(', '').replace(')', '').split(\"|\")[0]\n",
        "    non_changeable.extend(non_changeable_current.split(','))\n",
        "    changeable.extend(changeable_current.split(','))\n",
        "  print(key)\n",
        "  print('изменяемые:', set(changeable))\n",
        "  print('неизменяемые:', set(non_changeable))"
      ],
      "execution_count": 52,
      "outputs": [
        {
          "output_type": "stream",
          "text": [
            "CONJ\n",
            "изменяемые: {''}\n",
            "неизменяемые: {'вводн', 'CONJ'}\n",
            "S\n",
            "изменяемые: {'', 'пр', 'им', 'мн', 'муж', 'од', 'вин', 'твор', 'род', 'ед'}\n",
            "неизменяемые: {'S', 'мн', 'им', 'муж', 'жен', 'сокр', 'од', 'мж', 'неод', 'сред', 'отч', 'фам', 'гео', 'reserved', 'устар', 'имя', 'разг', 'ед'}\n",
            "PART\n",
            "изменяемые: {''}\n",
            "неизменяемые: {'вводн', 'PART'}\n",
            "PR\n",
            "изменяемые: {''}\n",
            "неизменяемые: {'PR'}\n",
            "SPRO\n",
            "изменяемые: {'', 'ед', 'вин', 'им'}\n",
            "неизменяемые: {'мн', 'им', 'муж', 'жен', '2-л', 'од', 'неод', 'сред', '1-л', '3-л', 'ед', 'SPRO'}\n",
            "ADVPRO\n",
            "изменяемые: {''}\n",
            "неизменяемые: {'вводн', 'ADVPRO'}\n",
            "INTJ\n",
            "изменяемые: {''}\n",
            "неизменяемые: {'INTJ'}\n",
            "V\n",
            "изменяемые: {'полн', 'изъяв', 'несов', 'страд', 'муж', 'инф', 'пе', 'вин', 'прош', 'неод', 'нп', 'сов', 'непрош', '3-л', 'ед', 'прич'}\n",
            "неизменяемые: {'несов', 'V', 'пе', 'нп', 'сов'}\n",
            "ADV\n",
            "изменяемые: {'', 'вводн', 'срав'}\n",
            "неизменяемые: {'вводн', 'ADV', 'прдк'}\n",
            "APRO\n",
            "изменяемые: {'полн', 'пр', 'муж', 'жен', 'од', 'вин', 'неод', 'ед'}\n",
            "неизменяемые: {'кр', 'APRO'}\n",
            "NUM\n",
            "изменяемые: {'муж', 'неод', 'вин', 'им'}\n",
            "неизменяемые: {'NUM'}\n",
            "A\n",
            "изменяемые: {'полн', 'пр', 'им', 'муж', 'жен', 'вин', 'неод', 'сред', 'ед'}\n",
            "неизменяемые: {'полн', 'кр', 'A', 'притяж'}\n",
            "ANUM\n",
            "изменяемые: {'пр', 'муж', 'жен', 'вин', 'неод', 'ед'}\n",
            "неизменяемые: {'ANUM'}\n"
          ],
          "name": "stdout"
        }
      ]
    },
    {
      "metadata": {
        "id": "1JiFtbp8Z8Mx",
        "colab_type": "text"
      },
      "cell_type": "markdown",
      "source": [
        " Разбиваем существительные также по одушевлённости (од/неод) и роду (муж/жен/cред), используя Mystem. Это нужно для выбора слов не только по частями речи, но и по другим грамматическим характеристикам.\n",
        " Обрати внимание - здесь ключом является не одно значение, а два - одушевлённость и род. Можно представить этот как двумерный словарь-таблицу.\n",
        " Отдельно выделяем имена, фамилии, отчества и географические названия."
      ]
    },
    {
      "metadata": {
        "id": "tdacDQMS3UXR",
        "colab_type": "code",
        "colab": {
          "autoexec": {
            "startup": false,
            "wait_interval": 0
          }
        }
      },
      "cell_type": "code",
      "source": [
        "named_entites = {}\n",
        "named_entities_labels = ['гео', 'имя', 'фам', 'отч']"
      ],
      "execution_count": 0,
      "outputs": []
    },
    {
      "metadata": {
        "id": "F-_TMk0h73cV",
        "colab_type": "code",
        "colab": {
          "autoexec": {
            "startup": false,
            "wait_interval": 0
          }
        }
      },
      "cell_type": "code",
      "source": [
        "def parse_noun(word):\n",
        "    an = m.analyze(word)[0]\n",
        "    if 'analysis' in an.keys():\n",
        "      non_changeable, changeable = an['analysis'][0]['gr'].split('=')\n",
        "      tags = non_changeable.split(',')\n",
        "      gender_tag = tags[1]\n",
        "      if len(tags) > 2:\n",
        "            anim_tag = tags[2]\n",
        "      else:\n",
        "            anim_tag = '-'\n",
        "    return tags, gender_tag, anim_tag"
      ],
      "execution_count": 0,
      "outputs": []
    },
    {
      "metadata": {
        "id": "nTDRqqYhZ5Gh",
        "colab_type": "code",
        "colab": {
          "autoexec": {
            "startup": false,
            "wait_interval": 0
          },
          "base_uri": "https://localhost:8080/",
          "height": 17
        },
        "outputId": "2d7d5060-dfa0-4eb4-a416-c831eedc364a",
        "executionInfo": {
          "status": "ok",
          "timestamp": 1525886840077,
          "user_tz": -120,
          "elapsed": 4178,
          "user": {
            "displayName": "Ekaterina Loginova",
            "photoUrl": "//lh5.googleusercontent.com/-rTHOnLQH_r8/AAAAAAAAAAI/AAAAAAAALEs/6WzKwScZqD0/s50-c-k-no/photo.jpg",
            "userId": "104307473242491844073"
          }
        }
      },
      "cell_type": "code",
      "source": [
        "m = Mystem()\n",
        "candidates_nouns_grammar = {}\n",
        "for i, word in enumerate(candidates_pos['S']):\n",
        "  is_ne = False\n",
        "  print('Progress: %d / %d' % (i, len(candidates_pos['S'])), end = '\\r')\n",
        "  tags, gender_tag, anim_tag = parse_noun(word)\n",
        "  for label in named_entities_labels:\n",
        "      if label in tags:\n",
        "        named_entites.setdefault(label,[]).append(word)\n",
        "        is_ne = True\n",
        "      if not is_ne:\n",
        "        candidates_nouns_grammar.setdefault((gender_tag, anim_tag),[]).append(word)"
      ],
      "execution_count": 90,
      "outputs": [
        {
          "output_type": "stream",
          "text": [
            ""
          ],
          "name": "stdout"
        }
      ]
    },
    {
      "metadata": {
        "id": "hSfNrtGacD7b",
        "colab_type": "code",
        "colab": {
          "autoexec": {
            "startup": false,
            "wait_interval": 0
          }
        }
      },
      "cell_type": "code",
      "source": [
        "print(candidates_nouns_grammar[('жен', 'неод')][:10])"
      ],
      "execution_count": 0,
      "outputs": []
    },
    {
      "metadata": {
        "id": "jsk3Z7Ri5W_W",
        "colab_type": "code",
        "colab": {
          "autoexec": {
            "startup": false,
            "wait_interval": 0
          },
          "base_uri": "https://localhost:8080/",
          "height": 34
        },
        "outputId": "d256f144-3838-49b3-85f4-1ad0f6834741",
        "executionInfo": {
          "status": "ok",
          "timestamp": 1525886060088,
          "user_tz": -120,
          "elapsed": 463,
          "user": {
            "displayName": "Ekaterina Loginova",
            "photoUrl": "//lh5.googleusercontent.com/-rTHOnLQH_r8/AAAAAAAAAAI/AAAAAAAALEs/6WzKwScZqD0/s50-c-k-no/photo.jpg",
            "userId": "104307473242491844073"
          }
        }
      },
      "cell_type": "code",
      "source": [
        "print(candidates_nouns_grammar[('сред', 'неод')][:10])"
      ],
      "execution_count": 64,
      "outputs": [
        {
          "output_type": "stream",
          "text": [
            "['воспитание', 'приглашение', 'платье', 'мероприятие', 'сражение', 'изменение', 'подобие', 'использование', 'наличие', 'соединение']\n"
          ],
          "name": "stdout"
        }
      ]
    },
    {
      "metadata": {
        "id": "QlemC6Dx5W7d",
        "colab_type": "code",
        "colab": {
          "autoexec": {
            "startup": false,
            "wait_interval": 0
          },
          "base_uri": "https://localhost:8080/",
          "height": 34
        },
        "outputId": "455d0822-e64e-4649-829f-8622ef99ead7",
        "executionInfo": {
          "status": "ok",
          "timestamp": 1525886065761,
          "user_tz": -120,
          "elapsed": 468,
          "user": {
            "displayName": "Ekaterina Loginova",
            "photoUrl": "//lh5.googleusercontent.com/-rTHOnLQH_r8/AAAAAAAAAAI/AAAAAAAALEs/6WzKwScZqD0/s50-c-k-no/photo.jpg",
            "userId": "104307473242491844073"
          }
        }
      },
      "cell_type": "code",
      "source": [
        "print(candidates_nouns_grammar[('муж', 'неод')][:10])"
      ],
      "execution_count": 65,
      "outputs": [
        {
          "output_type": "stream",
          "text": [
            "['момент', 'коллектив', 'автомат', 'принцип', 'труд', 'градус', 'июль', 'день', 'театр', 'стул']\n"
          ],
          "name": "stdout"
        }
      ]
    },
    {
      "metadata": {
        "id": "zwHobqHl5W20",
        "colab_type": "code",
        "colab": {
          "autoexec": {
            "startup": false,
            "wait_interval": 0
          },
          "base_uri": "https://localhost:8080/",
          "height": 34
        },
        "outputId": "c9b1aab4-59ce-4209-c9b6-f67f0da71074",
        "executionInfo": {
          "status": "ok",
          "timestamp": 1525886070109,
          "user_tz": -120,
          "elapsed": 466,
          "user": {
            "displayName": "Ekaterina Loginova",
            "photoUrl": "//lh5.googleusercontent.com/-rTHOnLQH_r8/AAAAAAAAAAI/AAAAAAAALEs/6WzKwScZqD0/s50-c-k-no/photo.jpg",
            "userId": "104307473242491844073"
          }
        }
      },
      "cell_type": "code",
      "source": [
        "print(candidates_nouns_grammar[('муж', 'од')][:10])"
      ],
      "execution_count": 66,
      "outputs": [
        {
          "output_type": "stream",
          "text": [
            "['барон', 'майор', 'охотник', 'супруг', 'потребитель', 'начальник', 'заместитель', 'кандидат', 'рабочий', 'клиент']\n"
          ],
          "name": "stdout"
        }
      ]
    },
    {
      "metadata": {
        "id": "ovTNPisqi5RP",
        "colab_type": "text"
      },
      "cell_type": "markdown",
      "source": [
        "Глаголы разбиваем аналогичным образом по виду и переходности. Тут можно попробовать оптимизировать код, избавившись от вложённого if-else."
      ]
    },
    {
      "metadata": {
        "id": "q8uGCGLu8wsr",
        "colab_type": "code",
        "colab": {
          "autoexec": {
            "startup": false,
            "wait_interval": 0
          }
        }
      },
      "cell_type": "code",
      "source": [
        "def parse_verb(word):\n",
        "    an = m.analyze(word)[0]\n",
        "    if 'analysis' in an.keys():\n",
        "      tags = an['analysis'][0]['gr']\n",
        "      non_changeable, changeable = tags.split('=')\n",
        "      tags = non_changeable.split(',')\n",
        "      perf_tag, trans_tag = '-', '-'\n",
        "      for tag in tags:\n",
        "        if tag in ['несов', 'сов']:\n",
        "            perf_tag = tag\n",
        "        if tag in ['пе', 'нп']:\n",
        "            trans_tag = tag\n",
        "    return tags, perf_tag, trans_tag"
      ],
      "execution_count": 0,
      "outputs": []
    },
    {
      "metadata": {
        "id": "pZI00DEZc8Ky",
        "colab_type": "code",
        "colab": {
          "autoexec": {
            "startup": false,
            "wait_interval": 0
          },
          "base_uri": "https://localhost:8080/",
          "height": 17
        },
        "outputId": "aac23c6e-e14f-4f08-8f9e-29ae02e851c6",
        "executionInfo": {
          "status": "ok",
          "timestamp": 1525886119344,
          "user_tz": -120,
          "elapsed": 1806,
          "user": {
            "displayName": "Ekaterina Loginova",
            "photoUrl": "//lh5.googleusercontent.com/-rTHOnLQH_r8/AAAAAAAAAAI/AAAAAAAALEs/6WzKwScZqD0/s50-c-k-no/photo.jpg",
            "userId": "104307473242491844073"
          }
        }
      },
      "cell_type": "code",
      "source": [
        "m = Mystem()\n",
        "candidates_verbs_grammar = {}\n",
        "for i, word in enumerate(candidates_pos['V']):\n",
        "  print('Progress: %d / %d' % (i, len(candidates_pos['V'])), end = '\\r')\n",
        "  for an in ana:\n",
        "      tags, perf_tag, trans_tag = parse_verb(word)\n",
        "      candidates_verbs_grammar.setdefault((perf_tag, trans_tag),[]).append(word)"
      ],
      "execution_count": 67,
      "outputs": [
        {
          "output_type": "stream",
          "text": [
            ""
          ],
          "name": "stdout"
        }
      ]
    },
    {
      "metadata": {
        "id": "kWFyIYvioA7J",
        "colab_type": "text"
      },
      "cell_type": "markdown",
      "source": [
        "Пример содержания получившегося словаря."
      ]
    },
    {
      "metadata": {
        "id": "LAPQbdbgeqFg",
        "colab_type": "code",
        "colab": {
          "autoexec": {
            "startup": false,
            "wait_interval": 0
          },
          "base_uri": "https://localhost:8080/",
          "height": 34
        },
        "outputId": "536bbe4b-6801-4a5f-cf56-214365e3d729",
        "executionInfo": {
          "status": "ok",
          "timestamp": 1525886137362,
          "user_tz": -120,
          "elapsed": 547,
          "user": {
            "displayName": "Ekaterina Loginova",
            "photoUrl": "//lh5.googleusercontent.com/-rTHOnLQH_r8/AAAAAAAAAAI/AAAAAAAALEs/6WzKwScZqD0/s50-c-k-no/photo.jpg",
            "userId": "104307473242491844073"
          }
        }
      },
      "cell_type": "code",
      "source": [
        "print(candidates_verbs_grammar[('сов', 'пе')][:10])"
      ],
      "execution_count": 69,
      "outputs": [
        {
          "output_type": "stream",
          "text": [
            "['останавливать', 'поглядеть', 'извинять', 'потребовать', 'молвить', 'послушать', 'позволять', 'предполагать', 'сунуть', 'доставлять']\n"
          ],
          "name": "stdout"
        }
      ]
    },
    {
      "metadata": {
        "id": "HXAReZRkfael",
        "colab_type": "code",
        "colab": {
          "autoexec": {
            "startup": false,
            "wait_interval": 0
          },
          "base_uri": "https://localhost:8080/",
          "height": 34
        },
        "outputId": "c2f550e4-97cf-4a46-f729-8556b14729c7",
        "executionInfo": {
          "status": "ok",
          "timestamp": 1525886142671,
          "user_tz": -120,
          "elapsed": 572,
          "user": {
            "displayName": "Ekaterina Loginova",
            "photoUrl": "//lh5.googleusercontent.com/-rTHOnLQH_r8/AAAAAAAAAAI/AAAAAAAALEs/6WzKwScZqD0/s50-c-k-no/photo.jpg",
            "userId": "104307473242491844073"
          }
        }
      },
      "cell_type": "code",
      "source": [
        "print(candidates_verbs_grammar[('сов', 'нп')][:10])"
      ],
      "execution_count": 70,
      "outputs": [
        {
          "output_type": "stream",
          "text": [
            "['отдыхать', 'уставляться', 'приниматься', 'заболевать', 'догадываться', 'показывать', 'надоедать', 'избавляться', 'находиться', 'относиться']\n"
          ],
          "name": "stdout"
        }
      ]
    },
    {
      "metadata": {
        "id": "oiB4lBiKfchN",
        "colab_type": "code",
        "colab": {
          "autoexec": {
            "startup": false,
            "wait_interval": 0
          },
          "base_uri": "https://localhost:8080/",
          "height": 34
        },
        "outputId": "aae3d623-eaa0-4342-c95d-3bf25f4514a7",
        "executionInfo": {
          "status": "ok",
          "timestamp": 1525886148133,
          "user_tz": -120,
          "elapsed": 620,
          "user": {
            "displayName": "Ekaterina Loginova",
            "photoUrl": "//lh5.googleusercontent.com/-rTHOnLQH_r8/AAAAAAAAAAI/AAAAAAAALEs/6WzKwScZqD0/s50-c-k-no/photo.jpg",
            "userId": "104307473242491844073"
          }
        }
      },
      "cell_type": "code",
      "source": [
        "print(candidates_verbs_grammar[('несов', 'пе')][:10])"
      ],
      "execution_count": 71,
      "outputs": [
        {
          "output_type": "stream",
          "text": [
            "['писать', 'наблюдать', 'ловить', 'интересовать', 'слышать', 'желать', 'делать', 'лечить', 'терять', 'читать']\n"
          ],
          "name": "stdout"
        }
      ]
    },
    {
      "metadata": {
        "id": "Mj19lQz2fdMO",
        "colab_type": "code",
        "colab": {
          "autoexec": {
            "startup": false,
            "wait_interval": 0
          },
          "base_uri": "https://localhost:8080/",
          "height": 34
        },
        "outputId": "0dc58d6c-ad89-4569-9baa-4845ab2f87bc",
        "executionInfo": {
          "status": "ok",
          "timestamp": 1525886158304,
          "user_tz": -120,
          "elapsed": 605,
          "user": {
            "displayName": "Ekaterina Loginova",
            "photoUrl": "//lh5.googleusercontent.com/-rTHOnLQH_r8/AAAAAAAAAAI/AAAAAAAALEs/6WzKwScZqD0/s50-c-k-no/photo.jpg",
            "userId": "104307473242491844073"
          }
        }
      },
      "cell_type": "code",
      "source": [
        "print(candidates_verbs_grammar[('несов', 'нп')][:10])"
      ],
      "execution_count": 72,
      "outputs": [
        {
          "output_type": "stream",
          "text": [
            "['зависеть', 'торопиться', 'сидеть', 'жаловаться', 'готовиться', 'звонить', 'способствовать', 'заходить', 'поглядывать', 'подлежать']\n"
          ],
          "name": "stdout"
        }
      ]
    },
    {
      "metadata": {
        "id": "dxd96jDjoPr6",
        "colab_type": "text"
      },
      "cell_type": "markdown",
      "source": [
        "Разбиваем местоимения по роду, лицу, одушевлённости и числу (если они не указаны, ставим прочерк)."
      ]
    },
    {
      "metadata": {
        "id": "ulie-8mhjKu9",
        "colab_type": "code",
        "colab": {
          "autoexec": {
            "startup": false,
            "wait_interval": 0
          },
          "base_uri": "https://localhost:8080/",
          "height": 17
        },
        "outputId": "d5742409-40f6-429b-851c-c237bb73933a",
        "executionInfo": {
          "status": "ok",
          "timestamp": 1525886564628,
          "user_tz": -120,
          "elapsed": 727,
          "user": {
            "displayName": "Ekaterina Loginova",
            "photoUrl": "//lh5.googleusercontent.com/-rTHOnLQH_r8/AAAAAAAAAAI/AAAAAAAALEs/6WzKwScZqD0/s50-c-k-no/photo.jpg",
            "userId": "104307473242491844073"
          }
        }
      },
      "cell_type": "code",
      "source": [
        "candidates_pronouns_grammar = {}\n",
        "for i, word in enumerate(candidates_pos['SPRO']):\n",
        "  print('Progress: %d / %d' % (i, len(candidates_pos['SPRO'])), end = '\\r')\n",
        "  ana = m.analyze(word)\n",
        "  for an in ana:\n",
        "    if 'analysis' in an.keys():\n",
        "      non_changeable, changeable = an['analysis'][0]['gr'].split('=')\n",
        "      tags = non_changeable.split(',')\n",
        "      gender_tag, person_tag, anim_tag, num_tag = '-', '-', '-', '-'\n",
        "      for tag in tags:\n",
        "        if tag in ['муж', 'жен', 'сред']:\n",
        "            gender_tag = tag\n",
        "        if '-л' in tag:\n",
        "            person_tag = tag\n",
        "        if tag in ['од', 'неод']:\n",
        "            anim_tag = tag\n",
        "        if tag in ['мн', 'ед']:\n",
        "            num_tag = tag\n",
        "      candidates_pronouns_grammar.setdefault((person_tag, num_tag, gender_tag, anim_tag),[]).append(word)"
      ],
      "execution_count": 77,
      "outputs": [
        {
          "output_type": "stream",
          "text": [
            "Progress: 0 / 33\rProgress: 1 / 33\rProgress: 2 / 33\rProgress: 3 / 33\rProgress: 4 / 33\rProgress: 5 / 33\rProgress: 6 / 33\rProgress: 7 / 33\rProgress: 8 / 33\rProgress: 9 / 33\rProgress: 10 / 33\rProgress: 11 / 33\rProgress: 12 / 33\rProgress: 13 / 33\rProgress: 14 / 33\rProgress: 15 / 33\rProgress: 16 / 33\rProgress: 17 / 33\rProgress: 18 / 33\rProgress: 19 / 33\rProgress: 20 / 33\rProgress: 21 / 33\rProgress: 22 / 33\rProgress: 23 / 33\rProgress: 24 / 33\rProgress: 25 / 33\rProgress: 26 / 33\rProgress: 27 / 33\rProgress: 28 / 33\rProgress: 29 / 33\rProgress: 30 / 33\rProgress: 31 / 33\rProgress: 32 / 33\r"
          ],
          "name": "stdout"
        }
      ]
    },
    {
      "metadata": {
        "id": "Jzg2kbwb7UmG",
        "colab_type": "code",
        "colab": {
          "autoexec": {
            "startup": false,
            "wait_interval": 0
          },
          "base_uri": "https://localhost:8080/",
          "height": 54
        },
        "outputId": "df253164-7c83-4fe3-b29c-417285d89dcc",
        "executionInfo": {
          "status": "ok",
          "timestamp": 1525886573291,
          "user_tz": -120,
          "elapsed": 498,
          "user": {
            "displayName": "Ekaterina Loginova",
            "photoUrl": "//lh5.googleusercontent.com/-rTHOnLQH_r8/AAAAAAAAAAI/AAAAAAAALEs/6WzKwScZqD0/s50-c-k-no/photo.jpg",
            "userId": "104307473242491844073"
          }
        }
      },
      "cell_type": "code",
      "source": [
        "candidates_pronouns_grammar.keys()"
      ],
      "execution_count": 78,
      "outputs": [
        {
          "output_type": "execute_result",
          "data": {
            "text/plain": [
              "dict_keys([('-', '-', '-', '-'), ('1-л', 'мн', '-', '-'), ('-', 'ед', '-', '-'), ('-', 'ед', 'сред', '-'), ('3-л', 'ед', 'муж', '-'), ('-', 'ед', 'сред', 'неод'), ('-', 'ед', 'муж', 'од'), ('1-л', 'ед', '-', '-'), ('-', 'ед', 'муж', '-'), ('2-л', 'мн', '-', '-'), ('-', 'мн', '-', '-'), ('-', '-', 'сред', '-'), ('3-л', 'ед', 'сред', '-'), ('3-л', 'ед', 'жен', '-'), ('2-л', 'ед', '-', '-')])"
            ]
          },
          "metadata": {
            "tags": []
          },
          "execution_count": 78
        }
      ]
    },
    {
      "metadata": {
        "id": "cPQntK_lMtRe",
        "colab_type": "code",
        "colab": {
          "autoexec": {
            "startup": false,
            "wait_interval": 0
          }
        }
      },
      "cell_type": "code",
      "source": [
        "import pickle"
      ],
      "execution_count": 0,
      "outputs": []
    },
    {
      "metadata": {
        "id": "Tc5k5aFiMwWk",
        "colab_type": "code",
        "colab": {
          "autoexec": {
            "startup": false,
            "wait_interval": 0
          }
        }
      },
      "cell_type": "code",
      "source": [
        "pickle.dump(candidates_pos, open('candidates_pos.p', 'wb'))\n",
        "pickle.dump(candidates_verbs_grammar, open('candidates_verbs_grammar.p', 'wb'))\n",
        "pickle.dump(candidates_nouns_grammar, open('candidates_nouns_grammar.p', 'wb'))\n",
        "pickle.dump(candidates_pronouns_grammar, open('candidates_pronouns_grammar.p', 'wb'))"
      ],
      "execution_count": 0,
      "outputs": []
    },
    {
      "metadata": {
        "id": "pkuBXC-cM6y4",
        "colab_type": "code",
        "colab": {
          "autoexec": {
            "startup": false,
            "wait_interval": 0
          }
        }
      },
      "cell_type": "code",
      "source": [
        "# candidates_pos = pickle.load(open('candidates_pos.p', 'rb'))"
      ],
      "execution_count": 0,
      "outputs": []
    },
    {
      "metadata": {
        "id": "VQyN5TiHo--X",
        "colab_type": "text"
      },
      "cell_type": "markdown",
      "source": [
        "Сейчас у нас в словаре хранятся множества слов, а не списки. Исправим (иначе некоторые функции в дальнейшем могут не сработать)."
      ]
    },
    {
      "metadata": {
        "id": "q2KWD7ayk7A6",
        "colab_type": "code",
        "colab": {
          "autoexec": {
            "startup": false,
            "wait_interval": 0
          }
        }
      },
      "cell_type": "code",
      "source": [
        "candidates_pos = {k: list(v) for k, v in candidates_pos.items()}"
      ],
      "execution_count": 0,
      "outputs": []
    },
    {
      "metadata": {
        "id": "uywP4HzloXeh",
        "colab_type": "text"
      },
      "cell_type": "markdown",
      "source": [
        "Теперь, когда у нас есть структура данных для каждого типа речи, которая позволяет выбирать по нескольким неизменяемым грамматическим признакам, мы можем выбрать оттуда слово.\n",
        "Для того, чтобы сделать это случайнвм образом, нам нужно использовать функцию choice из библиотеки random."
      ]
    },
    {
      "metadata": {
        "id": "VTw0Wy9_SDR_",
        "colab_type": "code",
        "colab": {
          "autoexec": {
            "startup": false,
            "wait_interval": 0
          }
        }
      },
      "cell_type": "code",
      "source": [
        "import random"
      ],
      "execution_count": 0,
      "outputs": []
    },
    {
      "metadata": {
        "id": "XhC2SCT9onC8",
        "colab_type": "text"
      },
      "cell_type": "markdown",
      "source": [
        "Пример случайного выбора существительного."
      ]
    },
    {
      "metadata": {
        "id": "heQ8jL2dNws-",
        "colab_type": "code",
        "colab": {
          "autoexec": {
            "startup": false,
            "wait_interval": 0
          },
          "base_uri": "https://localhost:8080/",
          "height": 34
        },
        "outputId": "e842a367-bb9a-4b1f-dff8-1da3cd262481",
        "executionInfo": {
          "status": "ok",
          "timestamp": 1525886648025,
          "user_tz": -120,
          "elapsed": 533,
          "user": {
            "displayName": "Ekaterina Loginova",
            "photoUrl": "//lh5.googleusercontent.com/-rTHOnLQH_r8/AAAAAAAAAAI/AAAAAAAALEs/6WzKwScZqD0/s50-c-k-no/photo.jpg",
            "userId": "104307473242491844073"
          }
        }
      },
      "cell_type": "code",
      "source": [
        "random_word = random.choice(candidates_pos['S'])\n",
        "print(random_word)"
      ],
      "execution_count": 83,
      "outputs": [
        {
          "output_type": "stream",
          "text": [
            "страх\n"
          ],
          "name": "stdout"
        }
      ]
    },
    {
      "metadata": {
        "id": "vJYCIbiloz75",
        "colab_type": "text"
      },
      "cell_type": "markdown",
      "source": [
        "Чтобы переключаться между Pymorphy и Mystem, нужно иметь соотношение обозначений граммем. Записываем вручную."
      ]
    },
    {
      "metadata": {
        "id": "c873PgWoh-oP",
        "colab_type": "text"
      },
      "cell_type": "markdown",
      "source": [
        "Полный список граммем с пояснениями: https://docs.google.com/spreadsheets/d/18RelfNsp94mevWjq4DAU2ifCPXh-J-xC81lDPxk8xmw/edit?usp=sharing"
      ]
    },
    {
      "metadata": {
        "id": "U5vwsQgRSet7",
        "colab_type": "code",
        "colab": {
          "autoexec": {
            "startup": false,
            "wait_interval": 0
          }
        }
      },
      "cell_type": "code",
      "source": [
        "grammems = {\"наст\": \"pres\",\n",
        "\"непрош\": \"pres\",\n",
        "\"прош\": \"past\",\n",
        "\"им\": \"nomn\",\n",
        "\"род\": \"gent\",\n",
        "\"дат\": \"datv\",\n",
        "\"вин\": \"accs\",\n",
        "\"твор\": \"ablt\",\n",
        "\"пр\": \"loct\",\n",
        "\"парт\": \"gen2\",\n",
        "\"местн\": \"loc2\",\n",
        "\"зват\": \"voct\",\n",
        "\"ед\": \"sing\",\n",
        "\"мн\": \"plur\",\n",
        "\"деепр\": \"GRND\",\n",
        "\"инф\": \"INFN\",\n",
        "\"прич\": \"PRTF, PRTS\",\n",
        "\"изъяв\": \"indc\",\n",
        "\"пов\": \"impr\",\n",
        "\"притяж\": \"Poss\",\n",
        "\"прев\": \"Supr\",\n",
        "\"срав\": \"Cmp2\",\n",
        "\"муж\": \"masc\",\n",
        "\"жен\": \"femn\",\n",
        "\"сред\": \"neut\",\n",
        "\"несов\": \"impf\",\n",
        "\"сов\": \"perf\",\n",
        "\"действ\": \"actv\",\n",
        "\"страд\": \"pssv\",\n",
        "\"од\": \"anim\",\n",
        "\"неод\": \"inan\",\n",
        "\"пе\": \"tran\",\n",
        "\"нп\": \"intr\",\n",
        "\"1-л\": \"1per\",\n",
        "\"2-л\": \"2per\",\n",
        "\"3-л\": \"3per\"}"
      ],
      "execution_count": 0,
      "outputs": []
    },
    {
      "metadata": {
        "id": "L6u9B0fqpH8n",
        "colab_type": "text"
      },
      "cell_type": "markdown",
      "source": [
        "Наконец, пишем полную функцию, которая принимает на вход текст, разбивает его на слова и анализирует с помощью Mystem, затем выбирает случайное слово нужной части речи и с нужными характеристиками и, наконец, копирует изменяемые грамматические признаки из слов оригинала в слова нашего сгенерированного предложения."
      ]
    },
    {
      "metadata": {
        "id": "Y8caOqz2SUWr",
        "colab_type": "code",
        "colab": {
          "autoexec": {
            "startup": false,
            "wait_interval": 0
          }
        }
      },
      "cell_type": "code",
      "source": [
        "def generate_response(text, verbose = True):\n",
        "  # морфологический разбор текста Mystem'ом\n",
        "  ana = m.analyze(text)\n",
        "  \n",
        "  if verbose:\n",
        "    print(ana)\n",
        "    \n",
        "  changed_words = []\n",
        "  \n",
        "  for an in ana:\n",
        "    if 'analysis' in an.keys():\n",
        "      non_changeable, changeable = an['analysis'][0]['gr'].split('=')\n",
        "      changeable = changeable.replace(\"(\", \"\").replace(\")\", \"\")\n",
        "      tags = non_changeable.split(',')\n",
        "      if '|' in changeable:\n",
        "        changeable = changeable.split(\"|\")[0]\n",
        "      pos_tag = tags[0]\n",
        "      grammems_to_change = changeable.split(',')\n",
        "      \n",
        "      if verbose:\n",
        "        print(\"POS tag:\", pos_tag)\n",
        "        \n",
        "      if pos_tag == 'S':\n",
        "        tags, gender_tag, anim_tag = parse_noun(word)\n",
        "#         gender_tag = tags[1]\n",
        "#         anim_tag = tags[2]\n",
        "        random_word = random.choice(candidates_nouns_grammar[(gender_tag, anim_tag)])\n",
        "      elif pos_tag == 'V':\n",
        "        if 'несов' in tags:\n",
        "          if 'пе' in tags:\n",
        "            random_word = random.choice(candidates_verbs_grammar[('несов', 'пе')])\n",
        "          else:\n",
        "            random_word = random.choice(candidates_verbs_grammar[('несов', 'нп')])\n",
        "        else:\n",
        "          if 'пе' in tags:\n",
        "            random_word = random.choice(candidates_verbs_grammar[('сов', 'пе')])\n",
        "          else:\n",
        "            random_word = random.choice(candidates_verbs_grammar[('сов', 'нп')])\n",
        "      elif pos_tag == 'SPRO':\n",
        "        if len(tags) > 1:\n",
        "          num_tag = tags[1]\n",
        "        else:\n",
        "          num_tag = '-'\n",
        "        if len(tags) > 2:\n",
        "          person_tag = tags[2]\n",
        "        else:\n",
        "          person_tag = '-'\n",
        "        random_word = random.choice(candidates_pronouns_grammar[(person_tag, num_tag)])\n",
        "      else:\n",
        "        random_word = random.choice(candidates_pos[pos_tag])\n",
        "      if verbose:\n",
        "        print('Random word:', random_word)\n",
        "      prog = morph.parse(random_word)[0]\n",
        "      if verbose:\n",
        "        print('Grammems to change:', grammems_to_change)\n",
        "      changed_words.append(prog.inflect(set([grammems[x] for x in grammems_to_change if x in grammems.keys()])).word)\n",
        "    else:\n",
        "      changed_words.append(an['text'])\n",
        "  response = ' '.join(changed_words)\n",
        "  if verbose:\n",
        "    print('Response:', response)\n",
        "  \n",
        "  return response"
      ],
      "execution_count": 0,
      "outputs": []
    },
    {
      "metadata": {
        "id": "SycSl2iIpjw2",
        "colab_type": "text"
      },
      "cell_type": "markdown",
      "source": [
        "Тестируем функцию."
      ]
    },
    {
      "metadata": {
        "id": "W0cf79BVTBzf",
        "colab_type": "code",
        "colab": {
          "autoexec": {
            "startup": false,
            "wait_interval": 0
          },
          "base_uri": "https://localhost:8080/",
          "height": 139
        },
        "outputId": "0f53fd40-6e02-44da-d15e-388a2a1623ef",
        "executionInfo": {
          "status": "ok",
          "timestamp": 1525510691929,
          "user_tz": -120,
          "elapsed": 1404,
          "user": {
            "displayName": "Ekaterina Loginova",
            "photoUrl": "//lh5.googleusercontent.com/-rTHOnLQH_r8/AAAAAAAAAAI/AAAAAAAALEs/6WzKwScZqD0/s50-c-k-no/photo.jpg",
            "userId": "104307473242491844073"
          }
        }
      },
      "cell_type": "code",
      "source": [
        "generate_response(text)"
      ],
      "execution_count": 0,
      "outputs": [
        {
          "output_type": "stream",
          "text": [
            "[{'analysis': [{'lex': 'мама', 'gr': 'S,жен,од=им,ед'}], 'text': 'Мама'}, {'text': ' '}, {'analysis': [{'lex': 'мыть', 'gr': 'V,несов,пе=прош,ед,изъяв,жен'}], 'text': 'мыла'}, {'text': ' '}, {'analysis': [{'lex': 'рама', 'gr': 'S,жен,неод=вин,ед'}], 'text': 'раму'}, {'text': '\\n'}]\n",
            "Random word: жена\n",
            "Random word: узнавать\n",
            "Random word: мера\n",
            "Response: жена узнавала меру\n"
          ],
          "name": "stdout"
        },
        {
          "output_type": "execute_result",
          "data": {
            "text/plain": [
              "'жена узнавала меру'"
            ]
          },
          "metadata": {
            "tags": []
          },
          "execution_count": 78
        }
      ]
    },
    {
      "metadata": {
        "id": "IhjLSgSXhe5t",
        "colab_type": "code",
        "colab": {
          "autoexec": {
            "startup": false,
            "wait_interval": 0
          },
          "base_uri": "https://localhost:8080/",
          "height": 34
        },
        "outputId": "9959a541-0e67-4d08-83ca-8bc314e3ee3e",
        "executionInfo": {
          "status": "ok",
          "timestamp": 1525510715989,
          "user_tz": -120,
          "elapsed": 448,
          "user": {
            "displayName": "Ekaterina Loginova",
            "photoUrl": "//lh5.googleusercontent.com/-rTHOnLQH_r8/AAAAAAAAAAI/AAAAAAAALEs/6WzKwScZqD0/s50-c-k-no/photo.jpg",
            "userId": "104307473242491844073"
          }
        }
      },
      "cell_type": "code",
      "source": [
        "response = generate_response(text, False)\n",
        "print(response)"
      ],
      "execution_count": 0,
      "outputs": [
        {
          "output_type": "stream",
          "text": [
            "женщина продолжала дорогу\n"
          ],
          "name": "stdout"
        }
      ]
    },
    {
      "metadata": {
        "id": "6Ki_cgK0hkeQ",
        "colab_type": "code",
        "colab": {
          "autoexec": {
            "startup": false,
            "wait_interval": 0
          },
          "base_uri": "https://localhost:8080/",
          "height": 34
        },
        "outputId": "29a613d3-28d5-4054-ba9a-7baba5f964e8",
        "executionInfo": {
          "status": "ok",
          "timestamp": 1525510720757,
          "user_tz": -120,
          "elapsed": 401,
          "user": {
            "displayName": "Ekaterina Loginova",
            "photoUrl": "//lh5.googleusercontent.com/-rTHOnLQH_r8/AAAAAAAAAAI/AAAAAAAALEs/6WzKwScZqD0/s50-c-k-no/photo.jpg",
            "userId": "104307473242491844073"
          }
        }
      },
      "cell_type": "code",
      "source": [
        "response = generate_response(text, False)\n",
        "print(response)"
      ],
      "execution_count": 0,
      "outputs": [
        {
          "output_type": "stream",
          "text": [
            "жена помнила войну\n"
          ],
          "name": "stdout"
        }
      ]
    },
    {
      "metadata": {
        "id": "YmKtSTyThlQZ",
        "colab_type": "code",
        "colab": {
          "autoexec": {
            "startup": false,
            "wait_interval": 0
          },
          "base_uri": "https://localhost:8080/",
          "height": 34
        },
        "outputId": "9b7aa217-b483-44bd-d2e0-fd3a70b12649",
        "executionInfo": {
          "status": "ok",
          "timestamp": 1525510729696,
          "user_tz": -120,
          "elapsed": 417,
          "user": {
            "displayName": "Ekaterina Loginova",
            "photoUrl": "//lh5.googleusercontent.com/-rTHOnLQH_r8/AAAAAAAAAAI/AAAAAAAALEs/6WzKwScZqD0/s50-c-k-no/photo.jpg",
            "userId": "104307473242491844073"
          }
        }
      },
      "cell_type": "code",
      "source": [
        "response = generate_response(text, False)\n",
        "print(response)"
      ],
      "execution_count": 0,
      "outputs": [
        {
          "output_type": "stream",
          "text": [
            "женщина любила компанию\n"
          ],
          "name": "stdout"
        }
      ]
    },
    {
      "metadata": {
        "id": "WDQAYmxfiAu_",
        "colab_type": "code",
        "colab": {
          "autoexec": {
            "startup": false,
            "wait_interval": 0
          },
          "base_uri": "https://localhost:8080/",
          "height": 34
        },
        "outputId": "43857ec0-b997-4714-854d-10e44b69d454",
        "executionInfo": {
          "status": "ok",
          "timestamp": 1525510865796,
          "user_tz": -120,
          "elapsed": 1307,
          "user": {
            "displayName": "Ekaterina Loginova",
            "photoUrl": "//lh5.googleusercontent.com/-rTHOnLQH_r8/AAAAAAAAAAI/AAAAAAAALEs/6WzKwScZqD0/s50-c-k-no/photo.jpg",
            "userId": "104307473242491844073"
          }
        }
      },
      "cell_type": "code",
      "source": [
        "response = generate_response(\"Кто пришёл\", False)\n",
        "print(response)"
      ],
      "execution_count": 0,
      "outputs": [
        {
          "output_type": "stream",
          "text": [
            "они пошёл\n"
          ],
          "name": "stdout"
        }
      ]
    },
    {
      "metadata": {
        "id": "1P3FHg2mpqRw",
        "colab_type": "text"
      },
      "cell_type": "markdown",
      "source": [
        "**Задание:** сделать согласование с местоимениями."
      ]
    },
    {
      "metadata": {
        "id": "b3UwvCFliLU2",
        "colab_type": "code",
        "colab": {
          "autoexec": {
            "startup": false,
            "wait_interval": 0
          },
          "base_uri": "https://localhost:8080/",
          "height": 292
        },
        "outputId": "86d3d6e8-ffa7-4e14-a919-7c14a18b1fc8",
        "executionInfo": {
          "status": "ok",
          "timestamp": 1525511684254,
          "user_tz": -120,
          "elapsed": 1388,
          "user": {
            "displayName": "Ekaterina Loginova",
            "photoUrl": "//lh5.googleusercontent.com/-rTHOnLQH_r8/AAAAAAAAAAI/AAAAAAAALEs/6WzKwScZqD0/s50-c-k-no/photo.jpg",
            "userId": "104307473242491844073"
          }
        }
      },
      "cell_type": "code",
      "source": [
        "response = generate_response(\"Я иду по улице\", True)\n",
        "print(response)"
      ],
      "execution_count": 0,
      "outputs": [
        {
          "output_type": "stream",
          "text": [
            "[{'analysis': [{'lex': 'я', 'gr': 'SPRO,ед,1-л=им'}], 'text': 'Я'}, {'text': ' '}, {'analysis': [{'lex': 'идти', 'gr': 'V,несов,нп=непрош,ед,изъяв,1-л'}], 'text': 'иду'}, {'text': ' '}, {'analysis': [{'lex': 'по', 'gr': 'PR='}], 'text': 'по'}, {'text': ' '}, {'analysis': [{'lex': 'улица', 'gr': 'S,жен,неод=(пр,ед|дат,ед)'}], 'text': 'улице'}, {'text': '\\n'}]\n",
            "POS tag: SPRO\n",
            "Random word: я\n",
            "Grammems to change: ['им']\n",
            "POS tag: V\n",
            "Random word: происходить\n",
            "Grammems to change: ['непрош', 'ед', 'изъяв', '1-л']\n",
            "POS tag: PR\n",
            "Random word: по\n",
            "Grammems to change: ['']\n",
            "POS tag: S\n",
            "Random word: форма\n",
            "Grammems to change: ['пр', 'ед']\n",
            "Response: я происхожу по форме\n",
            "я происхожу по форме\n"
          ],
          "name": "stdout"
        }
      ]
    },
    {
      "metadata": {
        "id": "ouTrGNtLktHC",
        "colab_type": "code",
        "colab": {
          "autoexec": {
            "startup": false,
            "wait_interval": 0
          },
          "base_uri": "https://localhost:8080/",
          "height": 292
        },
        "outputId": "95857fa5-ac3f-4a1e-c168-15c7d9d3fe0d",
        "executionInfo": {
          "status": "ok",
          "timestamp": 1525511694110,
          "user_tz": -120,
          "elapsed": 422,
          "user": {
            "displayName": "Ekaterina Loginova",
            "photoUrl": "//lh5.googleusercontent.com/-rTHOnLQH_r8/AAAAAAAAAAI/AAAAAAAALEs/6WzKwScZqD0/s50-c-k-no/photo.jpg",
            "userId": "104307473242491844073"
          }
        }
      },
      "cell_type": "code",
      "source": [
        "response = generate_response(\"Я иду по улице\", True)\n",
        "print(response)"
      ],
      "execution_count": 0,
      "outputs": [
        {
          "output_type": "stream",
          "text": [
            "[{'analysis': [{'lex': 'я', 'gr': 'SPRO,ед,1-л=им'}], 'text': 'Я'}, {'text': ' '}, {'analysis': [{'lex': 'идти', 'gr': 'V,несов,нп=непрош,ед,изъяв,1-л'}], 'text': 'иду'}, {'text': ' '}, {'analysis': [{'lex': 'по', 'gr': 'PR='}], 'text': 'по'}, {'text': ' '}, {'analysis': [{'lex': 'улица', 'gr': 'S,жен,неод=(пр,ед|дат,ед)'}], 'text': 'улице'}, {'text': '\\n'}]\n",
            "POS tag: SPRO\n",
            "Random word: я\n",
            "Grammems to change: ['им']\n",
            "POS tag: V\n",
            "Random word: приезжать\n",
            "Grammems to change: ['непрош', 'ед', 'изъяв', '1-л']\n",
            "POS tag: PR\n",
            "Random word: из-за\n",
            "Grammems to change: ['']\n",
            "POS tag: S\n",
            "Random word: минута\n",
            "Grammems to change: ['пр', 'ед']\n",
            "Response: я приезжаю из-за минуте\n",
            "я приезжаю из-за минуте\n"
          ],
          "name": "stdout"
        }
      ]
    },
    {
      "metadata": {
        "id": "bbkYI1ghMCGo",
        "colab_type": "text"
      },
      "cell_type": "markdown",
      "source": [
        "**Над чем еще поработать:**\n",
        "1. Имена собственные\n",
        "2. Местоимения\n",
        "3. Оформление\n",
        "4. Учитывать при pymorphy разбор майстема"
      ]
    },
    {
      "metadata": {
        "id": "ITSecwfTLqx8",
        "colab_type": "code",
        "colab": {
          "autoexec": {
            "startup": false,
            "wait_interval": 0
          },
          "base_uri": "https://localhost:8080/",
          "height": 195
        },
        "outputId": "765496f6-fefc-4b52-f407-7105e985277f",
        "executionInfo": {
          "status": "error",
          "timestamp": 1525706328234,
          "user_tz": -180,
          "elapsed": 630,
          "user": {
            "displayName": "Papa JoStick",
            "photoUrl": "//lh6.googleusercontent.com/-Jf5kd07EGUs/AAAAAAAAAAI/AAAAAAAAAAQ/rF-3rTLwsMc/s50-c-k-no/photo.jpg",
            "userId": "103387557085827987438"
          }
        }
      },
      "cell_type": "code",
      "source": [
        "response = generate_response(\"Маша иду по Арбату\", True)\n",
        "print(response)"
      ],
      "execution_count": 12,
      "outputs": [
        {
          "output_type": "error",
          "ename": "NameError",
          "evalue": "ignored",
          "traceback": [
            "\u001b[0;31m---------------------------------------------------------------------------\u001b[0m",
            "\u001b[0;31mNameError\u001b[0m                                 Traceback (most recent call last)",
            "\u001b[0;32m<ipython-input-12-775493683be3>\u001b[0m in \u001b[0;36m<module>\u001b[0;34m()\u001b[0m\n\u001b[0;32m----> 1\u001b[0;31m \u001b[0mresponse\u001b[0m \u001b[0;34m=\u001b[0m \u001b[0mgenerate_response\u001b[0m\u001b[0;34m(\u001b[0m\u001b[0;34m\"Маша иду по Арбату\"\u001b[0m\u001b[0;34m,\u001b[0m \u001b[0;32mTrue\u001b[0m\u001b[0;34m)\u001b[0m\u001b[0;34m\u001b[0m\u001b[0m\n\u001b[0m\u001b[1;32m      2\u001b[0m \u001b[0mprint\u001b[0m\u001b[0;34m(\u001b[0m\u001b[0mresponse\u001b[0m\u001b[0;34m)\u001b[0m\u001b[0;34m\u001b[0m\u001b[0m\n",
            "\u001b[0;31mNameError\u001b[0m: name 'generate_response' is not defined"
          ]
        }
      ]
    },
    {
      "metadata": {
        "id": "G303NgmY8HPe",
        "colab_type": "code",
        "colab": {
          "autoexec": {
            "startup": false,
            "wait_interval": 0
          }
        }
      },
      "cell_type": "code",
      "source": [
        "text = \"Маша идёт по Арбату\"\n",
        "response = \"петя гуляет по москве\""
      ],
      "execution_count": 0,
      "outputs": []
    },
    {
      "metadata": {
        "id": "aEMw3sDt8WPw",
        "colab_type": "code",
        "colab": {
          "autoexec": {
            "startup": false,
            "wait_interval": 0
          },
          "base_uri": "https://localhost:8080/",
          "height": 56
        },
        "outputId": "76a3b8d1-ef61-4a46-9867-ca0f725bbd7e",
        "executionInfo": {
          "status": "ok",
          "timestamp": 1525853336506,
          "user_tz": -180,
          "elapsed": 1636,
          "user": {
            "displayName": "Papa JoStick",
            "photoUrl": "//lh6.googleusercontent.com/-Jf5kd07EGUs/AAAAAAAAAAI/AAAAAAAAAAQ/rF-3rTLwsMc/s50-c-k-no/photo.jpg",
            "userId": "103387557085827987438"
          }
        }
      },
      "cell_type": "code",
      "source": [
        "ana = m.analyze(text)\n",
        "print(ana)"
      ],
      "execution_count": 7,
      "outputs": [
        {
          "output_type": "stream",
          "text": [
            "[{'analysis': [{'lex': 'маша', 'gr': 'S,имя,жен,од=им,ед'}], 'text': 'Маша'}, {'text': ' '}, {'analysis': [{'lex': 'идти', 'gr': 'V,несов,нп=непрош,ед,изъяв,3-л'}], 'text': 'идёт'}, {'text': ' '}, {'analysis': [{'lex': 'по', 'gr': 'PR='}], 'text': 'по'}, {'text': ' '}, {'analysis': [{'lex': 'арбат', 'gr': 'S,гео,муж,неод=дат,ед'}], 'text': 'Арбату'}, {'text': '\\n'}]\n"
          ],
          "name": "stdout"
        }
      ]
    },
    {
      "metadata": {
        "id": "nU0xbO_68nrc",
        "colab_type": "code",
        "colab": {
          "autoexec": {
            "startup": false,
            "wait_interval": 0
          }
        }
      },
      "cell_type": "code",
      "source": [
        "def preserve_case(text, response):\n",
        "  cased_response = []\n",
        "  tokens_response = response.split()\n",
        "  for i, w in enumerate(text.split()):\n",
        "    if w[0].isupper():\n",
        "      cased_response.append(tokens_response[i].capitalize())\n",
        "    else:\n",
        "      cased_response.append(tokens_response[i].lower())\n",
        "  return ' '.join(cased_response)"
      ],
      "execution_count": 0,
      "outputs": []
    },
    {
      "metadata": {
        "id": "1ti_6nnF9I0q",
        "colab_type": "code",
        "colab": {
          "autoexec": {
            "startup": false,
            "wait_interval": 0
          },
          "base_uri": "https://localhost:8080/",
          "height": 36
        },
        "outputId": "f6d4ae15-2757-4b3d-cc7c-5b2f2313381f",
        "executionInfo": {
          "status": "ok",
          "timestamp": 1525853719512,
          "user_tz": -180,
          "elapsed": 400,
          "user": {
            "displayName": "Papa JoStick",
            "photoUrl": "//lh6.googleusercontent.com/-Jf5kd07EGUs/AAAAAAAAAAI/AAAAAAAAAAQ/rF-3rTLwsMc/s50-c-k-no/photo.jpg",
            "userId": "103387557085827987438"
          }
        }
      },
      "cell_type": "code",
      "source": [
        "preserve_case(\"Маша идёт по Арбату\", response)"
      ],
      "execution_count": 17,
      "outputs": [
        {
          "output_type": "execute_result",
          "data": {
            "text/plain": [
              "'Петя гуляет по Москве'"
            ]
          },
          "metadata": {
            "tags": []
          },
          "execution_count": 17
        }
      ]
    },
    {
      "metadata": {
        "id": "HoXGBXra9VH6",
        "colab_type": "code",
        "colab": {
          "autoexec": {
            "startup": false,
            "wait_interval": 0
          },
          "base_uri": "https://localhost:8080/",
          "height": 36
        },
        "outputId": "7499c806-38b8-4b91-c7ed-30fb15283cb1",
        "executionInfo": {
          "status": "ok",
          "timestamp": 1525853549218,
          "user_tz": -180,
          "elapsed": 670,
          "user": {
            "displayName": "Papa JoStick",
            "photoUrl": "//lh6.googleusercontent.com/-Jf5kd07EGUs/AAAAAAAAAAI/AAAAAAAAAAQ/rF-3rTLwsMc/s50-c-k-no/photo.jpg",
            "userId": "103387557085827987438"
          }
        }
      },
      "cell_type": "code",
      "source": [
        "str.isupper('w')"
      ],
      "execution_count": 14,
      "outputs": [
        {
          "output_type": "execute_result",
          "data": {
            "text/plain": [
              "False"
            ]
          },
          "metadata": {
            "tags": []
          },
          "execution_count": 14
        }
      ]
    },
    {
      "metadata": {
        "id": "pfyD1lC5pxIk",
        "colab_type": "text"
      },
      "cell_type": "markdown",
      "source": [
        "**Задание:** сделать согласование с предлогами."
      ]
    },
    {
      "metadata": {
        "id": "21pWXvll4MBV",
        "colab_type": "text"
      },
      "cell_type": "markdown",
      "source": [
        "**Задание:** сделать выбор разбора pyMorphy через разбор Mystem"
      ]
    },
    {
      "metadata": {
        "id": "Dd204E0a6Tt8",
        "colab_type": "text"
      },
      "cell_type": "markdown",
      "source": [
        "**Задание:** сохранить исходный регистр слов."
      ]
    },
    {
      "metadata": {
        "id": "z0QQkVwIp58J",
        "colab_type": "text"
      },
      "cell_type": "markdown",
      "source": [
        "# Веб-интерфейс"
      ]
    },
    {
      "metadata": {
        "id": "nP_3GUWoqGQP",
        "colab_type": "text"
      },
      "cell_type": "markdown",
      "source": [
        "1. Зарегистрироваться на https://pythonanywhere.com\n",
        "2. Открыть Bash консоль и создать виртуальную переменную. https://help.pythonanywhere.com/pages/VirtualEnvForNewerDjango\n",
        "3. Установить необходимые библиотеки. https://help.pythonanywhere.com/pages/InstallingNewModules/\n",
        "4. Указать созданную виртуальную переменную в настройках веб-приложения. https://www.pythonanywhere.com/user/uchido/webapps/#tab_id_uchido_pythonanywhere_com\n",
        "5. Скачать распакованный корпус и положить его в рабочую директорию веб-приложения.\n",
        "6. Создать папку templates в рабочей директории веб-приложения и создать там файл index.html с кодом Bootstrap шаблона (можно скопировать исходный код примера: https://getbootstrap.com/docs/4.1/examples/starter-template/)\n",
        "7. Flask код веб-приложения содержится в flask_app.py"
      ]
    },
    {
      "metadata": {
        "id": "wgzR_OZQrEqa",
        "colab_type": "text"
      },
      "cell_type": "markdown",
      "source": [
        "Самое базовое приложение - печатает строчку."
      ]
    },
    {
      "metadata": {
        "id": "p0vtaGhurEzR",
        "colab_type": "code",
        "colab": {
          "autoexec": {
            "startup": false,
            "wait_interval": 0
          }
        }
      },
      "cell_type": "code",
      "source": [
        "from flask import Flask\n",
        "\n",
        "app = Flask(__name__)\n",
        "\n",
        "@app.route('/')\n",
        "def hello_world():\n",
        "    return 'Hello from Flask!'"
      ],
      "execution_count": 0,
      "outputs": []
    },
    {
      "metadata": {
        "id": "4o1gJCyJrJwk",
        "colab_type": "text"
      },
      "cell_type": "markdown",
      "source": [
        "Добавляем отображение HTML шаблона"
      ]
    },
    {
      "metadata": {
        "id": "E409LSukrJbr",
        "colab_type": "code",
        "colab": {
          "autoexec": {
            "startup": false,
            "wait_interval": 0
          }
        }
      },
      "cell_type": "code",
      "source": [
        "from flask import render_template\n",
        "@app.route('/')\n",
        "def main():\n",
        "    return render_template('index.html'"
      ],
      "execution_count": 0,
      "outputs": []
    },
    {
      "metadata": {
        "id": "5jxiIxtgrMN_",
        "colab_type": "text"
      },
      "cell_type": "markdown",
      "source": [
        "Добавляем вывод текста"
      ]
    },
    {
      "metadata": {
        "id": "6r2glLserXXb",
        "colab_type": "text"
      },
      "cell_type": "markdown",
      "source": [
        "\n",
        "\n",
        "```\n",
        "        <p>\n",
        "            {{statement|safe}}\n",
        "        </p>\n",
        "```\n",
        "\n"
      ]
    },
    {
      "metadata": {
        "id": "EMgYlMsSrNB7",
        "colab_type": "code",
        "colab": {
          "autoexec": {
            "startup": false,
            "wait_interval": 0
          }
        }
      },
      "cell_type": "code",
      "source": [
        "from flask import render_template\n",
        "@app.route('/')\n",
        "def main():\n",
        "    return render_template('index.html', statement = \"Hello!\")"
      ],
      "execution_count": 0,
      "outputs": []
    },
    {
      "metadata": {
        "id": "ZE5QVKZyrO_n",
        "colab_type": "text"
      },
      "cell_type": "markdown",
      "source": [
        "Добавляем получение текста от пользователя"
      ]
    },
    {
      "metadata": {
        "id": "18g8s72krZsy",
        "colab_type": "text"
      },
      "cell_type": "markdown",
      "source": [
        "\n",
        "\n",
        "```\n",
        "<form method=\"POST\">\n",
        "  <input name=\"text\">\n",
        "  <input type=\"submit\">\n",
        "</form>\n",
        "```\n",
        "\n"
      ]
    },
    {
      "metadata": {
        "id": "QJ3Z5iLFrOs2",
        "colab_type": "code",
        "colab": {
          "autoexec": {
            "startup": false,
            "wait_interval": 0
          }
        }
      },
      "cell_type": "code",
      "source": [
        "from flask import request\n",
        "@app.route('/')\n",
        "def main():\n",
        "    return render_template('index.html')\n",
        "\n",
        "@app.route('/', methods=['POST'])\n",
        "def main_post():\n",
        "    statement = request.form['text']\n",
        "    return render_template('index.html', statement = statement)"
      ],
      "execution_count": 0,
      "outputs": []
    },
    {
      "metadata": {
        "id": "mRhxs_omreFb",
        "colab_type": "text"
      },
      "cell_type": "markdown",
      "source": [
        "Добавляем работу с библиотеками."
      ]
    },
    {
      "metadata": {
        "id": "OP9T66Jep5fO",
        "colab_type": "code",
        "colab": {
          "autoexec": {
            "startup": false,
            "wait_interval": 0
          }
        }
      },
      "cell_type": "code",
      "source": [
        "from pymystem3 import Mystem\n",
        "import pymorphy2\n",
        "from pymorphy2 import MorphAnalyzer\n",
        "morph = MorphAnalyzer()\n",
        "m = Mystem()\n",
        "\n",
        "@app.route('/')\n",
        "def main():\n",
        "    return render_template('index.html')\n",
        "\n",
        "@app.route('/', methods=['POST'])\n",
        "def main_post():\n",
        "    statement = m.analyze(request.form['text'])\n",
        "    return render_template('index.html', statement = statement)"
      ],
      "execution_count": 0,
      "outputs": []
    }
  ]
}