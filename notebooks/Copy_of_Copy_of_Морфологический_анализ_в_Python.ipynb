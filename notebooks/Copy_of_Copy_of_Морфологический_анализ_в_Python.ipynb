{
 "cells": [
  {
   "cell_type": "markdown",
   "metadata": {
    "colab_type": "text",
    "id": "EHHK2KdKFbt0"
   },
   "source": [
    "# Домашнее задание"
   ]
  },
  {
   "cell_type": "markdown",
   "metadata": {
    "colab_type": "text",
    "id": "1yOZlmniLlkE"
   },
   "source": [
    "**Задание:** Написать веб-сервис (или бота), с которой можно разговаривать: пользователь пишет ей реплику, а она отвечает предложением, в котором все слова заменены на какие-то случайные другие слова той же части речи и с теми же грамматическими характеристиками. Предложение-ответ должно быть согласованным.\n",
    "\n",
    "Например, на фразу \"Мама мыла раму\" программа может ответить \"Девочка пела песню\".\n",
    "\n",
    "Решение нужно разместить на PythonAnywhere.\n",
    "\n",
    "Для такой программы вам понадобится большой список русских слов:\n",
    "\n",
    "можно взять список словоформ с сайта НКРЯ - http://ruscorpora.ru/corpora-freq.html\n",
    "можно взять просто любой большой текст, вытащить из него слова и использовать их.\n",
    "\n",
    "Из этого списка вам нужен только список разных лемм разных частей речи, и затем нужно будет использовать функции parse и inflect."
   ]
  },
  {
   "cell_type": "markdown",
   "metadata": {
    "colab_type": "text",
    "id": "3eLlc1P1SNTW"
   },
   "source": [
    "https://github.com/nlpub/pymystem3"
   ]
  },
  {
   "cell_type": "markdown",
   "metadata": {
    "colab_type": "text",
    "id": "NRe8mfd7SNTQ"
   },
   "source": [
    "https://github.com/nlpub/pymystem3/blob/master/pymystem3/mystem.py"
   ]
  },
  {
   "cell_type": "markdown",
   "metadata": {
    "colab_type": "text",
    "id": "x7ozDFbrLfRD"
   },
   "source": [
    "https://tech.yandex.ru/mystem/doc/grammemes-values-docpage/"
   ]
  },
  {
   "cell_type": "markdown",
   "metadata": {
    "colab_type": "text",
    "id": "Q2hR-p8_RKKc"
   },
   "source": [
    "https://pymorphy2.readthedocs.io/en/latest/\n",
    "https://pymorphy2.readthedocs.io/en/latest/user/grammemes.html\n",
    "\n"
   ]
  },
  {
   "cell_type": "markdown",
   "metadata": {
    "colab_type": "text",
    "id": "a4Ee2sAKmY44"
   },
   "source": [
    "Установка необходимых библиотек."
   ]
  },
  {
   "cell_type": "code",
   "execution_count": 1,
   "metadata": {
    "colab": {
     "autoexec": {
      "startup": false,
      "wait_interval": 0
     },
     "base_uri": "https://localhost:8080/",
     "height": 84
    },
    "colab_type": "code",
    "executionInfo": {
     "elapsed": 2726,
     "status": "ok",
     "timestamp": 1525855398081,
     "user": {
      "displayName": "Ekaterina Loginova",
      "photoUrl": "//lh5.googleusercontent.com/-rTHOnLQH_r8/AAAAAAAAAAI/AAAAAAAALEs/6WzKwScZqD0/s50-c-k-no/photo.jpg",
      "userId": "104307473242491844073"
     },
     "user_tz": -120
    },
    "id": "jTkvIB1S_Zhi",
    "outputId": "0b5e684e-c2fe-4f29-de28-44da1d1c053f"
   },
   "outputs": [
    {
     "name": "stdout",
     "output_type": "stream",
     "text": [
      "Requirement already satisfied: pymorphy2 in c:\\users\\kath\\anaconda3\\lib\\site-packages\n",
      "Requirement already satisfied: pymorphy2-dicts<3.0,>=2.4 in c:\\users\\kath\\anaconda3\\lib\\site-packages (from pymorphy2)\n",
      "Requirement already satisfied: dawg-python>=0.7 in c:\\users\\kath\\anaconda3\\lib\\site-packages (from pymorphy2)\n",
      "Requirement already satisfied: docopt>=0.6 in c:\\users\\kath\\anaconda3\\lib\\site-packages (from pymorphy2)\n"
     ]
    },
    {
     "name": "stderr",
     "output_type": "stream",
     "text": [
      "You are using pip version 9.0.1, however version 10.0.1 is available.\n",
      "You should consider upgrading via the 'python -m pip install --upgrade pip' command.\n"
     ]
    }
   ],
   "source": [
    "!pip install pymorphy2"
   ]
  },
  {
   "cell_type": "code",
   "execution_count": 2,
   "metadata": {
    "colab": {
     "autoexec": {
      "startup": false,
      "wait_interval": 0
     },
     "base_uri": "https://localhost:8080/",
     "height": 151
    },
    "colab_type": "code",
    "executionInfo": {
     "elapsed": 5369,
     "status": "ok",
     "timestamp": 1525855442487,
     "user": {
      "displayName": "Ekaterina Loginova",
      "photoUrl": "//lh5.googleusercontent.com/-rTHOnLQH_r8/AAAAAAAAAAI/AAAAAAAALEs/6WzKwScZqD0/s50-c-k-no/photo.jpg",
      "userId": "104307473242491844073"
     },
     "user_tz": -120
    },
    "id": "lP1mPwf1EFYy",
    "outputId": "15568c38-9eb9-41c8-e95a-e4a66a0525ef"
   },
   "outputs": [
    {
     "name": "stdout",
     "output_type": "stream",
     "text": [
      "Collecting pymystem3\n",
      "  Downloading https://files.pythonhosted.org/packages/89/df/830317a0fc4baefd18bdb8294cb2e3eb1729afeeb983c90413019bbcc797/pymystem3-0.1.9.tar.gz\n",
      "Requirement already satisfied: requests in c:\\users\\kath\\anaconda3\\lib\\site-packages (from pymystem3)\n",
      "Requirement already satisfied: urllib3<1.23,>=1.21.1 in c:\\users\\kath\\anaconda3\\lib\\site-packages (from requests->pymystem3)\n",
      "Requirement already satisfied: certifi>=2017.4.17 in c:\\users\\kath\\anaconda3\\lib\\site-packages (from requests->pymystem3)\n",
      "Requirement already satisfied: chardet<3.1.0,>=3.0.2 in c:\\users\\kath\\anaconda3\\lib\\site-packages (from requests->pymystem3)\n",
      "Requirement already satisfied: idna<2.7,>=2.5 in c:\\users\\kath\\anaconda3\\lib\\site-packages (from requests->pymystem3)\n",
      "Building wheels for collected packages: pymystem3\n",
      "  Running setup.py bdist_wheel for pymystem3: started\n",
      "  Running setup.py bdist_wheel for pymystem3: finished with status 'done'\n",
      "  Stored in directory: C:\\Users\\kath\\AppData\\Local\\pip\\Cache\\wheels\\55\\d3\\d3\\324a9502a055d4c651f7e61113fe60ad2df54ab7244a6dae6e\n",
      "Successfully built pymystem3\n",
      "Installing collected packages: pymystem3\n",
      "Successfully installed pymystem3-0.1.9\n"
     ]
    },
    {
     "name": "stderr",
     "output_type": "stream",
     "text": [
      "You are using pip version 9.0.1, however version 10.0.1 is available.\n",
      "You should consider upgrading via the 'python -m pip install --upgrade pip' command.\n"
     ]
    }
   ],
   "source": [
    "!pip install pymystem3"
   ]
  },
  {
   "cell_type": "markdown",
   "metadata": {
    "colab_type": "text",
    "id": "WlttxuzpmekU"
   },
   "source": [
    "Скачиваем слова из корпуса русского языка."
   ]
  },
  {
   "cell_type": "code",
   "execution_count": 37,
   "metadata": {
    "colab": {
     "autoexec": {
      "startup": false,
      "wait_interval": 0
     },
     "base_uri": "https://localhost:8080/",
     "height": 202
    },
    "colab_type": "code",
    "executionInfo": {
     "elapsed": 16434,
     "status": "ok",
     "timestamp": 1525855489107,
     "user": {
      "displayName": "Ekaterina Loginova",
      "photoUrl": "//lh5.googleusercontent.com/-rTHOnLQH_r8/AAAAAAAAAAI/AAAAAAAALEs/6WzKwScZqD0/s50-c-k-no/photo.jpg",
      "userId": "104307473242491844073"
     },
     "user_tz": -120
    },
    "id": "Ie8EqHsiBrBQ",
    "outputId": "d991ae1b-13e5-4d58-9c4c-e63920a545e6"
   },
   "outputs": [
    {
     "name": "stdout",
     "output_type": "stream",
     "text": [
      "--2018-05-09 08:44:34--  http://ruscorpora.ru/ngrams/1grams-3.zip\r\n",
      "Resolving ruscorpora.ru (ruscorpora.ru)... 94.127.67.66\n",
      "Connecting to ruscorpora.ru (ruscorpora.ru)|94.127.67.66|:80... connected.\n",
      "HTTP request sent, awaiting response... 200 OK\n",
      "Length: 5663668 (5.4M) [application/zip]\n",
      "Saving to: ‘1grams-3.zip.1’\n",
      "\n",
      "1grams-3.zip.1      100%[===================>]   5.40M   485KB/s    in 15s     \n",
      "\n",
      "2018-05-09 08:44:49 (381 KB/s) - ‘1grams-3.zip.1’ saved [5663668/5663668]\n",
      "\n"
     ]
    }
   ],
   "source": [
    "!wget http://ruscorpora.ru/ngrams/1grams-3.zip"
   ]
  },
  {
   "cell_type": "code",
   "execution_count": 0,
   "metadata": {
    "colab": {
     "autoexec": {
      "startup": false,
      "wait_interval": 0
     },
     "base_uri": "https://localhost:8080/",
     "height": 50
    },
    "colab_type": "code",
    "id": "BCUvAjWTDDGj",
    "outputId": "8834e2e3-7182-49b8-e4c5-5a6b591f3c2e"
   },
   "outputs": [
    {
     "name": "stdout",
     "output_type": "stream",
     "text": [
      "Archive:  1grams-3.zip\r\n",
      "replace 1grams-3.txt? [y]es, [n]o, [A]ll, [N]one, [r]ename: "
     ]
    }
   ],
   "source": [
    "!unzip 1grams-3.zip"
   ]
  },
  {
   "cell_type": "code",
   "execution_count": 4,
   "metadata": {
    "colab": {
     "autoexec": {
      "startup": false,
      "wait_interval": 0
     }
    },
    "colab_type": "code",
    "id": "aEU2K1tBDJcN"
   },
   "outputs": [],
   "source": [
    "with open('1grams-3.txt', 'r', encoding = 'utf-8') as f:\n",
    "    content = f.readlines()"
   ]
  },
  {
   "cell_type": "code",
   "execution_count": 5,
   "metadata": {
    "colab": {
     "autoexec": {
      "startup": false,
      "wait_interval": 0
     },
     "base_uri": "https://localhost:8080/",
     "height": 185
    },
    "colab_type": "code",
    "executionInfo": {
     "elapsed": 736,
     "status": "ok",
     "timestamp": 1525854798959,
     "user": {
      "displayName": "Ekaterina Loginova",
      "photoUrl": "//lh5.googleusercontent.com/-rTHOnLQH_r8/AAAAAAAAAAI/AAAAAAAALEs/6WzKwScZqD0/s50-c-k-no/photo.jpg",
      "userId": "104307473242491844073"
     },
     "user_tz": -120
    },
    "id": "b2uDn38UDR0-",
    "outputId": "9774fe4d-29f4-436a-81cf-4c7021f53e1b"
   },
   "outputs": [
    {
     "data": {
      "text/plain": [
       "['6829968\\tи\\n',\n",
       " '5190215\\tв\\n',\n",
       " '3164900\\tне\\n',\n",
       " '2729210\\tна\\n',\n",
       " '2064408\\tс\\n',\n",
       " '2064178\\tчто\\n',\n",
       " '1146383\\tкак\\n',\n",
       " '1092177\\tя\\n',\n",
       " '1046292\\tк\\n',\n",
       " '1040711\\tон\\n']"
      ]
     },
     "execution_count": 5,
     "metadata": {},
     "output_type": "execute_result"
    }
   ],
   "source": [
    "content[0:10]"
   ]
  },
  {
   "cell_type": "code",
   "execution_count": 6,
   "metadata": {
    "colab": {
     "autoexec": {
      "startup": false,
      "wait_interval": 0
     },
     "base_uri": "https://localhost:8080/",
     "height": 34
    },
    "colab_type": "code",
    "executionInfo": {
     "elapsed": 507,
     "status": "ok",
     "timestamp": 1525854800155,
     "user": {
      "displayName": "Ekaterina Loginova",
      "photoUrl": "//lh5.googleusercontent.com/-rTHOnLQH_r8/AAAAAAAAAAI/AAAAAAAALEs/6WzKwScZqD0/s50-c-k-no/photo.jpg",
      "userId": "104307473242491844073"
     },
     "user_tz": -120
    },
    "id": "We17WcjPDfzW",
    "outputId": "8ecb6a6d-0bac-4458-8dc5-8ae2f7384c9e"
   },
   "outputs": [
    {
     "data": {
      "text/plain": [
       "'и'"
      ]
     },
     "execution_count": 6,
     "metadata": {},
     "output_type": "execute_result"
    }
   ],
   "source": [
    "content[0].split('\\t')[-1].strip()"
   ]
  },
  {
   "cell_type": "code",
   "execution_count": 7,
   "metadata": {
    "colab": {
     "autoexec": {
      "startup": false,
      "wait_interval": 0
     }
    },
    "colab_type": "code",
    "collapsed": true,
    "id": "jHI6R4XsDbpE"
   },
   "outputs": [],
   "source": [
    "words = [line.split('\\t')[-1].strip() for line in content]"
   ]
  },
  {
   "cell_type": "code",
   "execution_count": 8,
   "metadata": {
    "colab": {
     "autoexec": {
      "startup": false,
      "wait_interval": 0
     },
     "base_uri": "https://localhost:8080/",
     "height": 34
    },
    "colab_type": "code",
    "executionInfo": {
     "elapsed": 519,
     "status": "ok",
     "timestamp": 1525854814351,
     "user": {
      "displayName": "Ekaterina Loginova",
      "photoUrl": "//lh5.googleusercontent.com/-rTHOnLQH_r8/AAAAAAAAAAI/AAAAAAAALEs/6WzKwScZqD0/s50-c-k-no/photo.jpg",
      "userId": "104307473242491844073"
     },
     "user_tz": -120
    },
    "id": "xjpIjOTZDphi",
    "outputId": "52f8fb39-4fe6-472d-a4f0-ebddb1d5b5c4"
   },
   "outputs": [
    {
     "data": {
      "text/plain": [
       "1054210"
      ]
     },
     "execution_count": 8,
     "metadata": {},
     "output_type": "execute_result"
    }
   ],
   "source": [
    "len(words)"
   ]
  },
  {
   "cell_type": "code",
   "execution_count": 9,
   "metadata": {
    "colab": {
     "autoexec": {
      "startup": false,
      "wait_interval": 0
     },
     "base_uri": "https://localhost:8080/",
     "height": 34
    },
    "colab_type": "code",
    "executionInfo": {
     "elapsed": 11192,
     "status": "ok",
     "timestamp": 1525854831359,
     "user": {
      "displayName": "Ekaterina Loginova",
      "photoUrl": "//lh5.googleusercontent.com/-rTHOnLQH_r8/AAAAAAAAAAI/AAAAAAAALEs/6WzKwScZqD0/s50-c-k-no/photo.jpg",
      "userId": "104307473242491844073"
     },
     "user_tz": -120
    },
    "id": "yE4CxJ9TDrb2",
    "outputId": "3879cf57-f055-40b9-eca6-8e36dd1e8e0f"
   },
   "outputs": [
    {
     "data": {
      "text/plain": [
       "1054210"
      ]
     },
     "execution_count": 9,
     "metadata": {},
     "output_type": "execute_result"
    }
   ],
   "source": [
    "len(set(words))"
   ]
  },
  {
   "cell_type": "markdown",
   "metadata": {
    "colab_type": "text",
    "id": "17HNabaTFftf"
   },
   "source": [
    "# Программа"
   ]
  },
  {
   "cell_type": "markdown",
   "metadata": {
    "colab_type": "text",
    "id": "bjjmuZcWDIpw"
   },
   "source": [
    "Импортируем библиотеки."
   ]
  },
  {
   "cell_type": "code",
   "execution_count": 10,
   "metadata": {
    "colab": {
     "autoexec": {
      "startup": false,
      "wait_interval": 0
     }
    },
    "colab_type": "code",
    "collapsed": true,
    "id": "JDGtODx9ENmD"
   },
   "outputs": [],
   "source": [
    "from pymystem3 import Mystem\n",
    "import pymorphy2\n",
    "from pymorphy2 import MorphAnalyzer"
   ]
  },
  {
   "cell_type": "markdown",
   "metadata": {
    "colab_type": "text",
    "id": "sIVXJwEwmqFE"
   },
   "source": [
    "Создаем экземпляры морфологических парсеров."
   ]
  },
  {
   "cell_type": "code",
   "execution_count": 11,
   "metadata": {
    "colab": {
     "autoexec": {
      "startup": false,
      "wait_interval": 0
     },
     "base_uri": "https://localhost:8080/",
     "height": 34
    },
    "colab_type": "code",
    "executionInfo": {
     "elapsed": 3564,
     "status": "ok",
     "timestamp": 1525854837347,
     "user": {
      "displayName": "Ekaterina Loginova",
      "photoUrl": "//lh5.googleusercontent.com/-rTHOnLQH_r8/AAAAAAAAAAI/AAAAAAAALEs/6WzKwScZqD0/s50-c-k-no/photo.jpg",
      "userId": "104307473242491844073"
     },
     "user_tz": -120
    },
    "id": "05qMBgjnFOw0",
    "outputId": "d9ed2cfb-1d22-4a10-d9ca-9dca7220c9d3"
   },
   "outputs": [
    {
     "name": "stderr",
     "output_type": "stream",
     "text": [
      "Installing mystem to C:\\Users\\kath/.local/bin\\mystem.exe from http://download.cdn.yandex.net/mystem/mystem-3.0-win7-64bit.zip\n"
     ]
    }
   ],
   "source": [
    "morph = MorphAnalyzer()\n",
    "m = Mystem()"
   ]
  },
  {
   "cell_type": "markdown",
   "metadata": {
    "colab_type": "text",
    "id": "pRHmjQUsm3SV"
   },
   "source": [
    "Пример функций Mystem"
   ]
  },
  {
   "cell_type": "code",
   "execution_count": 12,
   "metadata": {
    "colab": {
     "autoexec": {
      "startup": false,
      "wait_interval": 0
     }
    },
    "colab_type": "code",
    "collapsed": true,
    "id": "q13e5lo3m3b-"
   },
   "outputs": [],
   "source": [
    "text = 'Мама мыла раму'"
   ]
  },
  {
   "cell_type": "code",
   "execution_count": 13,
   "metadata": {
    "colab": {
     "autoexec": {
      "startup": false,
      "wait_interval": 0
     },
     "base_uri": "https://localhost:8080/",
     "height": 54
    },
    "colab_type": "code",
    "executionInfo": {
     "elapsed": 1659,
     "status": "ok",
     "timestamp": 1525854847460,
     "user": {
      "displayName": "Ekaterina Loginova",
      "photoUrl": "//lh5.googleusercontent.com/-rTHOnLQH_r8/AAAAAAAAAAI/AAAAAAAALEs/6WzKwScZqD0/s50-c-k-no/photo.jpg",
      "userId": "104307473242491844073"
     },
     "user_tz": -120
    },
    "id": "wsnYTugNIGU6",
    "outputId": "054db3ab-c0dd-4071-9be8-4da583e6f357"
   },
   "outputs": [
    {
     "name": "stdout",
     "output_type": "stream",
     "text": [
      "[{'analysis': [{'lex': 'мама', 'gr': 'S,жен,од=им,ед'}], 'text': 'Мама'}, {'text': ' '}, {'analysis': [{'lex': 'мыть', 'gr': 'V,несов,пе=прош,ед,изъяв,жен'}], 'text': 'мыла'}, {'text': ' '}, {'analysis': [{'lex': 'рама', 'gr': 'S,жен,неод=вин,ед'}], 'text': 'раму'}, {'text': '\\n'}]\n"
     ]
    }
   ],
   "source": [
    "ana = m.analyze(text)\n",
    "print(ana)"
   ]
  },
  {
   "cell_type": "code",
   "execution_count": 14,
   "metadata": {
    "colab": {
     "autoexec": {
      "startup": false,
      "wait_interval": 0
     },
     "base_uri": "https://localhost:8080/",
     "height": 34
    },
    "colab_type": "code",
    "executionInfo": {
     "elapsed": 683,
     "status": "ok",
     "timestamp": 1525854848579,
     "user": {
      "displayName": "Ekaterina Loginova",
      "photoUrl": "//lh5.googleusercontent.com/-rTHOnLQH_r8/AAAAAAAAAAI/AAAAAAAALEs/6WzKwScZqD0/s50-c-k-no/photo.jpg",
      "userId": "104307473242491844073"
     },
     "user_tz": -120
    },
    "id": "fWBHjOqZIxH9",
    "outputId": "e3796fe3-ade3-4c67-ea84-08e0a2f191b4"
   },
   "outputs": [
    {
     "name": "stdout",
     "output_type": "stream",
     "text": [
      "['мама', ' ', 'мыть', ' ', 'рама', '\\n']\n"
     ]
    }
   ],
   "source": [
    "lemmas = m.lemmatize(text)\n",
    "print(lemmas)"
   ]
  },
  {
   "cell_type": "markdown",
   "metadata": {
    "colab_type": "text",
    "id": "Y192eDREm9rs"
   },
   "source": [
    "Пример функций PyMorphy"
   ]
  },
  {
   "cell_type": "code",
   "execution_count": 15,
   "metadata": {
    "colab": {
     "autoexec": {
      "startup": false,
      "wait_interval": 0
     },
     "base_uri": "https://localhost:8080/",
     "height": 87
    },
    "colab_type": "code",
    "executionInfo": {
     "elapsed": 7210,
     "status": "ok",
     "timestamp": 1525854859911,
     "user": {
      "displayName": "Ekaterina Loginova",
      "photoUrl": "//lh5.googleusercontent.com/-rTHOnLQH_r8/AAAAAAAAAAI/AAAAAAAALEs/6WzKwScZqD0/s50-c-k-no/photo.jpg",
      "userId": "104307473242491844073"
     },
     "user_tz": -120
    },
    "id": "X1zPNwtKHIiO",
    "outputId": "801e18ae-8e50-46ec-ce9b-5eb827a33c2b"
   },
   "outputs": [
    {
     "name": "stdout",
     "output_type": "stream",
     "text": [
      "[Parse(word='мама', tag=OpencorporaTag('NOUN,anim,femn sing,nomn'), normal_form='мама', score=1.0, methods_stack=((<DictionaryAnalyzer>, 'мама', 1907, 0),))]\n",
      "[Parse(word='мыла', tag=OpencorporaTag('NOUN,inan,neut sing,gent'), normal_form='мыло', score=0.333333, methods_stack=((<DictionaryAnalyzer>, 'мыла', 54, 1),)), Parse(word='мыла', tag=OpencorporaTag('VERB,impf,tran femn,sing,past,indc'), normal_form='мыть', score=0.333333, methods_stack=((<DictionaryAnalyzer>, 'мыла', 1813, 8),)), Parse(word='мыла', tag=OpencorporaTag('NOUN,inan,neut plur,nomn'), normal_form='мыло', score=0.166666, methods_stack=((<DictionaryAnalyzer>, 'мыла', 54, 6),)), Parse(word='мыла', tag=OpencorporaTag('NOUN,inan,neut plur,accs'), normal_form='мыло', score=0.166666, methods_stack=((<DictionaryAnalyzer>, 'мыла', 54, 9),))]\n",
      "[Parse(word='раму', tag=OpencorporaTag('NOUN,inan,masc,Geox sing,datv'), normal_form='рам', score=0.5, methods_stack=((<DictionaryAnalyzer>, 'раму', 32, 2),)), Parse(word='раму', tag=OpencorporaTag('NOUN,inan,femn sing,accs'), normal_form='рама', score=0.5, methods_stack=((<DictionaryAnalyzer>, 'раму', 55, 3),))]\n"
     ]
    }
   ],
   "source": [
    "tokens = text.split()\n",
    "for token in tokens:\n",
    "    print(morph.parse(token))"
   ]
  },
  {
   "cell_type": "code",
   "execution_count": 16,
   "metadata": {
    "colab": {
     "autoexec": {
      "startup": false,
      "wait_interval": 0
     },
     "base_uri": "https://localhost:8080/",
     "height": 138
    },
    "colab_type": "code",
    "executionInfo": {
     "elapsed": 688,
     "status": "ok",
     "timestamp": 1525854861422,
     "user": {
      "displayName": "Ekaterina Loginova",
      "photoUrl": "//lh5.googleusercontent.com/-rTHOnLQH_r8/AAAAAAAAAAI/AAAAAAAALEs/6WzKwScZqD0/s50-c-k-no/photo.jpg",
      "userId": "104307473242491844073"
     },
     "user_tz": -120
    },
    "id": "URMiyZ6RHvAM",
    "outputId": "4d0889b6-234d-4a45-89b4-e22fd806d8a3"
   },
   "outputs": [
    {
     "name": "stdout",
     "output_type": "stream",
     "text": [
      "[Parse(word='мама', tag=OpencorporaTag('NOUN,anim,femn sing,nomn'), normal_form='мама', score=1.0, methods_stack=((<DictionaryAnalyzer>, 'мама', 1907, 0),))]\n",
      "[Parse(word=' ', tag=OpencorporaTag('UNKN'), normal_form=' ', score=1.0, methods_stack=((<UnknAnalyzer>, ' '),))]\n",
      "[Parse(word='мыть', tag=OpencorporaTag('INFN,impf,tran'), normal_form='мыть', score=1.0, methods_stack=((<DictionaryAnalyzer>, 'мыть', 1813, 0),))]\n",
      "[Parse(word=' ', tag=OpencorporaTag('UNKN'), normal_form=' ', score=1.0, methods_stack=((<UnknAnalyzer>, ' '),))]\n",
      "[Parse(word='рама', tag=OpencorporaTag('NOUN,inan,masc,Geox sing,gent'), normal_form='рам', score=0.5, methods_stack=((<DictionaryAnalyzer>, 'рама', 32, 1),)), Parse(word='рама', tag=OpencorporaTag('NOUN,inan,femn sing,nomn'), normal_form='рама', score=0.5, methods_stack=((<DictionaryAnalyzer>, 'рама', 55, 0),))]\n",
      "[Parse(word='\\n', tag=OpencorporaTag('ROMN'), normal_form='\\n', score=1.0, methods_stack=((<RomanNumberAnalyzer>, '\\n'),))]\n"
     ]
    }
   ],
   "source": [
    "for lemma in lemmas:\n",
    "    print(morph.parse(lemma))"
   ]
  },
  {
   "cell_type": "markdown",
   "metadata": {
    "colab_type": "text",
    "id": "ZiKgLxi5GlDq"
   },
   "source": [
    "Порядок действий:\n",
    "1. Распарсить входное предложение - получить части речи и остальные грамматические характеристики. (с помощью pymorphy)\n",
    "2. Выбрать случайную лемму той же части речи для каждого слова.\n",
    "3. Применить к каждой лемме inflect с входными грамматическими характеристиками."
   ]
  },
  {
   "cell_type": "markdown",
   "metadata": {
    "colab_type": "text",
    "id": "Y6Wn9aHUnG9F"
   },
   "source": [
    "Получаем теги частеречной разметки Mystem для каждого слова."
   ]
  },
  {
   "cell_type": "code",
   "execution_count": 17,
   "metadata": {
    "colab": {
     "autoexec": {
      "startup": false,
      "wait_interval": 0
     },
     "base_uri": "https://localhost:8080/"
    },
    "colab_type": "code",
    "executionInfo": {
     "elapsed": 484,
     "status": "ok",
     "timestamp": 1525854863362,
     "user": {
      "displayName": "Ekaterina Loginova",
      "photoUrl": "//lh5.googleusercontent.com/-rTHOnLQH_r8/AAAAAAAAAAI/AAAAAAAALEs/6WzKwScZqD0/s50-c-k-no/photo.jpg",
      "userId": "104307473242491844073"
     },
     "user_tz": -120
    },
    "id": "wzetbQRyKGRp",
    "outputId": "2747ba35-46ca-499d-e64d-b54225e1106f"
   },
   "outputs": [
    {
     "name": "stdout",
     "output_type": "stream",
     "text": [
      "['S', 'V', 'S']\n"
     ]
    }
   ],
   "source": [
    "pos_tags = []\n",
    "for an in ana:\n",
    "    if 'analysis' in an.keys():\n",
    "        pos_tags.append(an['analysis'][0]['gr'].split(',')[0])\n",
    "print(pos_tags)"
   ]
  },
  {
   "cell_type": "markdown",
   "metadata": {
    "colab_type": "text",
    "id": "Nrh-3TuVnOwj"
   },
   "source": [
    "Нам нужно уметь выбирать новое случайное слово заданной части речи. Для этого необходимо соответствие между словами корпуса и частеречными тегами.\n",
    "Создаем словарь, где ключами будут части речи, а значениями - принадлежещие им слова."
   ]
  },
  {
   "cell_type": "code",
   "execution_count": 20,
   "metadata": {},
   "outputs": [
    {
     "data": {
      "text/plain": [
       "[{'analysis': [{'gr': 'SPRO,ед,3-л,муж=им', 'lex': 'он'}], 'text': 'он'},\n",
       " {'text': '\\n'}]"
      ]
     },
     "execution_count": 20,
     "metadata": {},
     "output_type": "execute_result"
    }
   ],
   "source": [
    "m = Mystem()\n",
    "m.analyze('он')"
   ]
  },
  {
   "cell_type": "code",
   "execution_count": 21,
   "metadata": {},
   "outputs": [
    {
     "data": {
      "text/plain": [
       "[{'analysis': [{'gr': 'SPRO,ед,муж,од=им', 'lex': 'кто'}], 'text': 'кто'},\n",
       " {'text': '\\n'}]"
      ]
     },
     "execution_count": 21,
     "metadata": {},
     "output_type": "execute_result"
    }
   ],
   "source": [
    "m.analyze('кто')"
   ]
  },
  {
   "cell_type": "code",
   "execution_count": 22,
   "metadata": {},
   "outputs": [
    {
     "data": {
      "text/plain": [
       "[{'analysis': [{'gr': 'SPRO,ед,сред,неод=(вин|им)', 'lex': 'что'}],\n",
       "  'text': 'что'},\n",
       " {'text': '\\n'}]"
      ]
     },
     "execution_count": 22,
     "metadata": {},
     "output_type": "execute_result"
    }
   ],
   "source": [
    "m.analyze('что')"
   ]
  },
  {
   "cell_type": "code",
   "execution_count": 23,
   "metadata": {},
   "outputs": [
    {
     "data": {
      "text/plain": [
       "[{'analysis': [{'gr': 'S,сокр=(пр,мн|пр,ед|вин,мн|вин,ед|дат,мн|дат,ед|род,мн|род,ед|твор,мн|твор,ед|им,мн|им,ед)',\n",
       "    'lex': 'в'}],\n",
       "  'text': 'в'},\n",
       " {'text': '\\n'}]"
      ]
     },
     "execution_count": 23,
     "metadata": {},
     "output_type": "execute_result"
    }
   ],
   "source": [
    "m.analyze('в')"
   ]
  },
  {
   "cell_type": "code",
   "execution_count": 24,
   "metadata": {},
   "outputs": [
    {
     "data": {
      "text/plain": [
       "[{'analysis': [{'gr': 'PR=', 'lex': 'из-за'}], 'text': 'из-за'},\n",
       " {'text': '\\n'}]"
      ]
     },
     "execution_count": 24,
     "metadata": {},
     "output_type": "execute_result"
    }
   ],
   "source": [
    "m.analyze('из-за')"
   ]
  },
  {
   "cell_type": "code",
   "execution_count": 25,
   "metadata": {
    "scrolled": true
   },
   "outputs": [
    {
     "data": {
      "text/plain": [
       "[{'analysis': [{'gr': 'CONJ=', 'lex': 'и'}], 'text': 'и'}, {'text': '\\n'}]"
      ]
     },
     "execution_count": 25,
     "metadata": {},
     "output_type": "execute_result"
    }
   ],
   "source": [
    "m.analyze('и')"
   ]
  },
  {
   "cell_type": "code",
   "execution_count": 26,
   "metadata": {
    "scrolled": true
   },
   "outputs": [
    {
     "data": {
      "text/plain": [
       "[{'analysis': [{'gr': 'INTJ=', 'lex': 'ох'}], 'text': 'ох'}, {'text': '\\n'}]"
      ]
     },
     "execution_count": 26,
     "metadata": {},
     "output_type": "execute_result"
    }
   ],
   "source": [
    "m.analyze('ох')"
   ]
  },
  {
   "cell_type": "code",
   "execution_count": 29,
   "metadata": {},
   "outputs": [
    {
     "data": {
      "text/plain": [
       "[{'analysis': [{'gr': 'A=ед,кр,муж', 'lex': 'красивый'}], 'text': 'красив'},\n",
       " {'text': '\\n'}]"
      ]
     },
     "execution_count": 29,
     "metadata": {},
     "output_type": "execute_result"
    }
   ],
   "source": [
    "m.analyze('красив')"
   ]
  },
  {
   "cell_type": "code",
   "execution_count": 28,
   "metadata": {},
   "outputs": [
    {
     "data": {
      "text/plain": [
       "[{'analysis': [{'gr': 'A=(вин,ед,полн,муж,неод|им,ед,полн,муж)',\n",
       "    'lex': 'красивый'}],\n",
       "  'text': 'красивый'},\n",
       " {'text': '\\n'}]"
      ]
     },
     "execution_count": 28,
     "metadata": {},
     "output_type": "execute_result"
    }
   ],
   "source": [
    "m.analyze('красивый')"
   ]
  },
  {
   "cell_type": "code",
   "execution_count": 32,
   "metadata": {},
   "outputs": [
    {
     "data": {
      "text/plain": [
       "[{'analysis': [{'gr': 'PART=', 'lex': 'ли'}], 'text': 'ли'}, {'text': '\\n'}]"
      ]
     },
     "execution_count": 32,
     "metadata": {},
     "output_type": "execute_result"
    }
   ],
   "source": [
    "m.analyze('ли')"
   ]
  },
  {
   "cell_type": "code",
   "execution_count": 33,
   "metadata": {},
   "outputs": [
    {
     "data": {
      "text/plain": [
       "[{'analysis': [{'gr': 'S,муж,од=им,ед', 'lex': 'кот'}], 'text': 'кот'},\n",
       " {'text': '\\n'}]"
      ]
     },
     "execution_count": 33,
     "metadata": {},
     "output_type": "execute_result"
    }
   ],
   "source": [
    "m.analyze('кот')"
   ]
  },
  {
   "cell_type": "code",
   "execution_count": 34,
   "metadata": {},
   "outputs": [
    {
     "data": {
      "text/plain": [
       "[{'analysis': [{'gr': 'S,жен,од=им,ед', 'lex': 'блудница'}],\n",
       "  'text': 'блудница'},\n",
       " {'text': '\\n'}]"
      ]
     },
     "execution_count": 34,
     "metadata": {},
     "output_type": "execute_result"
    }
   ],
   "source": [
    "m.analyze('блудница')"
   ]
  },
  {
   "cell_type": "code",
   "execution_count": 35,
   "metadata": {},
   "outputs": [
    {
     "data": {
      "text/plain": [
       "[{'analysis': [{'gr': 'S,сред,неод=(вин,ед|им,ед)', 'lex': 'облако'}],\n",
       "  'text': 'облако'},\n",
       " {'text': '\\n'}]"
      ]
     },
     "execution_count": 35,
     "metadata": {},
     "output_type": "execute_result"
    }
   ],
   "source": [
    "m.analyze('облако')"
   ]
  },
  {
   "cell_type": "code",
   "execution_count": 36,
   "metadata": {},
   "outputs": [
    {
     "data": {
      "text/plain": [
       "[{'analysis': [{'gr': 'S,жен,неод=им,ед', 'lex': 'рука'}], 'text': 'рука'},\n",
       " {'text': '\\n'}]"
      ]
     },
     "execution_count": 36,
     "metadata": {},
     "output_type": "execute_result"
    }
   ],
   "source": [
    "m.analyze('рука')"
   ]
  },
  {
   "cell_type": "code",
   "execution_count": 31,
   "metadata": {},
   "outputs": [
    {
     "data": {
      "text/plain": [
       "[{'analysis': [{'gr': 'ADVPRO=', 'lex': 'туда'}], 'text': 'туда'},\n",
       " {'text': '\\n'}]"
      ]
     },
     "execution_count": 31,
     "metadata": {},
     "output_type": "execute_result"
    }
   ],
   "source": [
    "m.analyze('туда')"
   ]
  },
  {
   "cell_type": "code",
   "execution_count": 37,
   "metadata": {},
   "outputs": [
    {
     "data": {
      "text/plain": [
       "[{'analysis': [{'gr': 'ANUM=(вин,ед,муж,неод|им,ед,муж)', 'lex': 'двадцатый'}],\n",
       "  'text': 'двадцатый'},\n",
       " {'text': '\\n'}]"
      ]
     },
     "execution_count": 37,
     "metadata": {},
     "output_type": "execute_result"
    }
   ],
   "source": [
    "m.analyze('двадцатый')"
   ]
  },
  {
   "cell_type": "code",
   "execution_count": 38,
   "metadata": {},
   "outputs": [
    {
     "data": {
      "text/plain": [
       "[{'analysis': [{'gr': 'APRO=(вин,ед,муж,неод|им,ед,муж)', 'lex': 'ваш'}],\n",
       "  'text': 'ваш'},\n",
       " {'text': '\\n'}]"
      ]
     },
     "execution_count": 38,
     "metadata": {},
     "output_type": "execute_result"
    }
   ],
   "source": [
    "m.analyze('ваш')"
   ]
  },
  {
   "cell_type": "code",
   "execution_count": 39,
   "metadata": {},
   "outputs": [
    {
     "data": {
      "text/plain": [
       "[{'analysis': [{'gr': 'NUM=(вин|им)', 'lex': 'десять'}], 'text': 'десять'},\n",
       " {'text': '\\n'}]"
      ]
     },
     "execution_count": 39,
     "metadata": {},
     "output_type": "execute_result"
    }
   ],
   "source": [
    "m.analyze('десять')"
   ]
  },
  {
   "cell_type": "code",
   "execution_count": 42,
   "metadata": {},
   "outputs": [
    {
     "data": {
      "text/plain": [
       "[{'analysis': [{'gr': 'V=инф,сов', 'lex': 'умывать'}], 'text': 'умыть'},\n",
       " {'text': '\\n'}]"
      ]
     },
     "execution_count": 42,
     "metadata": {},
     "output_type": "execute_result"
    }
   ],
   "source": [
    "m.analyze('умыть')"
   ]
  },
  {
   "cell_type": "code",
   "execution_count": 43,
   "metadata": {},
   "outputs": [
    {
     "data": {
      "text/plain": [
       "[{'analysis': [{'gr': 'V,несов,пе=инф', 'lex': 'мыть'}], 'text': 'мыть'},\n",
       " {'text': '\\n'}]"
      ]
     },
     "execution_count": 43,
     "metadata": {},
     "output_type": "execute_result"
    }
   ],
   "source": [
    "m.analyze('мыть')"
   ]
  },
  {
   "cell_type": "code",
   "execution_count": 41,
   "metadata": {
    "scrolled": true
   },
   "outputs": [
    {
     "data": {
      "text/plain": [
       "[{'analysis': [{'gr': 'V=инф,несов,пе', 'lex': 'умывать'}], 'text': 'умывать'},\n",
       " {'text': '\\n'}]"
      ]
     },
     "execution_count": 41,
     "metadata": {},
     "output_type": "execute_result"
    }
   ],
   "source": [
    "m.analyze('умывать')"
   ]
  },
  {
   "cell_type": "code",
   "execution_count": 46,
   "metadata": {},
   "outputs": [
    {
     "data": {
      "text/plain": [
       "[{'analysis': [{'gr': 'V=инф,сов', 'lex': 'умывать'}], 'text': 'умыть'},\n",
       " {'text': '\\n'}]"
      ]
     },
     "execution_count": 46,
     "metadata": {},
     "output_type": "execute_result"
    }
   ],
   "source": [
    "m.analyze('умыть')"
   ]
  },
  {
   "cell_type": "code",
   "execution_count": 45,
   "metadata": {},
   "outputs": [
    {
     "data": {
      "text/plain": [
       "[{'analysis': [{'gr': 'V,нп=инф,несов', 'lex': 'умываться'}],\n",
       "  'text': 'умываться'},\n",
       " {'text': '\\n'}]"
      ]
     },
     "execution_count": 45,
     "metadata": {},
     "output_type": "execute_result"
    }
   ],
   "source": [
    "m.analyze('умываться')"
   ]
  },
  {
   "cell_type": "code",
   "execution_count": 47,
   "metadata": {},
   "outputs": [
    {
     "data": {
      "text/plain": [
       "[{'analysis': [{'gr': 'V,нп=инф,сов', 'lex': 'умываться'}], 'text': 'умыться'},\n",
       " {'text': '\\n'}]"
      ]
     },
     "execution_count": 47,
     "metadata": {},
     "output_type": "execute_result"
    }
   ],
   "source": [
    "m.analyze('умыться')"
   ]
  },
  {
   "cell_type": "code",
   "execution_count": 48,
   "metadata": {},
   "outputs": [
    {
     "data": {
      "text/plain": [
       "[{'analysis': [{'gr': 'V=(непрош,мн,изъяв,1-л,несов,пе|непрош,ед,прич,кр,муж,несов,страд,пе)',\n",
       "    'lex': 'умывать'}],\n",
       "  'text': 'умываем'},\n",
       " {'text': '\\n'}]"
      ]
     },
     "execution_count": 48,
     "metadata": {},
     "output_type": "execute_result"
    }
   ],
   "source": [
    "m.analyze('умываем')"
   ]
  },
  {
   "cell_type": "code",
   "execution_count": 49,
   "metadata": {
    "scrolled": true
   },
   "outputs": [
    {
     "data": {
      "text/plain": [
       "[{'analysis': [{'gr': 'V=(непрош,вин,ед,прич,полн,муж,несов,страд,неод,пе|непрош,им,ед,прич,полн,муж,несов,страд,пе)',\n",
       "    'lex': 'умывать'}],\n",
       "  'text': 'умываемый'},\n",
       " {'text': '\\n'}]"
      ]
     },
     "execution_count": 49,
     "metadata": {},
     "output_type": "execute_result"
    }
   ],
   "source": [
    "m.analyze('умываемый')"
   ]
  },
  {
   "cell_type": "markdown",
   "metadata": {},
   "source": [
    "Разные времена"
   ]
  },
  {
   "cell_type": "code",
   "execution_count": 50,
   "metadata": {},
   "outputs": [
    {
     "data": {
      "text/plain": [
       "[{'analysis': [{'gr': 'V=прош,ед,изъяв,муж,сов', 'lex': 'умывать'}],\n",
       "  'text': 'умыл'},\n",
       " {'text': '\\n'}]"
      ]
     },
     "execution_count": 50,
     "metadata": {},
     "output_type": "execute_result"
    }
   ],
   "source": [
    "m.analyze('умыл')"
   ]
  },
  {
   "cell_type": "code",
   "execution_count": 51,
   "metadata": {},
   "outputs": [
    {
     "data": {
      "text/plain": [
       "[{'analysis': [{'gr': 'V=непрош,ед,изъяв,3-л,несов,пе', 'lex': 'умывать'}],\n",
       "  'text': 'умывает'},\n",
       " {'text': '\\n'}]"
      ]
     },
     "execution_count": 51,
     "metadata": {},
     "output_type": "execute_result"
    }
   ],
   "source": [
    "m.analyze('умывает')"
   ]
  },
  {
   "cell_type": "code",
   "execution_count": 53,
   "metadata": {},
   "outputs": [
    {
     "data": {
      "text/plain": [
       "[{'analysis': [{'gr': 'V=инф,несов,пе', 'lex': 'умывать'}], 'text': 'умывать'},\n",
       " {'text': '\\n'}]"
      ]
     },
     "execution_count": 53,
     "metadata": {},
     "output_type": "execute_result"
    }
   ],
   "source": [
    "m.analyze('умывать')"
   ]
  },
  {
   "cell_type": "code",
   "execution_count": 54,
   "metadata": {},
   "outputs": [
    {
     "data": {
      "text/plain": [
       "[{'analysis': [{'gr': 'V=непрош,ед,изъяв,3-л,сов', 'lex': 'умывать'}],\n",
       "  'text': 'умоет'},\n",
       " {'text': '\\n'}]"
      ]
     },
     "execution_count": 54,
     "metadata": {},
     "output_type": "execute_result"
    }
   ],
   "source": [
    "m.analyze('умоет')"
   ]
  },
  {
   "cell_type": "code",
   "execution_count": 55,
   "metadata": {},
   "outputs": [
    {
     "data": {
      "text/plain": [
       "[{'analysis': [{'gr': 'V,нп=инф,несов', 'lex': 'быть'}], 'text': 'быть'},\n",
       " {'text': '\\n'}]"
      ]
     },
     "execution_count": 55,
     "metadata": {},
     "output_type": "execute_result"
    }
   ],
   "source": [
    "m.analyze('быть')"
   ]
  },
  {
   "cell_type": "code",
   "execution_count": 56,
   "metadata": {},
   "outputs": [
    {
     "data": {
      "text/plain": [
       "[{'analysis': [{'gr': 'ADV=', 'lex': 'особенно'}], 'text': 'особенно'},\n",
       " {'text': '\\n'}]"
      ]
     },
     "execution_count": 56,
     "metadata": {},
     "output_type": "execute_result"
    }
   ],
   "source": [
    "m.analyze('особенно')"
   ]
  },
  {
   "cell_type": "code",
   "execution_count": 57,
   "metadata": {},
   "outputs": [
    {
     "data": {
      "text/plain": [
       "[{'analysis': [{'gr': 'ADV,вводн=', 'lex': 'вернее'}], 'text': 'вернее'},\n",
       " {'text': '\\n'}]"
      ]
     },
     "execution_count": 57,
     "metadata": {},
     "output_type": "execute_result"
    }
   ],
   "source": [
    "m.analyze('вернее')"
   ]
  },
  {
   "cell_type": "code",
   "execution_count": 58,
   "metadata": {},
   "outputs": [
    {
     "data": {
      "text/plain": [
       "[{'analysis': [{'gr': 'ADV=срав,вводн', 'lex': 'короче'}], 'text': 'короче'},\n",
       " {'text': '\\n'}]"
      ]
     },
     "execution_count": 58,
     "metadata": {},
     "output_type": "execute_result"
    }
   ],
   "source": [
    "m.analyze('короче')"
   ]
  },
  {
   "cell_type": "code",
   "execution_count": 59,
   "metadata": {},
   "outputs": [
    {
     "data": {
      "text/plain": [
       "[{'analysis': [{'gr': 'S,гео,жен,неод=им,ед', 'lex': 'англия'}],\n",
       "  'text': 'Англия'},\n",
       " {'text': '\\n'}]"
      ]
     },
     "execution_count": 59,
     "metadata": {},
     "output_type": "execute_result"
    }
   ],
   "source": [
    "m.analyze('Англия')"
   ]
  },
  {
   "cell_type": "code",
   "execution_count": 60,
   "metadata": {},
   "outputs": [
    {
     "data": {
      "text/plain": [
       "[{'analysis': [{'gr': 'S,имя,жен,од=им,ед', 'lex': 'мария'}], 'text': 'Мария'},\n",
       " {'text': '\\n'}]"
      ]
     },
     "execution_count": 60,
     "metadata": {},
     "output_type": "execute_result"
    }
   ],
   "source": [
    "m.analyze('Мария')"
   ]
  },
  {
   "cell_type": "markdown",
   "metadata": {},
   "source": []
  },
  {
   "cell_type": "code",
   "execution_count": 18,
   "metadata": {
    "colab": {
     "autoexec": {
      "startup": false,
      "wait_interval": 0
     }
    },
    "colab_type": "code",
    "id": "VU7r_rljLlaR"
   },
   "outputs": [
    {
     "name": "stdout",
     "output_type": "stream",
     "text": [
      "31\r"
     ]
    },
    {
     "ename": "KeyboardInterrupt",
     "evalue": "",
     "output_type": "error",
     "traceback": [
      "\u001b[1;31m---------------------------------------------------------------------------\u001b[0m",
      "\u001b[1;31mKeyboardInterrupt\u001b[0m                         Traceback (most recent call last)",
      "\u001b[1;32m<ipython-input-18-4ea6bea74305>\u001b[0m in \u001b[0;36m<module>\u001b[1;34m()\u001b[0m\n\u001b[0;32m      3\u001b[0m \u001b[1;32mfor\u001b[0m \u001b[0mi\u001b[0m\u001b[1;33m,\u001b[0m \u001b[0mword\u001b[0m \u001b[1;32min\u001b[0m \u001b[0menumerate\u001b[0m\u001b[1;33m(\u001b[0m\u001b[0mwords\u001b[0m\u001b[1;33m[\u001b[0m\u001b[1;33m:\u001b[0m\u001b[0mnum_words\u001b[0m\u001b[1;33m]\u001b[0m\u001b[1;33m)\u001b[0m\u001b[1;33m:\u001b[0m\u001b[1;33m\u001b[0m\u001b[0m\n\u001b[0;32m      4\u001b[0m     \u001b[0mprint\u001b[0m\u001b[1;33m(\u001b[0m\u001b[0mi\u001b[0m\u001b[1;33m,\u001b[0m \u001b[0mend\u001b[0m \u001b[1;33m=\u001b[0m \u001b[1;34m'\\r'\u001b[0m\u001b[1;33m)\u001b[0m\u001b[1;33m\u001b[0m\u001b[0m\n\u001b[1;32m----> 5\u001b[1;33m     \u001b[0mword\u001b[0m \u001b[1;33m=\u001b[0m \u001b[0mm\u001b[0m\u001b[1;33m.\u001b[0m\u001b[0mlemmatize\u001b[0m\u001b[1;33m(\u001b[0m\u001b[0mword\u001b[0m\u001b[1;33m)\u001b[0m\u001b[1;33m[\u001b[0m\u001b[1;36m0\u001b[0m\u001b[1;33m]\u001b[0m\u001b[1;33m\u001b[0m\u001b[0m\n\u001b[0m\u001b[0;32m      6\u001b[0m     \u001b[0mana\u001b[0m \u001b[1;33m=\u001b[0m \u001b[0mm\u001b[0m\u001b[1;33m.\u001b[0m\u001b[0manalyze\u001b[0m\u001b[1;33m(\u001b[0m\u001b[0mword\u001b[0m\u001b[1;33m)\u001b[0m\u001b[1;33m\u001b[0m\u001b[0m\n\u001b[0;32m      7\u001b[0m     \u001b[1;32mif\u001b[0m \u001b[1;34m'analysis'\u001b[0m \u001b[1;32min\u001b[0m \u001b[0mana\u001b[0m\u001b[1;33m[\u001b[0m\u001b[1;36m0\u001b[0m\u001b[1;33m]\u001b[0m\u001b[1;33m.\u001b[0m\u001b[0mkeys\u001b[0m\u001b[1;33m(\u001b[0m\u001b[1;33m)\u001b[0m\u001b[1;33m:\u001b[0m\u001b[1;33m\u001b[0m\u001b[0m\n",
      "\u001b[1;32mC:\\Users\\kath\\Anaconda3\\lib\\site-packages\\pymystem3\\mystem.py\u001b[0m in \u001b[0;36mlemmatize\u001b[1;34m(self, text)\u001b[0m\n\u001b[0;32m    262\u001b[0m         \u001b[0mneed_encode\u001b[0m \u001b[1;33m=\u001b[0m \u001b[1;33m(\u001b[0m\u001b[0msys\u001b[0m\u001b[1;33m.\u001b[0m\u001b[0mversion_info\u001b[0m\u001b[1;33m[\u001b[0m\u001b[1;36m0\u001b[0m\u001b[1;33m]\u001b[0m \u001b[1;33m<\u001b[0m \u001b[1;36m3\u001b[0m \u001b[1;32mand\u001b[0m \u001b[0misinstance\u001b[0m\u001b[1;33m(\u001b[0m\u001b[0mtext\u001b[0m\u001b[1;33m,\u001b[0m \u001b[0mstr\u001b[0m\u001b[1;33m)\u001b[0m\u001b[1;33m)\u001b[0m\u001b[1;33m\u001b[0m\u001b[0m\n\u001b[0;32m    263\u001b[0m \u001b[1;33m\u001b[0m\u001b[0m\n\u001b[1;32m--> 264\u001b[1;33m         \u001b[0minfos\u001b[0m \u001b[1;33m=\u001b[0m \u001b[0mself\u001b[0m\u001b[1;33m.\u001b[0m\u001b[0manalyze\u001b[0m\u001b[1;33m(\u001b[0m\u001b[0mtext\u001b[0m\u001b[1;33m)\u001b[0m\u001b[1;33m\u001b[0m\u001b[0m\n\u001b[0m\u001b[0;32m    265\u001b[0m         \u001b[0mlemmas\u001b[0m \u001b[1;33m=\u001b[0m \u001b[0mlist\u001b[0m\u001b[1;33m(\u001b[0m\u001b[0mfilter\u001b[0m\u001b[1;33m(\u001b[0m\u001b[1;32mNone\u001b[0m\u001b[1;33m,\u001b[0m \u001b[0mmap\u001b[0m\u001b[1;33m(\u001b[0m\u001b[0mself\u001b[0m\u001b[1;33m.\u001b[0m\u001b[0m_get_lemma\u001b[0m\u001b[1;33m,\u001b[0m \u001b[0minfos\u001b[0m\u001b[1;33m)\u001b[0m\u001b[1;33m)\u001b[0m\u001b[1;33m)\u001b[0m\u001b[1;33m\u001b[0m\u001b[0m\n\u001b[0;32m    266\u001b[0m \u001b[1;33m\u001b[0m\u001b[0m\n",
      "\u001b[1;32mC:\\Users\\kath\\Anaconda3\\lib\\site-packages\\pymystem3\\mystem.py\u001b[0m in \u001b[0;36manalyze\u001b[1;34m(self, text)\u001b[0m\n\u001b[0;32m    247\u001b[0m         \u001b[0mresult\u001b[0m \u001b[1;33m=\u001b[0m \u001b[1;33m[\u001b[0m\u001b[1;33m]\u001b[0m\u001b[1;33m\u001b[0m\u001b[0m\n\u001b[0;32m    248\u001b[0m         \u001b[1;32mfor\u001b[0m \u001b[0mline\u001b[0m \u001b[1;32min\u001b[0m \u001b[0mtext\u001b[0m\u001b[1;33m.\u001b[0m\u001b[0msplitlines\u001b[0m\u001b[1;33m(\u001b[0m\u001b[1;33m)\u001b[0m\u001b[1;33m:\u001b[0m\u001b[1;33m\u001b[0m\u001b[0m\n\u001b[1;32m--> 249\u001b[1;33m             \u001b[0mresult\u001b[0m\u001b[1;33m.\u001b[0m\u001b[0mextend\u001b[0m\u001b[1;33m(\u001b[0m\u001b[0mself\u001b[0m\u001b[1;33m.\u001b[0m\u001b[0m_analyze_impl\u001b[0m\u001b[1;33m(\u001b[0m\u001b[0mline\u001b[0m\u001b[1;33m)\u001b[0m\u001b[1;33m)\u001b[0m\u001b[1;33m\u001b[0m\u001b[0m\n\u001b[0m\u001b[0;32m    250\u001b[0m         \u001b[1;32mreturn\u001b[0m \u001b[0mresult\u001b[0m\u001b[1;33m\u001b[0m\u001b[0m\n\u001b[0;32m    251\u001b[0m \u001b[1;33m\u001b[0m\u001b[0m\n",
      "\u001b[1;32mC:\\Users\\kath\\Anaconda3\\lib\\site-packages\\pymystem3\\mystem.py\u001b[0m in \u001b[0;36m_analyze_impl\u001b[1;34m(self, text)\u001b[0m\n\u001b[0;32m    310\u001b[0m             \u001b[0mself\u001b[0m\u001b[1;33m.\u001b[0m\u001b[0m_procin\u001b[0m\u001b[1;33m.\u001b[0m\u001b[0mwrite\u001b[0m\u001b[1;33m(\u001b[0m\u001b[0m_NL\u001b[0m\u001b[1;33m)\u001b[0m\u001b[1;33m\u001b[0m\u001b[0m\n\u001b[0;32m    311\u001b[0m \u001b[1;33m\u001b[0m\u001b[0m\n\u001b[1;32m--> 312\u001b[1;33m             \u001b[0mout\u001b[0m\u001b[1;33m,\u001b[0m \u001b[0m_\u001b[0m \u001b[1;33m=\u001b[0m \u001b[0mself\u001b[0m\u001b[1;33m.\u001b[0m\u001b[0m_proc\u001b[0m\u001b[1;33m.\u001b[0m\u001b[0mcommunicate\u001b[0m\u001b[1;33m(\u001b[0m\u001b[1;33m)\u001b[0m\u001b[1;33m\u001b[0m\u001b[0m\n\u001b[0m\u001b[0;32m    313\u001b[0m             \u001b[0mself\u001b[0m\u001b[1;33m.\u001b[0m\u001b[0m_proc\u001b[0m \u001b[1;33m=\u001b[0m \u001b[1;32mNone\u001b[0m\u001b[1;33m\u001b[0m\u001b[0m\n\u001b[0;32m    314\u001b[0m             \u001b[1;32mtry\u001b[0m\u001b[1;33m:\u001b[0m\u001b[1;33m\u001b[0m\u001b[0m\n",
      "\u001b[1;32mC:\\Users\\kath\\Anaconda3\\lib\\subprocess.py\u001b[0m in \u001b[0;36mcommunicate\u001b[1;34m(self, input, timeout)\u001b[0m\n\u001b[0;32m    834\u001b[0m \u001b[1;33m\u001b[0m\u001b[0m\n\u001b[0;32m    835\u001b[0m             \u001b[1;32mtry\u001b[0m\u001b[1;33m:\u001b[0m\u001b[1;33m\u001b[0m\u001b[0m\n\u001b[1;32m--> 836\u001b[1;33m                 \u001b[0mstdout\u001b[0m\u001b[1;33m,\u001b[0m \u001b[0mstderr\u001b[0m \u001b[1;33m=\u001b[0m \u001b[0mself\u001b[0m\u001b[1;33m.\u001b[0m\u001b[0m_communicate\u001b[0m\u001b[1;33m(\u001b[0m\u001b[0minput\u001b[0m\u001b[1;33m,\u001b[0m \u001b[0mendtime\u001b[0m\u001b[1;33m,\u001b[0m \u001b[0mtimeout\u001b[0m\u001b[1;33m)\u001b[0m\u001b[1;33m\u001b[0m\u001b[0m\n\u001b[0m\u001b[0;32m    837\u001b[0m             \u001b[1;32mfinally\u001b[0m\u001b[1;33m:\u001b[0m\u001b[1;33m\u001b[0m\u001b[0m\n\u001b[0;32m    838\u001b[0m                 \u001b[0mself\u001b[0m\u001b[1;33m.\u001b[0m\u001b[0m_communication_started\u001b[0m \u001b[1;33m=\u001b[0m \u001b[1;32mTrue\u001b[0m\u001b[1;33m\u001b[0m\u001b[0m\n",
      "\u001b[1;32mC:\\Users\\kath\\Anaconda3\\lib\\subprocess.py\u001b[0m in \u001b[0;36m_communicate\u001b[1;34m(self, input, endtime, orig_timeout)\u001b[0m\n\u001b[0;32m   1080\u001b[0m             \u001b[1;31m# calls communicate again.\u001b[0m\u001b[1;33m\u001b[0m\u001b[1;33m\u001b[0m\u001b[0m\n\u001b[0;32m   1081\u001b[0m             \u001b[1;32mif\u001b[0m \u001b[0mself\u001b[0m\u001b[1;33m.\u001b[0m\u001b[0mstdout\u001b[0m \u001b[1;32mis\u001b[0m \u001b[1;32mnot\u001b[0m \u001b[1;32mNone\u001b[0m\u001b[1;33m:\u001b[0m\u001b[1;33m\u001b[0m\u001b[0m\n\u001b[1;32m-> 1082\u001b[1;33m                 \u001b[0mself\u001b[0m\u001b[1;33m.\u001b[0m\u001b[0mstdout_thread\u001b[0m\u001b[1;33m.\u001b[0m\u001b[0mjoin\u001b[0m\u001b[1;33m(\u001b[0m\u001b[0mself\u001b[0m\u001b[1;33m.\u001b[0m\u001b[0m_remaining_time\u001b[0m\u001b[1;33m(\u001b[0m\u001b[0mendtime\u001b[0m\u001b[1;33m)\u001b[0m\u001b[1;33m)\u001b[0m\u001b[1;33m\u001b[0m\u001b[0m\n\u001b[0m\u001b[0;32m   1083\u001b[0m                 \u001b[1;32mif\u001b[0m \u001b[0mself\u001b[0m\u001b[1;33m.\u001b[0m\u001b[0mstdout_thread\u001b[0m\u001b[1;33m.\u001b[0m\u001b[0mis_alive\u001b[0m\u001b[1;33m(\u001b[0m\u001b[1;33m)\u001b[0m\u001b[1;33m:\u001b[0m\u001b[1;33m\u001b[0m\u001b[0m\n\u001b[0;32m   1084\u001b[0m                     \u001b[1;32mraise\u001b[0m \u001b[0mTimeoutExpired\u001b[0m\u001b[1;33m(\u001b[0m\u001b[0mself\u001b[0m\u001b[1;33m.\u001b[0m\u001b[0margs\u001b[0m\u001b[1;33m,\u001b[0m \u001b[0morig_timeout\u001b[0m\u001b[1;33m)\u001b[0m\u001b[1;33m\u001b[0m\u001b[0m\n",
      "\u001b[1;32mC:\\Users\\kath\\Anaconda3\\lib\\threading.py\u001b[0m in \u001b[0;36mjoin\u001b[1;34m(self, timeout)\u001b[0m\n\u001b[0;32m   1054\u001b[0m \u001b[1;33m\u001b[0m\u001b[0m\n\u001b[0;32m   1055\u001b[0m         \u001b[1;32mif\u001b[0m \u001b[0mtimeout\u001b[0m \u001b[1;32mis\u001b[0m \u001b[1;32mNone\u001b[0m\u001b[1;33m:\u001b[0m\u001b[1;33m\u001b[0m\u001b[0m\n\u001b[1;32m-> 1056\u001b[1;33m             \u001b[0mself\u001b[0m\u001b[1;33m.\u001b[0m\u001b[0m_wait_for_tstate_lock\u001b[0m\u001b[1;33m(\u001b[0m\u001b[1;33m)\u001b[0m\u001b[1;33m\u001b[0m\u001b[0m\n\u001b[0m\u001b[0;32m   1057\u001b[0m         \u001b[1;32melse\u001b[0m\u001b[1;33m:\u001b[0m\u001b[1;33m\u001b[0m\u001b[0m\n\u001b[0;32m   1058\u001b[0m             \u001b[1;31m# the behavior of a negative timeout isn't documented, but\u001b[0m\u001b[1;33m\u001b[0m\u001b[1;33m\u001b[0m\u001b[0m\n",
      "\u001b[1;32mC:\\Users\\kath\\Anaconda3\\lib\\threading.py\u001b[0m in \u001b[0;36m_wait_for_tstate_lock\u001b[1;34m(self, block, timeout)\u001b[0m\n\u001b[0;32m   1070\u001b[0m         \u001b[1;32mif\u001b[0m \u001b[0mlock\u001b[0m \u001b[1;32mis\u001b[0m \u001b[1;32mNone\u001b[0m\u001b[1;33m:\u001b[0m  \u001b[1;31m# already determined that the C code is done\u001b[0m\u001b[1;33m\u001b[0m\u001b[0m\n\u001b[0;32m   1071\u001b[0m             \u001b[1;32massert\u001b[0m \u001b[0mself\u001b[0m\u001b[1;33m.\u001b[0m\u001b[0m_is_stopped\u001b[0m\u001b[1;33m\u001b[0m\u001b[0m\n\u001b[1;32m-> 1072\u001b[1;33m         \u001b[1;32melif\u001b[0m \u001b[0mlock\u001b[0m\u001b[1;33m.\u001b[0m\u001b[0macquire\u001b[0m\u001b[1;33m(\u001b[0m\u001b[0mblock\u001b[0m\u001b[1;33m,\u001b[0m \u001b[0mtimeout\u001b[0m\u001b[1;33m)\u001b[0m\u001b[1;33m:\u001b[0m\u001b[1;33m\u001b[0m\u001b[0m\n\u001b[0m\u001b[0;32m   1073\u001b[0m             \u001b[0mlock\u001b[0m\u001b[1;33m.\u001b[0m\u001b[0mrelease\u001b[0m\u001b[1;33m(\u001b[0m\u001b[1;33m)\u001b[0m\u001b[1;33m\u001b[0m\u001b[0m\n\u001b[0;32m   1074\u001b[0m             \u001b[0mself\u001b[0m\u001b[1;33m.\u001b[0m\u001b[0m_stop\u001b[0m\u001b[1;33m(\u001b[0m\u001b[1;33m)\u001b[0m\u001b[1;33m\u001b[0m\u001b[0m\n",
      "\u001b[1;31mKeyboardInterrupt\u001b[0m: "
     ]
    }
   ],
   "source": [
    "word_pos_dict = {}\n",
    "num_words = 10000\n",
    "for i, word in enumerate(words[:num_words]):\n",
    "    print(i, end = '\\r')\n",
    "    word = m.lemmatize(word)[0]\n",
    "    ana = m.analyze(word)\n",
    "    if 'analysis' in ana[0].keys():\n",
    "        if len(ana[0]['analysis']) > 0:\n",
    "            pos_tag = ana[0]['analysis'][0]['gr'].split(',')[0]\n",
    "            if '=' in pos_tag:\n",
    "                pos_tag = pos_tag.split('=')[0]\n",
    "                if pos_tag in word_pos_dict.keys():\n",
    "                    word_pos_dict[pos_tag] = word_pos_dict[pos_tag] + [word]\n",
    "                else:\n",
    "                    word_pos_dict[pos_tag] = [word]"
   ]
  },
  {
   "cell_type": "code",
   "execution_count": 20,
   "metadata": {
    "colab": {
     "autoexec": {
      "startup": false,
      "wait_interval": 0
     },
     "base_uri": "https://localhost:8080/",
     "height": 34
    },
    "colab_type": "code",
    "executionInfo": {
     "elapsed": 487,
     "status": "ok",
     "timestamp": 1525854876691,
     "user": {
      "displayName": "Ekaterina Loginova",
      "photoUrl": "//lh5.googleusercontent.com/-rTHOnLQH_r8/AAAAAAAAAAI/AAAAAAAALEs/6WzKwScZqD0/s50-c-k-no/photo.jpg",
      "userId": "104307473242491844073"
     },
     "user_tz": -120
    },
    "id": "hOPFmuzaN9Eh",
    "outputId": "a21ac51f-8e70-46b5-b5af-d0aa4e21372e"
   },
   "outputs": [
    {
     "data": {
      "text/plain": [
       "dict_keys(['CONJ', 'S', 'PART', 'PR', 'SPRO', 'ADVPRO', 'INTJ', 'V', 'ADV', 'APRO', 'NUM', 'A', 'ANUM'])"
      ]
     },
     "execution_count": 20,
     "metadata": {
      "tags": []
     },
     "output_type": "execute_result"
    }
   ],
   "source": [
    "word_pos_dict.keys()"
   ]
  },
  {
   "cell_type": "markdown",
   "metadata": {
    "colab_type": "text",
    "id": "JUCdt33unkdb"
   },
   "source": [
    "Фильтруем по длине, чтобы исключить однобуквенные слова, оставшиеся после автоматической обработки инициалов, аббревиатур и т.п."
   ]
  },
  {
   "cell_type": "code",
   "execution_count": 0,
   "metadata": {
    "colab": {
     "autoexec": {
      "startup": false,
      "wait_interval": 0
     }
    },
    "colab_type": "code",
    "collapsed": true,
    "id": "npS_Mv4TUR3t"
   },
   "outputs": [],
   "source": [
    "candidates_pos = {}\n",
    "for key, val in word_pos_dict.items():\n",
    "  if key != 'PART' and key != 'PR':\n",
    "    candidates_pos[key] = [x for x in set(val) if len(x) > 1]\n",
    "  else:\n",
    "    candidates_pos[key] = set(val)"
   ]
  },
  {
   "cell_type": "markdown",
   "metadata": {
    "colab_type": "text",
    "id": "1JiFtbp8Z8Mx"
   },
   "source": [
    " Разбиваем существительные также по одушевлённости (од/неод) и роду (муж/жен/cред), используя Mystem. Это нужно для выбора слов не только по частями речи, но и по другим грамматическим характеристикам.\n",
    " Обрати внимание - здесь ключом является не одно значение, а два - одушевлённость и род. Можно представить этот как двумерный словарь-таблицу."
   ]
  },
  {
   "cell_type": "code",
   "execution_count": 22,
   "metadata": {
    "colab": {
     "autoexec": {
      "startup": false,
      "wait_interval": 0
     },
     "base_uri": "https://localhost:8080/",
     "height": 17
    },
    "colab_type": "code",
    "executionInfo": {
     "elapsed": 1516,
     "status": "ok",
     "timestamp": 1525854896133,
     "user": {
      "displayName": "Ekaterina Loginova",
      "photoUrl": "//lh5.googleusercontent.com/-rTHOnLQH_r8/AAAAAAAAAAI/AAAAAAAALEs/6WzKwScZqD0/s50-c-k-no/photo.jpg",
      "userId": "104307473242491844073"
     },
     "user_tz": -120
    },
    "id": "nTDRqqYhZ5Gh",
    "outputId": "bcd403d0-bd60-42ad-8b6b-3608671c45a4"
   },
   "outputs": [
    {
     "name": "stdout",
     "output_type": "stream",
     "text": []
    }
   ],
   "source": [
    "m = Mystem()\n",
    "candidates_nouns_grammar = {}\n",
    "for i, word in enumerate(candidates_pos['S']):\n",
    "  print('Progress: %d / %d' % (i, len(candidates_pos['S'])), end = '\\r')\n",
    "  ana = m.analyze(word)\n",
    "  for an in ana:\n",
    "    if 'analysis' in an.keys():\n",
    "      non_changeable, changeable = an['analysis'][0]['gr'].split('=')\n",
    "      tags = non_changeable.split(',')\n",
    "      gender_tag = tags[1]\n",
    "      anim_tag = tags[2]\n",
    "      candidates_nouns_grammar.setdefault((gender_tag, anim_tag),[]).append(word)"
   ]
  },
  {
   "cell_type": "code",
   "execution_count": 23,
   "metadata": {
    "colab": {
     "autoexec": {
      "startup": false,
      "wait_interval": 0
     },
     "base_uri": "https://localhost:8080/",
     "height": 185
    },
    "colab_type": "code",
    "executionInfo": {
     "elapsed": 495,
     "status": "ok",
     "timestamp": 1525854896830,
     "user": {
      "displayName": "Ekaterina Loginova",
      "photoUrl": "//lh5.googleusercontent.com/-rTHOnLQH_r8/AAAAAAAAAAI/AAAAAAAALEs/6WzKwScZqD0/s50-c-k-no/photo.jpg",
      "userId": "104307473242491844073"
     },
     "user_tz": -120
    },
    "id": "hSfNrtGacD7b",
    "outputId": "89fb798a-e1f4-4a35-b310-649d46df75c5"
   },
   "outputs": [
    {
     "data": {
      "text/plain": [
       "['земля',\n",
       " 'рука',\n",
       " 'голова',\n",
       " 'степень',\n",
       " 'мочь',\n",
       " 'тысяча',\n",
       " 'смерть',\n",
       " 'дверь',\n",
       " 'власть',\n",
       " 'улица']"
      ]
     },
     "execution_count": 23,
     "metadata": {
      "tags": []
     },
     "output_type": "execute_result"
    }
   ],
   "source": [
    "candidates_nouns_grammar[('жен', 'неод')][:10]"
   ]
  },
  {
   "cell_type": "markdown",
   "metadata": {
    "colab_type": "text",
    "id": "ovTNPisqi5RP"
   },
   "source": [
    "Глаголы разбиваем аналогичным образом по виду и переходности. Тут можно попробовать оптимизировать код, избавившись от вложённого if-else."
   ]
  },
  {
   "cell_type": "code",
   "execution_count": 24,
   "metadata": {
    "colab": {
     "autoexec": {
      "startup": false,
      "wait_interval": 0
     },
     "base_uri": "https://localhost:8080/",
     "height": 17
    },
    "colab_type": "code",
    "executionInfo": {
     "elapsed": 5697,
     "status": "ok",
     "timestamp": 1525854903286,
     "user": {
      "displayName": "Ekaterina Loginova",
      "photoUrl": "//lh5.googleusercontent.com/-rTHOnLQH_r8/AAAAAAAAAAI/AAAAAAAALEs/6WzKwScZqD0/s50-c-k-no/photo.jpg",
      "userId": "104307473242491844073"
     },
     "user_tz": -120
    },
    "id": "pZI00DEZc8Ky",
    "outputId": "55386ed1-2d5b-4f41-d240-739cac8285a0"
   },
   "outputs": [
    {
     "name": "stdout",
     "output_type": "stream",
     "text": []
    }
   ],
   "source": [
    "m = Mystem()\n",
    "candidates_verbs_grammar = {}\n",
    "for i, word in enumerate(candidates_pos['V']):\n",
    "  print('Progress: %d / %d' % (i, len(candidates_pos['V'])), end = '\\r')\n",
    "  ana = m.analyze(word)\n",
    "  for an in ana:\n",
    "    if 'analysis' in an.keys():\n",
    "      tags = an['analysis'][0]['gr']\n",
    "      if 'несов' in tags:\n",
    "        if 'пе' in tags:\n",
    "          candidates_verbs_grammar.setdefault(('несов', 'пе'),[]).append(word)\n",
    "        else:\n",
    "          candidates_verbs_grammar.setdefault(('несов', 'нп'),[]).append(word)\n",
    "      else:\n",
    "        if 'пе' in tags:\n",
    "          candidates_verbs_grammar.setdefault(('сов', 'пе'),[]).append(word)\n",
    "        else:\n",
    "          candidates_verbs_grammar.setdefault(('сов', 'нп'),[]).append(word)"
   ]
  },
  {
   "cell_type": "markdown",
   "metadata": {
    "colab_type": "text",
    "id": "kWFyIYvioA7J"
   },
   "source": [
    "Пример содержания получившегося словаря."
   ]
  },
  {
   "cell_type": "code",
   "execution_count": 25,
   "metadata": {
    "colab": {
     "autoexec": {
      "startup": false,
      "wait_interval": 0
     },
     "base_uri": "https://localhost:8080/",
     "height": 34
    },
    "colab_type": "code",
    "executionInfo": {
     "elapsed": 507,
     "status": "ok",
     "timestamp": 1525854913364,
     "user": {
      "displayName": "Ekaterina Loginova",
      "photoUrl": "//lh5.googleusercontent.com/-rTHOnLQH_r8/AAAAAAAAAAI/AAAAAAAALEs/6WzKwScZqD0/s50-c-k-no/photo.jpg",
      "userId": "104307473242491844073"
     },
     "user_tz": -120
    },
    "id": "LAPQbdbgeqFg",
    "outputId": "dffba717-de24-4c77-d8f9-c8d8d5c36170"
   },
   "outputs": [
    {
     "data": {
      "text/plain": [
       "['написать', 'сделать', 'посмотреть', 'сказать', 'взять', 'увидеть']"
      ]
     },
     "execution_count": 25,
     "metadata": {
      "tags": []
     },
     "output_type": "execute_result"
    }
   ],
   "source": [
    "candidates_verbs_grammar[('сов', 'пе')][:10]"
   ]
  },
  {
   "cell_type": "code",
   "execution_count": 26,
   "metadata": {
    "colab": {
     "autoexec": {
      "startup": false,
      "wait_interval": 0
     },
     "base_uri": "https://localhost:8080/",
     "height": 34
    },
    "colab_type": "code",
    "executionInfo": {
     "elapsed": 542,
     "status": "ok",
     "timestamp": 1525854914669,
     "user": {
      "displayName": "Ekaterina Loginova",
      "photoUrl": "//lh5.googleusercontent.com/-rTHOnLQH_r8/AAAAAAAAAAI/AAAAAAAALEs/6WzKwScZqD0/s50-c-k-no/photo.jpg",
      "userId": "104307473242491844073"
     },
     "user_tz": -120
    },
    "id": "HXAReZRkfael",
    "outputId": "ef5b3cb5-2ed5-4a6c-ec06-f9ceec2a6930"
   },
   "outputs": [
    {
     "data": {
      "text/plain": [
       "['подумать', 'пойти']"
      ]
     },
     "execution_count": 26,
     "metadata": {
      "tags": []
     },
     "output_type": "execute_result"
    }
   ],
   "source": [
    "candidates_verbs_grammar[('сов', 'нп')][:10]"
   ]
  },
  {
   "cell_type": "code",
   "execution_count": 27,
   "metadata": {
    "colab": {
     "autoexec": {
      "startup": false,
      "wait_interval": 0
     },
     "base_uri": "https://localhost:8080/",
     "height": 185
    },
    "colab_type": "code",
    "executionInfo": {
     "elapsed": 535,
     "status": "ok",
     "timestamp": 1525854915949,
     "user": {
      "displayName": "Ekaterina Loginova",
      "photoUrl": "//lh5.googleusercontent.com/-rTHOnLQH_r8/AAAAAAAAAAI/AAAAAAAALEs/6WzKwScZqD0/s50-c-k-no/photo.jpg",
      "userId": "104307473242491844073"
     },
     "user_tz": -120
    },
    "id": "oiB4lBiKfchN",
    "outputId": "925f85b1-ac20-428a-b65d-86cc38fd5d75"
   },
   "outputs": [
    {
     "data": {
      "text/plain": [
       "['давать',\n",
       " 'продолжать',\n",
       " 'писать',\n",
       " 'читать',\n",
       " 'глядеть',\n",
       " 'принимать',\n",
       " 'смотреть',\n",
       " 'узнавать',\n",
       " 'хотеть',\n",
       " 'понимать']"
      ]
     },
     "execution_count": 27,
     "metadata": {
      "tags": []
     },
     "output_type": "execute_result"
    }
   ],
   "source": [
    "candidates_verbs_grammar[('несов', 'пе')][:10]"
   ]
  },
  {
   "cell_type": "code",
   "execution_count": 28,
   "metadata": {
    "colab": {
     "autoexec": {
      "startup": false,
      "wait_interval": 0
     },
     "base_uri": "https://localhost:8080/",
     "height": 185
    },
    "colab_type": "code",
    "executionInfo": {
     "elapsed": 7694,
     "status": "ok",
     "timestamp": 1525854928072,
     "user": {
      "displayName": "Ekaterina Loginova",
      "photoUrl": "//lh5.googleusercontent.com/-rTHOnLQH_r8/AAAAAAAAAAI/AAAAAAAALEs/6WzKwScZqD0/s50-c-k-no/photo.jpg",
      "userId": "104307473242491844073"
     },
     "user_tz": -120
    },
    "id": "Mj19lQz2fdMO",
    "outputId": "27186681-cbec-4809-e3f4-7c241777775b"
   },
   "outputs": [
    {
     "data": {
      "text/plain": [
       "['существовать',\n",
       " 'приходить',\n",
       " 'думать',\n",
       " 'быть',\n",
       " 'происходить',\n",
       " 'отвечать',\n",
       " 'казаться',\n",
       " 'случаться',\n",
       " 'стоять',\n",
       " 'находиться']"
      ]
     },
     "execution_count": 28,
     "metadata": {
      "tags": []
     },
     "output_type": "execute_result"
    }
   ],
   "source": [
    "candidates_verbs_grammar[('несов', 'нп')][:10]"
   ]
  },
  {
   "cell_type": "markdown",
   "metadata": {
    "colab_type": "text",
    "id": "O9KaDTwmoFsC"
   },
   "source": [
    "Во время проверки кода можно заметить, что в SPRO - местоимениях - не содержится слово \"я\". Добавляем его самостоятельно."
   ]
  },
  {
   "cell_type": "code",
   "execution_count": 0,
   "metadata": {
    "colab": {
     "autoexec": {
      "startup": false,
      "wait_interval": 0
     }
    },
    "colab_type": "code",
    "collapsed": true,
    "id": "kxwTC3wUjsgo"
   },
   "outputs": [],
   "source": [
    "candidates_pos['SPRO'] = candidates_pos['SPRO'] + ['я']"
   ]
  },
  {
   "cell_type": "code",
   "execution_count": 0,
   "metadata": {
    "colab": {
     "autoexec": {
      "startup": false,
      "wait_interval": 0
     }
    },
    "colab_type": "code",
    "collapsed": true,
    "id": "cPQntK_lMtRe"
   },
   "outputs": [],
   "source": [
    "import pickle"
   ]
  },
  {
   "cell_type": "code",
   "execution_count": 0,
   "metadata": {
    "colab": {
     "autoexec": {
      "startup": false,
      "wait_interval": 0
     }
    },
    "colab_type": "code",
    "collapsed": true,
    "id": "Tc5k5aFiMwWk"
   },
   "outputs": [],
   "source": [
    "pickle.dump(candidates_pos, open('candidates_pos.p', 'wb'))"
   ]
  },
  {
   "cell_type": "code",
   "execution_count": 0,
   "metadata": {
    "colab": {
     "autoexec": {
      "startup": false,
      "wait_interval": 0
     }
    },
    "colab_type": "code",
    "collapsed": true,
    "id": "pkuBXC-cM6y4"
   },
   "outputs": [],
   "source": [
    "candidates_pos = pickle.load(open('candidates_pos.p', 'rb'))"
   ]
  },
  {
   "cell_type": "code",
   "execution_count": 33,
   "metadata": {
    "colab": {
     "autoexec": {
      "startup": false,
      "wait_interval": 0
     },
     "base_uri": "https://localhost:8080/",
     "height": 195
    },
    "colab_type": "code",
    "executionInfo": {
     "elapsed": 559,
     "status": "error",
     "timestamp": 1525854944291,
     "user": {
      "displayName": "Ekaterina Loginova",
      "photoUrl": "//lh5.googleusercontent.com/-rTHOnLQH_r8/AAAAAAAAAAI/AAAAAAAALEs/6WzKwScZqD0/s50-c-k-no/photo.jpg",
      "userId": "104307473242491844073"
     },
     "user_tz": -120
    },
    "id": "Pbqx5fQsNKaE",
    "outputId": "45bbc342-4adc-44f8-dde8-09da9e70f691"
   },
   "outputs": [
    {
     "ename": "NameError",
     "evalue": "ignored",
     "output_type": "error",
     "traceback": [
      "\u001b[0;31m---------------------------------------------------------------------------\u001b[0m",
      "\u001b[0;31mNameError\u001b[0m                                 Traceback (most recent call last)",
      "\u001b[0;32m<ipython-input-33-09fb94107b71>\u001b[0m in \u001b[0;36m<module>\u001b[0;34m()\u001b[0m\n\u001b[0;32m----> 1\u001b[0;31m \u001b[0mcandidates_pronouns_grammar\u001b[0m\u001b[0;34m\u001b[0m\u001b[0m\n\u001b[0m\u001b[1;32m      2\u001b[0m \u001b[0mcandidates_verbs_grammar\u001b[0m\u001b[0;34m\u001b[0m\u001b[0m\n\u001b[1;32m      3\u001b[0m \u001b[0mcandidates_nouns_grammar\u001b[0m\u001b[0;34m\u001b[0m\u001b[0m\n",
      "\u001b[0;31mNameError\u001b[0m: name 'candidates_pronouns_grammar' is not defined"
     ]
    }
   ],
   "source": [
    "candidates_pronouns_grammar\n",
    "candidates_verbs_grammar\n",
    "candidates_nouns_grammar"
   ]
  },
  {
   "cell_type": "markdown",
   "metadata": {
    "colab_type": "text",
    "id": "dxd96jDjoPr6"
   },
   "source": [
    "Разбиваем местоимения по лицу и числу (если они не указаны, ставим прочерк)."
   ]
  },
  {
   "cell_type": "code",
   "execution_count": 0,
   "metadata": {
    "colab": {
     "autoexec": {
      "startup": false,
      "wait_interval": 0
     },
     "base_uri": "https://localhost:8080/",
     "height": 17
    },
    "colab_type": "code",
    "executionInfo": {
     "elapsed": 1472,
     "status": "ok",
     "timestamp": 1525511301948,
     "user": {
      "displayName": "Ekaterina Loginova",
      "photoUrl": "//lh5.googleusercontent.com/-rTHOnLQH_r8/AAAAAAAAAAI/AAAAAAAALEs/6WzKwScZqD0/s50-c-k-no/photo.jpg",
      "userId": "104307473242491844073"
     },
     "user_tz": -120
    },
    "id": "ulie-8mhjKu9",
    "outputId": "8a81f645-44ad-4921-c527-1852ed2cf1fb"
   },
   "outputs": [
    {
     "name": "stdout",
     "output_type": "stream",
     "text": []
    }
   ],
   "source": [
    "candidates_pronouns_grammar = {}\n",
    "for i, word in enumerate(candidates_pos['SPRO']):\n",
    "  print('Progress: %d / %d' % (i, len(candidates_pos['SPRO'])), end = '\\r')\n",
    "  ana = m.analyze(word)\n",
    "  for an in ana:\n",
    "    if 'analysis' in an.keys():\n",
    "      non_changeable, changeable = an['analysis'][0]['gr'].split('=')\n",
    "      tags = non_changeable.split(',')\n",
    "      if len(tags) > 1:\n",
    "        num_tag = tags[1]\n",
    "      else:\n",
    "        num_tag = '-'\n",
    "      if len(tags) > 2:\n",
    "        person_tag = tags[2]\n",
    "      else:\n",
    "        person_tag = '-'\n",
    "      candidates_pronouns_grammar.setdefault((person_tag, num_tag),[]).append(word)"
   ]
  },
  {
   "cell_type": "code",
   "execution_count": 0,
   "metadata": {
    "colab": {
     "autoexec": {
      "startup": false,
      "wait_interval": 0
     },
     "base_uri": "https://localhost:8080/",
     "height": 34
    },
    "colab_type": "code",
    "executionInfo": {
     "elapsed": 495,
     "status": "ok",
     "timestamp": 1525511302460,
     "user": {
      "displayName": "Ekaterina Loginova",
      "photoUrl": "//lh5.googleusercontent.com/-rTHOnLQH_r8/AAAAAAAAAAI/AAAAAAAALEs/6WzKwScZqD0/s50-c-k-no/photo.jpg",
      "userId": "104307473242491844073"
     },
     "user_tz": -120
    },
    "id": "tnPNL8lRjlX9",
    "outputId": "42b2747e-f415-4dfc-b7d4-b288ccbe0de9"
   },
   "outputs": [
    {
     "data": {
      "text/plain": [
       "dict_keys([('сред', 'ед'), ('муж', 'ед'), ('1-л', 'мн'), ('-', 'мн'), ('-', '-'), ('2-л', 'мн'), ('3-л', 'ед'), ('2-л', 'ед'), ('1-л', 'ед')])"
      ]
     },
     "execution_count": 106,
     "metadata": {
      "tags": []
     },
     "output_type": "execute_result"
    }
   ],
   "source": [
    "candidates_pronouns_grammar.keys()"
   ]
  },
  {
   "cell_type": "code",
   "execution_count": 0,
   "metadata": {
    "colab": {
     "autoexec": {
      "startup": false,
      "wait_interval": 0
     },
     "base_uri": "https://localhost:8080/",
     "height": 34
    },
    "colab_type": "code",
    "executionInfo": {
     "elapsed": 454,
     "status": "ok",
     "timestamp": 1525511303975,
     "user": {
      "displayName": "Ekaterina Loginova",
      "photoUrl": "//lh5.googleusercontent.com/-rTHOnLQH_r8/AAAAAAAAAAI/AAAAAAAALEs/6WzKwScZqD0/s50-c-k-no/photo.jpg",
      "userId": "104307473242491844073"
     },
     "user_tz": -120
    },
    "id": "wQg2di5kjQct",
    "outputId": "4f06a70f-f4e8-4c5e-da37-7947ee3e9184"
   },
   "outputs": [
    {
     "data": {
      "text/plain": [
       "['я']"
      ]
     },
     "execution_count": 107,
     "metadata": {
      "tags": []
     },
     "output_type": "execute_result"
    }
   ],
   "source": [
    "candidates_pronouns_grammar[('1-л', 'ед')]"
   ]
  },
  {
   "cell_type": "markdown",
   "metadata": {
    "colab_type": "text",
    "id": "VQyN5TiHo--X"
   },
   "source": [
    "Сейчас у нас в словаре хранятся множества слов, а не списки. Исправим (иначе некоторые функции в дальнейшем могут не сработать)."
   ]
  },
  {
   "cell_type": "code",
   "execution_count": 0,
   "metadata": {
    "colab": {
     "autoexec": {
      "startup": false,
      "wait_interval": 0
     }
    },
    "colab_type": "code",
    "collapsed": true,
    "id": "q2KWD7ayk7A6"
   },
   "outputs": [],
   "source": [
    "candidates_pos = {k: list(v) for k, v in candidates_pos.items()}"
   ]
  },
  {
   "cell_type": "markdown",
   "metadata": {
    "colab_type": "text",
    "id": "uywP4HzloXeh"
   },
   "source": [
    "Теперь, когда у нас есть структура данных для каждого типа речи, которая позволяет выбирать по нескольким неизменяемым грамматическим признакам, мы можем выбрать оттуда слово.\n",
    "Для того, чтобы сделать это случайнвм образом, нам нужно использовать функцию choice из библиотеки random."
   ]
  },
  {
   "cell_type": "code",
   "execution_count": 0,
   "metadata": {
    "colab": {
     "autoexec": {
      "startup": false,
      "wait_interval": 0
     }
    },
    "colab_type": "code",
    "collapsed": true,
    "id": "VTw0Wy9_SDR_"
   },
   "outputs": [],
   "source": [
    "import random"
   ]
  },
  {
   "cell_type": "markdown",
   "metadata": {
    "colab_type": "text",
    "id": "XhC2SCT9onC8"
   },
   "source": [
    "Пример случайного выбора существительного."
   ]
  },
  {
   "cell_type": "code",
   "execution_count": 0,
   "metadata": {
    "colab": {
     "autoexec": {
      "startup": false,
      "wait_interval": 0
     },
     "base_uri": "https://localhost:8080/",
     "height": 34
    },
    "colab_type": "code",
    "executionInfo": {
     "elapsed": 422,
     "status": "ok",
     "timestamp": 1525506709998,
     "user": {
      "displayName": "Ekaterina Loginova",
      "photoUrl": "//lh5.googleusercontent.com/-rTHOnLQH_r8/AAAAAAAAAAI/AAAAAAAALEs/6WzKwScZqD0/s50-c-k-no/photo.jpg",
      "userId": "104307473242491844073"
     },
     "user_tz": -120
    },
    "id": "heQ8jL2dNws-",
    "outputId": "a6e16bd7-3943-4cf1-ea73-0be56255e248"
   },
   "outputs": [
    {
     "name": "stdout",
     "output_type": "stream",
     "text": [
      "порядок\n"
     ]
    }
   ],
   "source": [
    "random_word = random.choice(candidates_pos['S'])\n",
    "print(random_word)"
   ]
  },
  {
   "cell_type": "markdown",
   "metadata": {
    "colab_type": "text",
    "id": "vJYCIbiloz75"
   },
   "source": [
    "Чтобы переключаться между Pymorphy и Mystem, нужно иметь соотношение обозначений граммем. Записываем вручную."
   ]
  },
  {
   "cell_type": "markdown",
   "metadata": {
    "colab_type": "text",
    "id": "c873PgWoh-oP"
   },
   "source": [
    "Полный список граммем с пояснениями: https://docs.google.com/spreadsheets/d/18RelfNsp94mevWjq4DAU2ifCPXh-J-xC81lDPxk8xmw/edit?usp=sharing"
   ]
  },
  {
   "cell_type": "code",
   "execution_count": 0,
   "metadata": {
    "colab": {
     "autoexec": {
      "startup": false,
      "wait_interval": 0
     }
    },
    "colab_type": "code",
    "collapsed": true,
    "id": "U5vwsQgRSet7"
   },
   "outputs": [],
   "source": [
    "grammems = {\"наст\": \"pres\",\n",
    "\"непрош\": \"pres\",\n",
    "\"прош\": \"past\",\n",
    "\"им\": \"nomn\",\n",
    "\"род\": \"gent\",\n",
    "\"дат\": \"datv\",\n",
    "\"вин\": \"accs\",\n",
    "\"твор\": \"ablt\",\n",
    "\"пр\": \"loct\",\n",
    "\"парт\": \"gen2\",\n",
    "\"местн\": \"loc2\",\n",
    "\"зват\": \"voct\",\n",
    "\"ед\": \"sing\",\n",
    "\"мн\": \"plur\",\n",
    "\"деепр\": \"GRND\",\n",
    "\"инф\": \"INFN\",\n",
    "\"прич\": \"PRTF, PRTS\",\n",
    "\"изъяв\": \"indc\",\n",
    "\"пов\": \"impr\",\n",
    "\"притяж\": \"Poss\",\n",
    "\"прев\": \"Supr\",\n",
    "\"срав\": \"Cmp2\",\n",
    "\"муж\": \"masc\",\n",
    "\"жен\": \"femn\",\n",
    "\"сред\": \"neut\",\n",
    "\"несов\": \"impf\",\n",
    "\"сов\": \"perf\",\n",
    "\"действ\": \"actv\",\n",
    "\"страд\": \"pssv\",\n",
    "\"од\": \"anim\",\n",
    "\"неод\": \"inan\",\n",
    "\"пе\": \"tran\",\n",
    "\"нп\": \"intr\",\n",
    "\"1-л\": \"1per\",\n",
    "\"2-л\": \"2per\",\n",
    "\"3-л\": \"3per\"}"
   ]
  },
  {
   "cell_type": "markdown",
   "metadata": {
    "colab_type": "text",
    "id": "L6u9B0fqpH8n"
   },
   "source": [
    "Наконец, пишем полную функцию, которая принимает на вход текст, разбивает его на слова и анализирует с помощью Mystem, затем выбирает случайное слово нужной части речи и с нужными характеристиками и, наконец, копирует изменяемые грамматические признаки из слов оригинала в слова нашего сгенерированного предложения."
   ]
  },
  {
   "cell_type": "code",
   "execution_count": 0,
   "metadata": {
    "colab": {
     "autoexec": {
      "startup": false,
      "wait_interval": 0
     }
    },
    "colab_type": "code",
    "collapsed": true,
    "id": "Y8caOqz2SUWr"
   },
   "outputs": [],
   "source": [
    "def generate_response(text, verbose = True):\n",
    "  # морфологический разбор текста Mystem'ом\n",
    "  ana = m.analyze(text)\n",
    "  \n",
    "  if verbose:\n",
    "    print(ana)\n",
    "    \n",
    "  changed_words = []\n",
    "  \n",
    "  for an in ana:\n",
    "    if 'analysis' in an.keys():\n",
    "      non_changeable, changeable = an['analysis'][0]['gr'].split('=')\n",
    "      changeable = changeable.replace(\"(\", \"\").replace(\")\", \"\")\n",
    "      tags = non_changeable.split(',')\n",
    "      if '|' in changeable:\n",
    "        changeable = changeable.split(\"|\")[0]\n",
    "      pos_tag = tags[0]\n",
    "      grammems_to_change = changeable.split(',')\n",
    "      \n",
    "      if verbose:\n",
    "        print(\"POS tag:\", pos_tag)\n",
    "      if pos_tag == 'S':\n",
    "        gender_tag = tags[1]\n",
    "        anim_tag = tags[2]\n",
    "        random_word = random.choice(candidates_nouns_grammar[(gender_tag, anim_tag)])\n",
    "      elif pos_tag == 'V':\n",
    "        if 'несов' in tags:\n",
    "          if 'пе' in tags:\n",
    "            random_word = random.choice(candidates_verbs_grammar[('несов', 'пе')])\n",
    "          else:\n",
    "            random_word = random.choice(candidates_verbs_grammar[('несов', 'нп')])\n",
    "        else:\n",
    "          if 'пе' in tags:\n",
    "            random_word = random.choice(candidates_verbs_grammar[('сов', 'пе')])\n",
    "          else:\n",
    "            random_word = random.choice(candidates_verbs_grammar[('сов', 'нп')])\n",
    "      elif pos_tag == 'SPRO':\n",
    "        if len(tags) > 1:\n",
    "          num_tag = tags[1]\n",
    "        else:\n",
    "          num_tag = '-'\n",
    "        if len(tags) > 2:\n",
    "          person_tag = tags[2]\n",
    "        else:\n",
    "          person_tag = '-'\n",
    "        random_word = random.choice(candidates_pronouns_grammar[(person_tag, num_tag)])\n",
    "      else:\n",
    "        random_word = random.choice(candidates_pos[pos_tag])\n",
    "      if verbose:\n",
    "        print('Random word:', random_word)\n",
    "      prog = morph.parse(random_word)[0]\n",
    "      if verbose:\n",
    "        print('Grammems to change:', grammems_to_change)\n",
    "      changed_words.append(prog.inflect(set([grammems[x] for x in grammems_to_change if x in grammems.keys()])).word)\n",
    "    else:\n",
    "      changed_words.append(an['text'])\n",
    "  response = ' '.join(changed_words)\n",
    "  if verbose:\n",
    "    print('Response:', response)\n",
    "  \n",
    "  return response"
   ]
  },
  {
   "cell_type": "markdown",
   "metadata": {
    "colab_type": "text",
    "id": "SycSl2iIpjw2"
   },
   "source": [
    "Тестируем функцию."
   ]
  },
  {
   "cell_type": "code",
   "execution_count": 0,
   "metadata": {
    "colab": {
     "autoexec": {
      "startup": false,
      "wait_interval": 0
     },
     "base_uri": "https://localhost:8080/",
     "height": 139
    },
    "colab_type": "code",
    "executionInfo": {
     "elapsed": 1404,
     "status": "ok",
     "timestamp": 1525510691929,
     "user": {
      "displayName": "Ekaterina Loginova",
      "photoUrl": "//lh5.googleusercontent.com/-rTHOnLQH_r8/AAAAAAAAAAI/AAAAAAAALEs/6WzKwScZqD0/s50-c-k-no/photo.jpg",
      "userId": "104307473242491844073"
     },
     "user_tz": -120
    },
    "id": "W0cf79BVTBzf",
    "outputId": "0f53fd40-6e02-44da-d15e-388a2a1623ef"
   },
   "outputs": [
    {
     "name": "stdout",
     "output_type": "stream",
     "text": [
      "[{'analysis': [{'lex': 'мама', 'gr': 'S,жен,од=им,ед'}], 'text': 'Мама'}, {'text': ' '}, {'analysis': [{'lex': 'мыть', 'gr': 'V,несов,пе=прош,ед,изъяв,жен'}], 'text': 'мыла'}, {'text': ' '}, {'analysis': [{'lex': 'рама', 'gr': 'S,жен,неод=вин,ед'}], 'text': 'раму'}, {'text': '\\n'}]\n",
      "Random word: жена\n",
      "Random word: узнавать\n",
      "Random word: мера\n",
      "Response: жена узнавала меру\n"
     ]
    },
    {
     "data": {
      "text/plain": [
       "'жена узнавала меру'"
      ]
     },
     "execution_count": 78,
     "metadata": {
      "tags": []
     },
     "output_type": "execute_result"
    }
   ],
   "source": [
    "generate_response(text)"
   ]
  },
  {
   "cell_type": "code",
   "execution_count": 0,
   "metadata": {
    "colab": {
     "autoexec": {
      "startup": false,
      "wait_interval": 0
     },
     "base_uri": "https://localhost:8080/",
     "height": 34
    },
    "colab_type": "code",
    "executionInfo": {
     "elapsed": 448,
     "status": "ok",
     "timestamp": 1525510715989,
     "user": {
      "displayName": "Ekaterina Loginova",
      "photoUrl": "//lh5.googleusercontent.com/-rTHOnLQH_r8/AAAAAAAAAAI/AAAAAAAALEs/6WzKwScZqD0/s50-c-k-no/photo.jpg",
      "userId": "104307473242491844073"
     },
     "user_tz": -120
    },
    "id": "IhjLSgSXhe5t",
    "outputId": "9959a541-0e67-4d08-83ca-8bc314e3ee3e"
   },
   "outputs": [
    {
     "name": "stdout",
     "output_type": "stream",
     "text": [
      "женщина продолжала дорогу\n"
     ]
    }
   ],
   "source": [
    "response = generate_response(text, False)\n",
    "print(response)"
   ]
  },
  {
   "cell_type": "code",
   "execution_count": 0,
   "metadata": {
    "colab": {
     "autoexec": {
      "startup": false,
      "wait_interval": 0
     },
     "base_uri": "https://localhost:8080/",
     "height": 34
    },
    "colab_type": "code",
    "executionInfo": {
     "elapsed": 401,
     "status": "ok",
     "timestamp": 1525510720757,
     "user": {
      "displayName": "Ekaterina Loginova",
      "photoUrl": "//lh5.googleusercontent.com/-rTHOnLQH_r8/AAAAAAAAAAI/AAAAAAAALEs/6WzKwScZqD0/s50-c-k-no/photo.jpg",
      "userId": "104307473242491844073"
     },
     "user_tz": -120
    },
    "id": "6Ki_cgK0hkeQ",
    "outputId": "29a613d3-28d5-4054-ba9a-7baba5f964e8"
   },
   "outputs": [
    {
     "name": "stdout",
     "output_type": "stream",
     "text": [
      "жена помнила войну\n"
     ]
    }
   ],
   "source": [
    "response = generate_response(text, False)\n",
    "print(response)"
   ]
  },
  {
   "cell_type": "code",
   "execution_count": 0,
   "metadata": {
    "colab": {
     "autoexec": {
      "startup": false,
      "wait_interval": 0
     },
     "base_uri": "https://localhost:8080/",
     "height": 34
    },
    "colab_type": "code",
    "executionInfo": {
     "elapsed": 417,
     "status": "ok",
     "timestamp": 1525510729696,
     "user": {
      "displayName": "Ekaterina Loginova",
      "photoUrl": "//lh5.googleusercontent.com/-rTHOnLQH_r8/AAAAAAAAAAI/AAAAAAAALEs/6WzKwScZqD0/s50-c-k-no/photo.jpg",
      "userId": "104307473242491844073"
     },
     "user_tz": -120
    },
    "id": "YmKtSTyThlQZ",
    "outputId": "9b7aa217-b483-44bd-d2e0-fd3a70b12649"
   },
   "outputs": [
    {
     "name": "stdout",
     "output_type": "stream",
     "text": [
      "женщина любила компанию\n"
     ]
    }
   ],
   "source": [
    "response = generate_response(text, False)\n",
    "print(response)"
   ]
  },
  {
   "cell_type": "code",
   "execution_count": 0,
   "metadata": {
    "colab": {
     "autoexec": {
      "startup": false,
      "wait_interval": 0
     },
     "base_uri": "https://localhost:8080/",
     "height": 34
    },
    "colab_type": "code",
    "executionInfo": {
     "elapsed": 1307,
     "status": "ok",
     "timestamp": 1525510865796,
     "user": {
      "displayName": "Ekaterina Loginova",
      "photoUrl": "//lh5.googleusercontent.com/-rTHOnLQH_r8/AAAAAAAAAAI/AAAAAAAALEs/6WzKwScZqD0/s50-c-k-no/photo.jpg",
      "userId": "104307473242491844073"
     },
     "user_tz": -120
    },
    "id": "WDQAYmxfiAu_",
    "outputId": "43857ec0-b997-4714-854d-10e44b69d454"
   },
   "outputs": [
    {
     "name": "stdout",
     "output_type": "stream",
     "text": [
      "они пошёл\n"
     ]
    }
   ],
   "source": [
    "response = generate_response(\"Кто пришёл\", False)\n",
    "print(response)"
   ]
  },
  {
   "cell_type": "markdown",
   "metadata": {
    "colab_type": "text",
    "id": "1P3FHg2mpqRw"
   },
   "source": [
    "**Задание:** сделать согласование с местоимениями."
   ]
  },
  {
   "cell_type": "code",
   "execution_count": 0,
   "metadata": {
    "colab": {
     "autoexec": {
      "startup": false,
      "wait_interval": 0
     },
     "base_uri": "https://localhost:8080/",
     "height": 292
    },
    "colab_type": "code",
    "executionInfo": {
     "elapsed": 1388,
     "status": "ok",
     "timestamp": 1525511684254,
     "user": {
      "displayName": "Ekaterina Loginova",
      "photoUrl": "//lh5.googleusercontent.com/-rTHOnLQH_r8/AAAAAAAAAAI/AAAAAAAALEs/6WzKwScZqD0/s50-c-k-no/photo.jpg",
      "userId": "104307473242491844073"
     },
     "user_tz": -120
    },
    "id": "b3UwvCFliLU2",
    "outputId": "86d3d6e8-ffa7-4e14-a919-7c14a18b1fc8"
   },
   "outputs": [
    {
     "name": "stdout",
     "output_type": "stream",
     "text": [
      "[{'analysis': [{'lex': 'я', 'gr': 'SPRO,ед,1-л=им'}], 'text': 'Я'}, {'text': ' '}, {'analysis': [{'lex': 'идти', 'gr': 'V,несов,нп=непрош,ед,изъяв,1-л'}], 'text': 'иду'}, {'text': ' '}, {'analysis': [{'lex': 'по', 'gr': 'PR='}], 'text': 'по'}, {'text': ' '}, {'analysis': [{'lex': 'улица', 'gr': 'S,жен,неод=(пр,ед|дат,ед)'}], 'text': 'улице'}, {'text': '\\n'}]\n",
      "POS tag: SPRO\n",
      "Random word: я\n",
      "Grammems to change: ['им']\n",
      "POS tag: V\n",
      "Random word: происходить\n",
      "Grammems to change: ['непрош', 'ед', 'изъяв', '1-л']\n",
      "POS tag: PR\n",
      "Random word: по\n",
      "Grammems to change: ['']\n",
      "POS tag: S\n",
      "Random word: форма\n",
      "Grammems to change: ['пр', 'ед']\n",
      "Response: я происхожу по форме\n",
      "я происхожу по форме\n"
     ]
    }
   ],
   "source": [
    "response = generate_response(\"Я иду по улице\", True)\n",
    "print(response)"
   ]
  },
  {
   "cell_type": "code",
   "execution_count": 0,
   "metadata": {
    "colab": {
     "autoexec": {
      "startup": false,
      "wait_interval": 0
     },
     "base_uri": "https://localhost:8080/",
     "height": 292
    },
    "colab_type": "code",
    "executionInfo": {
     "elapsed": 422,
     "status": "ok",
     "timestamp": 1525511694110,
     "user": {
      "displayName": "Ekaterina Loginova",
      "photoUrl": "//lh5.googleusercontent.com/-rTHOnLQH_r8/AAAAAAAAAAI/AAAAAAAALEs/6WzKwScZqD0/s50-c-k-no/photo.jpg",
      "userId": "104307473242491844073"
     },
     "user_tz": -120
    },
    "id": "ouTrGNtLktHC",
    "outputId": "95857fa5-ac3f-4a1e-c168-15c7d9d3fe0d"
   },
   "outputs": [
    {
     "name": "stdout",
     "output_type": "stream",
     "text": [
      "[{'analysis': [{'lex': 'я', 'gr': 'SPRO,ед,1-л=им'}], 'text': 'Я'}, {'text': ' '}, {'analysis': [{'lex': 'идти', 'gr': 'V,несов,нп=непрош,ед,изъяв,1-л'}], 'text': 'иду'}, {'text': ' '}, {'analysis': [{'lex': 'по', 'gr': 'PR='}], 'text': 'по'}, {'text': ' '}, {'analysis': [{'lex': 'улица', 'gr': 'S,жен,неод=(пр,ед|дат,ед)'}], 'text': 'улице'}, {'text': '\\n'}]\n",
      "POS tag: SPRO\n",
      "Random word: я\n",
      "Grammems to change: ['им']\n",
      "POS tag: V\n",
      "Random word: приезжать\n",
      "Grammems to change: ['непрош', 'ед', 'изъяв', '1-л']\n",
      "POS tag: PR\n",
      "Random word: из-за\n",
      "Grammems to change: ['']\n",
      "POS tag: S\n",
      "Random word: минута\n",
      "Grammems to change: ['пр', 'ед']\n",
      "Response: я приезжаю из-за минуте\n",
      "я приезжаю из-за минуте\n"
     ]
    }
   ],
   "source": [
    "response = generate_response(\"Я иду по улице\", True)\n",
    "print(response)"
   ]
  },
  {
   "cell_type": "markdown",
   "metadata": {
    "colab_type": "text",
    "id": "bbkYI1ghMCGo"
   },
   "source": [
    "**Над чем еще поработать:**\n",
    "1. Имена собственные\n",
    "2. Местоимения\n",
    "3. Оформление\n",
    "4. Учитывать при pymorphy разбор майстема"
   ]
  },
  {
   "cell_type": "code",
   "execution_count": 12,
   "metadata": {
    "colab": {
     "autoexec": {
      "startup": false,
      "wait_interval": 0
     },
     "base_uri": "https://localhost:8080/",
     "height": 195
    },
    "colab_type": "code",
    "executionInfo": {
     "elapsed": 630,
     "status": "error",
     "timestamp": 1525706328234,
     "user": {
      "displayName": "Papa JoStick",
      "photoUrl": "//lh6.googleusercontent.com/-Jf5kd07EGUs/AAAAAAAAAAI/AAAAAAAAAAQ/rF-3rTLwsMc/s50-c-k-no/photo.jpg",
      "userId": "103387557085827987438"
     },
     "user_tz": -180
    },
    "id": "ITSecwfTLqx8",
    "outputId": "765496f6-fefc-4b52-f407-7105e985277f"
   },
   "outputs": [
    {
     "ename": "NameError",
     "evalue": "ignored",
     "output_type": "error",
     "traceback": [
      "\u001b[0;31m---------------------------------------------------------------------------\u001b[0m",
      "\u001b[0;31mNameError\u001b[0m                                 Traceback (most recent call last)",
      "\u001b[0;32m<ipython-input-12-775493683be3>\u001b[0m in \u001b[0;36m<module>\u001b[0;34m()\u001b[0m\n\u001b[0;32m----> 1\u001b[0;31m \u001b[0mresponse\u001b[0m \u001b[0;34m=\u001b[0m \u001b[0mgenerate_response\u001b[0m\u001b[0;34m(\u001b[0m\u001b[0;34m\"Маша иду по Арбату\"\u001b[0m\u001b[0;34m,\u001b[0m \u001b[0;32mTrue\u001b[0m\u001b[0;34m)\u001b[0m\u001b[0;34m\u001b[0m\u001b[0m\n\u001b[0m\u001b[1;32m      2\u001b[0m \u001b[0mprint\u001b[0m\u001b[0;34m(\u001b[0m\u001b[0mresponse\u001b[0m\u001b[0;34m)\u001b[0m\u001b[0;34m\u001b[0m\u001b[0m\n",
      "\u001b[0;31mNameError\u001b[0m: name 'generate_response' is not defined"
     ]
    }
   ],
   "source": [
    "response = generate_response(\"Маша иду по Арбату\", True)\n",
    "print(response)"
   ]
  },
  {
   "cell_type": "code",
   "execution_count": 0,
   "metadata": {
    "colab": {
     "autoexec": {
      "startup": false,
      "wait_interval": 0
     }
    },
    "colab_type": "code",
    "collapsed": true,
    "id": "G303NgmY8HPe"
   },
   "outputs": [],
   "source": [
    "text = \"Маша идёт по Арбату\"\n",
    "response = \"петя гуляет по москве\""
   ]
  },
  {
   "cell_type": "code",
   "execution_count": 7,
   "metadata": {
    "colab": {
     "autoexec": {
      "startup": false,
      "wait_interval": 0
     },
     "base_uri": "https://localhost:8080/",
     "height": 56
    },
    "colab_type": "code",
    "executionInfo": {
     "elapsed": 1636,
     "status": "ok",
     "timestamp": 1525853336506,
     "user": {
      "displayName": "Papa JoStick",
      "photoUrl": "//lh6.googleusercontent.com/-Jf5kd07EGUs/AAAAAAAAAAI/AAAAAAAAAAQ/rF-3rTLwsMc/s50-c-k-no/photo.jpg",
      "userId": "103387557085827987438"
     },
     "user_tz": -180
    },
    "id": "aEMw3sDt8WPw",
    "outputId": "76a3b8d1-ef61-4a46-9867-ca0f725bbd7e"
   },
   "outputs": [
    {
     "name": "stdout",
     "output_type": "stream",
     "text": [
      "[{'analysis': [{'lex': 'маша', 'gr': 'S,имя,жен,од=им,ед'}], 'text': 'Маша'}, {'text': ' '}, {'analysis': [{'lex': 'идти', 'gr': 'V,несов,нп=непрош,ед,изъяв,3-л'}], 'text': 'идёт'}, {'text': ' '}, {'analysis': [{'lex': 'по', 'gr': 'PR='}], 'text': 'по'}, {'text': ' '}, {'analysis': [{'lex': 'арбат', 'gr': 'S,гео,муж,неод=дат,ед'}], 'text': 'Арбату'}, {'text': '\\n'}]\n"
     ]
    }
   ],
   "source": [
    "ana = m.analyze(text)\n",
    "print(ana)"
   ]
  },
  {
   "cell_type": "code",
   "execution_count": 0,
   "metadata": {
    "colab": {
     "autoexec": {
      "startup": false,
      "wait_interval": 0
     }
    },
    "colab_type": "code",
    "collapsed": true,
    "id": "nU0xbO_68nrc"
   },
   "outputs": [],
   "source": [
    "def preserve_case(text, response):\n",
    "  cased_response = []\n",
    "  tokens_response = response.split()\n",
    "  for i, w in enumerate(text.split()):\n",
    "    if w[0].isupper():\n",
    "      cased_response.append(tokens_response[i].capitalize())\n",
    "    else:\n",
    "      cased_response.append(tokens_response[i].lower())\n",
    "  return ' '.join(cased_response)"
   ]
  },
  {
   "cell_type": "code",
   "execution_count": 17,
   "metadata": {
    "colab": {
     "autoexec": {
      "startup": false,
      "wait_interval": 0
     },
     "base_uri": "https://localhost:8080/",
     "height": 36
    },
    "colab_type": "code",
    "executionInfo": {
     "elapsed": 400,
     "status": "ok",
     "timestamp": 1525853719512,
     "user": {
      "displayName": "Papa JoStick",
      "photoUrl": "//lh6.googleusercontent.com/-Jf5kd07EGUs/AAAAAAAAAAI/AAAAAAAAAAQ/rF-3rTLwsMc/s50-c-k-no/photo.jpg",
      "userId": "103387557085827987438"
     },
     "user_tz": -180
    },
    "id": "1ti_6nnF9I0q",
    "outputId": "f6d4ae15-2757-4b3d-cc7c-5b2f2313381f"
   },
   "outputs": [
    {
     "data": {
      "text/plain": [
       "'Петя гуляет по Москве'"
      ]
     },
     "execution_count": 17,
     "metadata": {
      "tags": []
     },
     "output_type": "execute_result"
    }
   ],
   "source": [
    "preserve_case(\"Маша идёт по Арбату\", response)"
   ]
  },
  {
   "cell_type": "code",
   "execution_count": 14,
   "metadata": {
    "colab": {
     "autoexec": {
      "startup": false,
      "wait_interval": 0
     },
     "base_uri": "https://localhost:8080/",
     "height": 36
    },
    "colab_type": "code",
    "executionInfo": {
     "elapsed": 670,
     "status": "ok",
     "timestamp": 1525853549218,
     "user": {
      "displayName": "Papa JoStick",
      "photoUrl": "//lh6.googleusercontent.com/-Jf5kd07EGUs/AAAAAAAAAAI/AAAAAAAAAAQ/rF-3rTLwsMc/s50-c-k-no/photo.jpg",
      "userId": "103387557085827987438"
     },
     "user_tz": -180
    },
    "id": "HoXGBXra9VH6",
    "outputId": "7499c806-38b8-4b91-c7ed-30fb15283cb1"
   },
   "outputs": [
    {
     "data": {
      "text/plain": [
       "False"
      ]
     },
     "execution_count": 14,
     "metadata": {
      "tags": []
     },
     "output_type": "execute_result"
    }
   ],
   "source": [
    "str.isupper('w')"
   ]
  },
  {
   "cell_type": "markdown",
   "metadata": {
    "colab_type": "text",
    "id": "pfyD1lC5pxIk"
   },
   "source": [
    "**Задание:** сделать согласование с предлогами."
   ]
  },
  {
   "cell_type": "markdown",
   "metadata": {
    "colab_type": "text",
    "id": "21pWXvll4MBV"
   },
   "source": [
    "**Задание:** сделать выбор разбора pyMorphy через разбор Mystem"
   ]
  },
  {
   "cell_type": "markdown",
   "metadata": {
    "colab_type": "text",
    "id": "Dd204E0a6Tt8"
   },
   "source": [
    "**Задание:** сохранить исходный регистр слов."
   ]
  },
  {
   "cell_type": "markdown",
   "metadata": {
    "colab_type": "text",
    "id": "z0QQkVwIp58J"
   },
   "source": [
    "# Веб-интерфейс"
   ]
  },
  {
   "cell_type": "markdown",
   "metadata": {
    "colab_type": "text",
    "id": "nP_3GUWoqGQP"
   },
   "source": [
    "1. Зарегистрироваться на https://pythonanywhere.com\n",
    "2. Открыть Bash консоль и создать виртуальную переменную. https://help.pythonanywhere.com/pages/VirtualEnvForNewerDjango\n",
    "3. Установить необходимые библиотеки. https://help.pythonanywhere.com/pages/InstallingNewModules/\n",
    "4. Указать созданную виртуальную переменную в настройках веб-приложения. https://www.pythonanywhere.com/user/uchido/webapps/#tab_id_uchido_pythonanywhere_com\n",
    "5. Скачать распакованный корпус и положить его в рабочую директорию веб-приложения.\n",
    "6. Создать папку templates в рабочей директории веб-приложения и создать там файл index.html с кодом Bootstrap шаблона (можно скопировать исходный код примера: https://getbootstrap.com/docs/4.1/examples/starter-template/)\n",
    "7. Flask код веб-приложения содержится в flask_app.py"
   ]
  },
  {
   "cell_type": "markdown",
   "metadata": {
    "colab_type": "text",
    "id": "wgzR_OZQrEqa"
   },
   "source": [
    "Самое базовое приложение - печатает строчку."
   ]
  },
  {
   "cell_type": "code",
   "execution_count": 0,
   "metadata": {
    "colab": {
     "autoexec": {
      "startup": false,
      "wait_interval": 0
     }
    },
    "colab_type": "code",
    "collapsed": true,
    "id": "p0vtaGhurEzR"
   },
   "outputs": [],
   "source": [
    "from flask import Flask\n",
    "\n",
    "app = Flask(__name__)\n",
    "\n",
    "@app.route('/')\n",
    "def hello_world():\n",
    "    return 'Hello from Flask!'"
   ]
  },
  {
   "cell_type": "markdown",
   "metadata": {
    "colab_type": "text",
    "id": "4o1gJCyJrJwk"
   },
   "source": [
    "Добавляем отображение HTML шаблона"
   ]
  },
  {
   "cell_type": "code",
   "execution_count": 0,
   "metadata": {
    "colab": {
     "autoexec": {
      "startup": false,
      "wait_interval": 0
     }
    },
    "colab_type": "code",
    "collapsed": true,
    "id": "E409LSukrJbr"
   },
   "outputs": [],
   "source": [
    "from flask import render_template\n",
    "@app.route('/')\n",
    "def main():\n",
    "    return render_template('index.html'"
   ]
  },
  {
   "cell_type": "markdown",
   "metadata": {
    "colab_type": "text",
    "id": "5jxiIxtgrMN_"
   },
   "source": [
    "Добавляем вывод текста"
   ]
  },
  {
   "cell_type": "markdown",
   "metadata": {
    "colab_type": "text",
    "id": "6r2glLserXXb"
   },
   "source": [
    "\n",
    "\n",
    "```\n",
    "        <p>\n",
    "            {{statement|safe}}\n",
    "        </p>\n",
    "```\n",
    "\n"
   ]
  },
  {
   "cell_type": "code",
   "execution_count": 0,
   "metadata": {
    "colab": {
     "autoexec": {
      "startup": false,
      "wait_interval": 0
     }
    },
    "colab_type": "code",
    "collapsed": true,
    "id": "EMgYlMsSrNB7"
   },
   "outputs": [],
   "source": [
    "from flask import render_template\n",
    "@app.route('/')\n",
    "def main():\n",
    "    return render_template('index.html', statement = \"Hello!\")"
   ]
  },
  {
   "cell_type": "markdown",
   "metadata": {
    "colab_type": "text",
    "id": "ZE5QVKZyrO_n"
   },
   "source": [
    "Добавляем получение текста от пользователя"
   ]
  },
  {
   "cell_type": "markdown",
   "metadata": {
    "colab_type": "text",
    "id": "18g8s72krZsy"
   },
   "source": [
    "\n",
    "\n",
    "```\n",
    "<form method=\"POST\">\n",
    "  <input name=\"text\">\n",
    "  <input type=\"submit\">\n",
    "</form>\n",
    "```\n",
    "\n"
   ]
  },
  {
   "cell_type": "code",
   "execution_count": 0,
   "metadata": {
    "colab": {
     "autoexec": {
      "startup": false,
      "wait_interval": 0
     }
    },
    "colab_type": "code",
    "collapsed": true,
    "id": "QJ3Z5iLFrOs2"
   },
   "outputs": [],
   "source": [
    "from flask import request\n",
    "@app.route('/')\n",
    "def main():\n",
    "    return render_template('index.html')\n",
    "\n",
    "@app.route('/', methods=['POST'])\n",
    "def main_post():\n",
    "    statement = request.form['text']\n",
    "    return render_template('index.html', statement = statement)"
   ]
  },
  {
   "cell_type": "markdown",
   "metadata": {
    "colab_type": "text",
    "id": "mRhxs_omreFb"
   },
   "source": [
    "Добавляем работу с библиотеками."
   ]
  },
  {
   "cell_type": "code",
   "execution_count": 0,
   "metadata": {
    "colab": {
     "autoexec": {
      "startup": false,
      "wait_interval": 0
     }
    },
    "colab_type": "code",
    "collapsed": true,
    "id": "OP9T66Jep5fO"
   },
   "outputs": [],
   "source": [
    "from pymystem3 import Mystem\n",
    "import pymorphy2\n",
    "from pymorphy2 import MorphAnalyzer\n",
    "morph = MorphAnalyzer()\n",
    "m = Mystem()\n",
    "\n",
    "@app.route('/')\n",
    "def main():\n",
    "    return render_template('index.html')\n",
    "\n",
    "@app.route('/', methods=['POST'])\n",
    "def main_post():\n",
    "    statement = m.analyze(request.form['text'])\n",
    "    return render_template('index.html', statement = statement)"
   ]
  }
 ],
 "metadata": {
  "colab": {
   "collapsed_sections": [],
   "default_view": {},
   "name": "Copy of Copy of Морфологический анализ в Python.ipynb",
   "provenance": [
    {
     "file_id": "10ab9njCv4y_K91beZVJ0g2PPP7RiJYBM",
     "timestamp": 1525701796640
    },
    {
     "file_id": "1enO0r9Ads5KkaOkqUb_08kobOAluhcpe",
     "timestamp": 1525506625049
    }
   ],
   "version": "0.3.2",
   "views": {}
  },
  "kernelspec": {
   "display_name": "Python 3",
   "language": "python",
   "name": "python3"
  },
  "language_info": {
   "codemirror_mode": {
    "name": "ipython",
    "version": 3
   },
   "file_extension": ".py",
   "mimetype": "text/x-python",
   "name": "python",
   "nbconvert_exporter": "python",
   "pygments_lexer": "ipython3",
   "version": "3.6.1"
  }
 },
 "nbformat": 4,
 "nbformat_minor": 1
}
